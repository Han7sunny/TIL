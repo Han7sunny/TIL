{
 "cells": [
  {
   "cell_type": "markdown",
   "id": "71a4d5fd",
   "metadata": {},
   "source": [
    "##### 난수 기반 배열 생성"
   ]
  },
  {
   "cell_type": "code",
   "execution_count": 3,
   "id": "f01801a8",
   "metadata": {},
   "outputs": [],
   "source": [
    "import numpy as np\n",
    "def pprint(arr):\n",
    "    print(\"type:{}\".format(type(arr)))\n",
    "    print(\"shape: {}, dimension: {}, dtype:{}\".format(arr.shape, arr.ndim, arr.dtype))\n",
    "    print(\"Array's Data:\\n\", arr)"
   ]
  },
  {
   "cell_type": "code",
   "execution_count": 5,
   "id": "0c6b9ba9",
   "metadata": {},
   "outputs": [
    {
     "name": "stdout",
     "output_type": "stream",
     "text": [
      "type:<class 'numpy.ndarray'>\n",
      "shape: (2, 3), dimension: 2, dtype:float64\n",
      "Array's Data:\n",
      " [[ 2.21948502  1.02291211  2.06616532]\n",
      " [-1.61738307 -0.46637947 -1.28370254]]\n"
     ]
    }
   ],
   "source": [
    "mean = 0 # 정규 분포 평균\n",
    "std = 1 # 표준편차\n",
    "a = np.random.normal(mean, std, (2,3)) # 정규 분포 확률 밀도에서 표본 추출\n",
    "pprint(a)"
   ]
  },
  {
   "cell_type": "code",
   "execution_count": 7,
   "id": "dd3fac98",
   "metadata": {},
   "outputs": [
    {
     "data": {
      "image/png": "[encoded data removed]",
      "text/plain": [
       "<Figure size 432x288 with 1 Axes>"
      ]
     },
     "metadata": {
      "needs_background": "light"
     },
     "output_type": "display_data"
    }
   ],
   "source": [
    "data = np.random.normal(0,1,10000)\n",
    "import matplotlib.pyplot as plt\n",
    "plt.hist(data, bins = 100)# 표본 10000개의 배열을 100개 구간으로 구분\n",
    "plt.show() "
   ]
  },
  {
   "cell_type": "code",
   "execution_count": 8,
   "id": "df82cf50",
   "metadata": {},
   "outputs": [
    {
     "name": "stdout",
     "output_type": "stream",
     "text": [
      "type:<class 'numpy.ndarray'>\n",
      "shape: (3, 2), dimension: 2, dtype:float64\n",
      "Array's Data:\n",
      " [[0.86540562 0.11004915]\n",
      " [0.45074758 0.65902629]\n",
      " [0.52318241 0.92960038]]\n"
     ]
    }
   ],
   "source": [
    "# 균등 분포 형상으로 표본 추출\n",
    "a = np.random.rand(3,2) #  배열 생성 후 난수 0-1 사이로 초기화\n",
    "pprint(a)"
   ]
  },
  {
   "cell_type": "code",
   "execution_count": 9,
   "id": "51f9f8cf",
   "metadata": {},
   "outputs": [
    {
     "data": {
      "image/png": "[encoded data removed]",
      "text/plain": [
       "<Figure size 432x288 with 1 Axes>"
      ]
     },
     "metadata": {
      "needs_background": "light"
     },
     "output_type": "display_data"
    }
   ],
   "source": [
    "data = np.random.rand(10000)\n",
    "import matplotlib.pyplot as plt\n",
    "plt.hist(data,bins=10)\n",
    "plt.show()"
   ]
  },
  {
   "cell_type": "code",
   "execution_count": 10,
   "id": "b02faeb7",
   "metadata": {},
   "outputs": [
    {
     "name": "stdout",
     "output_type": "stream",
     "text": [
      "type:<class 'numpy.ndarray'>\n",
      "shape: (2, 4), dimension: 2, dtype:float64\n",
      "Array's Data:\n",
      " [[-0.79073384 -2.76992534 -1.31754066  0.22993962]\n",
      " [ 0.46861767 -0.76129759  2.29327194 -0.46609947]]\n"
     ]
    }
   ],
   "source": [
    "a = np.random.randn(2,4) # 표준 정규 분포에서 표본 추출\n",
    "pprint(a)"
   ]
  },
  {
   "cell_type": "code",
   "execution_count": 12,
   "id": "ed8261bc",
   "metadata": {},
   "outputs": [
    {
     "name": "stdout",
     "output_type": "stream",
     "text": [
      "type:<class 'numpy.ndarray'>\n",
      "shape: (2, 4), dimension: 2, dtype:int32\n",
      "Array's Data:\n",
      " [[5 5 7 6]\n",
      " [9 5 7 7]]\n"
     ]
    }
   ],
   "source": [
    "a = np.random.randint(5,10,size=(2,4)) \n",
    "# 지정된 shape로 배열을 만들고 low부터 high 미만의 범위에서 정수 표본 추출\n",
    "pprint(a)"
   ]
  },
  {
   "cell_type": "code",
   "execution_count": 13,
   "id": "79152bdd",
   "metadata": {},
   "outputs": [
    {
     "name": "stdout",
     "output_type": "stream",
     "text": [
      "type:<class 'numpy.ndarray'>\n",
      "shape: (10,), dimension: 1, dtype:int32\n",
      "Array's Data:\n",
      " [0 0 0 0 0 0 0 0 0 0]\n"
     ]
    }
   ],
   "source": [
    "a = np.random.randint(1, size=10)\n",
    "pprint(a)"
   ]
  },
  {
   "cell_type": "code",
   "execution_count": 14,
   "id": "c6ed0e12",
   "metadata": {},
   "outputs": [
    {
     "data": {
      "image/png": "[encoded data removed]",
      "text/plain": [
       "<Figure size 432x288 with 1 Axes>"
      ]
     },
     "metadata": {
      "needs_background": "light"
     },
     "output_type": "display_data"
    }
   ],
   "source": [
    "data = np.random.randint(-100,100,10000)\n",
    "import matplotlib.pyplot as plt\n",
    "plt.hist(data,bins=10)\n",
    "plt.show()"
   ]
  },
  {
   "cell_type": "code",
   "execution_count": 15,
   "id": "c233d4ea",
   "metadata": {},
   "outputs": [
    {
     "name": "stdout",
     "output_type": "stream",
     "text": [
      "type:<class 'numpy.ndarray'>\n",
      "shape: (2, 4), dimension: 2, dtype:float64\n",
      "Array's Data:\n",
      " [[0.17112687 0.11867943 0.60053413 0.5263001 ]\n",
      " [0.5728356  0.88264156 0.2626447  0.21226501]]\n"
     ]
    }
   ],
   "source": [
    "# 난수 0-1 사이의 균등 분포에서 표본 추출\n",
    "a = np.random.random((2,4))\n",
    "pprint(a)"
   ]
  },
  {
   "cell_type": "code",
   "execution_count": 16,
   "id": "2c8c9ac6",
   "metadata": {},
   "outputs": [
    {
     "data": {
      "image/png": "[encoded data removed]",
      "text/plain": [
       "<Figure size 432x288 with 1 Axes>"
      ]
     },
     "metadata": {
      "needs_background": "light"
     },
     "output_type": "display_data"
    }
   ],
   "source": [
    "data = np.random.random(100000)\n",
    "import matplotlib.pyplot as plt\n",
    "plt.hist(data,bins=10)\n",
    "plt.show()"
   ]
  },
  {
   "cell_type": "markdown",
   "id": "f90dbd9e",
   "metadata": {},
   "source": [
    "# 약속된 난수"
   ]
  },
  {
   "cell_type": "markdown",
   "id": "adb6bf1e",
   "metadata": {},
   "source": [
    "##### 시작점을 설정하여 난수 발생을 재연 -> np.random.seed"
   ]
  },
  {
   "cell_type": "code",
   "execution_count": 17,
   "id": "3a75934a",
   "metadata": {},
   "outputs": [],
   "source": [
    "np.random.seed(100)\n",
    "# seed 값 설정하여 난수 재사용"
   ]
  },
  {
   "cell_type": "code",
   "execution_count": 18,
   "id": "9afc44b5",
   "metadata": {},
   "outputs": [
    {
     "data": {
      "text/plain": [
       "array([[0.54340494, 0.27836939],\n",
       "       [0.42451759, 0.84477613]])"
      ]
     },
     "execution_count": 18,
     "metadata": {},
     "output_type": "execute_result"
    }
   ],
   "source": [
    "np.random.random((2,2))"
   ]
  },
  {
   "cell_type": "code",
   "execution_count": 19,
   "id": "000cb003",
   "metadata": {},
   "outputs": [
    {
     "data": {
      "text/plain": [
       "array([[4, 2, 5],\n",
       "       [2, 2, 2]])"
      ]
     },
     "execution_count": 19,
     "metadata": {},
     "output_type": "execute_result"
    }
   ],
   "source": [
    "np.random.randint(0, 10, (2,3))"
   ]
  },
  {
   "cell_type": "code",
   "execution_count": 20,
   "id": "a5ff9ff7",
   "metadata": {},
   "outputs": [],
   "source": [
    "np.random.seed(100)\n",
    "# seed 값 재설정"
   ]
  },
  {
   "cell_type": "code",
   "execution_count": 21,
   "id": "44393c98",
   "metadata": {},
   "outputs": [
    {
     "data": {
      "text/plain": [
       "array([[0.54340494, 0.27836939],\n",
       "       [0.42451759, 0.84477613]])"
      ]
     },
     "execution_count": 21,
     "metadata": {},
     "output_type": "execute_result"
    }
   ],
   "source": [
    "np.random.random((2,2))\n",
    "# 위 난수의 재연"
   ]
  },
  {
   "cell_type": "code",
   "execution_count": 22,
   "id": "b2c5685c",
   "metadata": {},
   "outputs": [
    {
     "data": {
      "text/plain": [
       "array([[4, 2, 5],\n",
       "       [2, 2, 2]])"
      ]
     },
     "execution_count": 22,
     "metadata": {},
     "output_type": "execute_result"
    }
   ],
   "source": [
    "np.random.randint(0, 10, (2,3))\n",
    "# 위 난수의 재연"
   ]
  },
  {
   "cell_type": "markdown",
   "id": "41d1f89f",
   "metadata": {},
   "source": [
    "# Numpy 입출력"
   ]
  },
  {
   "cell_type": "code",
   "execution_count": 23,
   "id": "4b12b570",
   "metadata": {},
   "outputs": [
    {
     "name": "stdout",
     "output_type": "stream",
     "text": [
      "type:<class 'numpy.ndarray'>\n",
      "shape: (2, 3), dimension: 2, dtype:int32\n",
      "Array's Data:\n",
      " [[1 0 8]\n",
      " [4 0 9]]\n",
      "type:<class 'numpy.ndarray'>\n",
      "shape: (2, 3), dimension: 2, dtype:int32\n",
      "Array's Data:\n",
      " [[6 2 4]\n",
      " [1 5 3]]\n"
     ]
    }
   ],
   "source": [
    "a = np.random.randint(0, 10, (2,3))\n",
    "b = np.random.randint(0, 10, (2,3))\n",
    "pprint(a)\n",
    "pprint(b)"
   ]
  },
  {
   "cell_type": "code",
   "execution_count": 24,
   "id": "1123a86d",
   "metadata": {},
   "outputs": [],
   "source": [
    "np.save(\"./my_array1\", a) # 배열 파일 1개 저장"
   ]
  },
  {
   "cell_type": "code",
   "execution_count": 197,
   "id": "ce39cc14",
   "metadata": {},
   "outputs": [
    {
     "name": "stdout",
     "output_type": "stream",
     "text": [
      " C 드라이브의 볼륨에는 이름이 없습니다.\n",
      " 볼륨 일련 번호: 0A28-4DD8\n",
      "\n",
      " C:\\Users\\sunhee 디렉터리\n",
      "\n",
      "\n",
      " C:\\Users\\sunhee 디렉터리\n",
      "\n",
      "2021-08-31  오후 12:26               152 my_array1.npy\n",
      "               1개 파일                 152 바이트\n",
      "               0개 디렉터리  331,455,533,056 바이트 남음\n"
     ]
    }
   ],
   "source": [
    "# !ls -al my_array1*  # linux\n",
    "# 파일 조회\n",
    "%ls -al my_array1* "
   ]
  },
  {
   "cell_type": "code",
   "execution_count": 34,
   "id": "60d147e6",
   "metadata": {},
   "outputs": [],
   "source": [
    "np.savez(\"my_array2\", a, b) # 파일 여러개 저장"
   ]
  },
  {
   "cell_type": "code",
   "execution_count": 43,
   "id": "dfa6c459",
   "metadata": {},
   "outputs": [
    {
     "name": "stdout",
     "output_type": "stream",
     "text": [
      " C 드라이브의 볼륨에는 이름이 없습니다.\n",
      " 볼륨 일련 번호: 0A28-4DD8\n",
      "\n",
      " C:\\Users\\sunhee 디렉터리\n",
      "\n",
      "\n",
      " C:\\Users\\sunhee 디렉터리\n",
      "\n",
      "2021-08-31  오후 12:31               554 my_array2.npz\n",
      "               1개 파일                 554 바이트\n",
      "               0개 디렉터리  331,638,206,464 바이트 남음\n"
     ]
    }
   ],
   "source": [
    "%ls -al my_array2*"
   ]
  },
  {
   "cell_type": "markdown",
   "id": "1ed9d4f0",
   "metadata": {},
   "source": [
    "###### npy와 npz 파일은  np.load함수로 읽을 수 있음"
   ]
  },
  {
   "cell_type": "code",
   "execution_count": 36,
   "id": "4238d88f",
   "metadata": {},
   "outputs": [
    {
     "data": {
      "text/plain": [
       "array([[1, 0, 8],\n",
       "       [4, 0, 9]])"
      ]
     },
     "execution_count": 36,
     "metadata": {},
     "output_type": "execute_result"
    }
   ],
   "source": [
    "np.load(\"./my_array1.npy\")"
   ]
  },
  {
   "cell_type": "code",
   "execution_count": 38,
   "id": "99eb34cc",
   "metadata": {},
   "outputs": [
    {
     "data": {
      "text/plain": [
       "['arr_0', 'arr_1']"
      ]
     },
     "execution_count": 38,
     "metadata": {},
     "output_type": "execute_result"
    }
   ],
   "source": [
    "npzfiles = np.load(\"./my_array2.npz\") # 복수 파일 로딩\n",
    "npzfiles.files"
   ]
  },
  {
   "cell_type": "code",
   "execution_count": 39,
   "id": "18de0c2d",
   "metadata": {},
   "outputs": [
    {
     "data": {
      "text/plain": [
       "array([[1, 0, 8],\n",
       "       [4, 0, 9]])"
      ]
     },
     "execution_count": 39,
     "metadata": {},
     "output_type": "execute_result"
    }
   ],
   "source": [
    "npzfiles['arr_0']"
   ]
  },
  {
   "cell_type": "code",
   "execution_count": 40,
   "id": "4ac7111f",
   "metadata": {},
   "outputs": [
    {
     "data": {
      "text/plain": [
       "array([[6, 2, 4],\n",
       "       [1, 5, 3]])"
      ]
     },
     "execution_count": 40,
     "metadata": {},
     "output_type": "execute_result"
    }
   ],
   "source": [
    "npzfiles['arr_1']"
   ]
  },
  {
   "cell_type": "markdown",
   "id": "6ba9af9e",
   "metadata": {},
   "source": [
    "###### 텍스트 파일 로딩"
   ]
  },
  {
   "cell_type": "code",
   "execution_count": 202,
   "id": "98c03a75",
   "metadata": {},
   "outputs": [],
   "source": [
    "#simple.csv 파일 먼저 생성하고\n",
    "# !cat ./p_h.csv"
   ]
  },
  {
   "cell_type": "code",
   "execution_count": 201,
   "id": "11a947e5",
   "metadata": {},
   "outputs": [],
   "source": [
    "# np.loadtxt(\"./p_h.csv\")\n",
    "# 기본 데이터 타입은 float로 설정됨\n",
    "# dtype 속성으로 데이터 타입 변경 가능\n",
    "# 파일 데이터 배열로 로딩"
   ]
  },
  {
   "cell_type": "code",
   "execution_count": 203,
   "id": "3d984929",
   "metadata": {},
   "outputs": [],
   "source": [
    "# !header -n 3 ./p_h.csv\n",
    "# 헤더 라인 : 1개"
   ]
  },
  {
   "cell_type": "code",
   "execution_count": 53,
   "id": "1cb10145",
   "metadata": {},
   "outputs": [
    {
     "data": {
      "text/plain": [
       "array([(1, b' George Washington', 189.), (2, b' John Adams', 170.)],\n",
       "      dtype=[('order', '<i4'), ('name', 'S20'), ('height', '<f4')])"
      ]
     },
     "execution_count": 53,
     "metadata": {},
     "output_type": "execute_result"
    }
   ],
   "source": [
    "data = np.loadtxt(\"./p_h.csv\", delimiter=\",\", skiprows=1,dtype={\n",
    "    'names': (\"order\",\"name\",\"height\"),\n",
    "    'formats':('i','S20','f')\n",
    "})\n",
    "data[:3]"
   ]
  },
  {
   "cell_type": "markdown",
   "id": "e0066a86",
   "metadata": {},
   "source": [
    "###### 배열 객체 텍스트 파일로 저장"
   ]
  },
  {
   "cell_type": "code",
   "execution_count": 55,
   "id": "f6a3555f",
   "metadata": {},
   "outputs": [
    {
     "name": "stdout",
     "output_type": "stream",
     "text": [
      "type:<class 'numpy.ndarray'>\n",
      "shape: (3, 4), dimension: 2, dtype:float64\n",
      "Array's Data:\n",
      " [[0.27407375 0.43170418 0.94002982 0.81764938]\n",
      " [0.33611195 0.17541045 0.37283205 0.00568851]\n",
      " [0.25242635 0.79566251 0.01525497 0.59884338]]\n"
     ]
    }
   ],
   "source": [
    "# create demo data\n",
    "data = np.random.random((3,4))\n",
    "pprint(data)"
   ]
  },
  {
   "cell_type": "code",
   "execution_count": 56,
   "id": "cf7c1956",
   "metadata": {},
   "outputs": [],
   "source": [
    "# 배열 객체 텍스트 파일로 저장\n",
    "np.savetxt(\"./saved0831.csv\", data, delimiter=\",\")"
   ]
  },
  {
   "cell_type": "code",
   "execution_count": 59,
   "id": "bf856a67",
   "metadata": {},
   "outputs": [],
   "source": [
    "# cat ./saved0831.csv\n",
    "# windows shell"
   ]
  },
  {
   "cell_type": "code",
   "execution_count": 58,
   "id": "587b6103",
   "metadata": {
    "scrolled": true
   },
   "outputs": [
    {
     "data": {
      "text/plain": [
       "array([[0.27407375, 0.43170418, 0.94002982, 0.81764938],\n",
       "       [0.33611195, 0.17541045, 0.37283205, 0.00568851],\n",
       "       [0.25242635, 0.79566251, 0.01525497, 0.59884338]])"
      ]
     },
     "execution_count": 58,
     "metadata": {},
     "output_type": "execute_result"
    }
   ],
   "source": [
    "np.loadtxt(\"./saved0831.csv\", delimiter=\",\")"
   ]
  },
  {
   "cell_type": "markdown",
   "id": "56d1cafb",
   "metadata": {},
   "source": [
    "## 실습\n",
    "###### 공공데이터포털에서 csv 파일로 불러오기"
   ]
  },
  {
   "cell_type": "code",
   "execution_count": 198,
   "id": "ebeeb2fe",
   "metadata": {},
   "outputs": [],
   "source": [
    "# data = np.loadtxt(\"./food.csv\", delimiter=\",\",skiprows=1,encoding='ISO-8859-1',dtype={\n",
    "#     'names':(\"업체명\",\"순번\",\"브랜드\",\"주요메뉴\",\"구분\",\"진출국가\",\"총점포수\"),\n",
    "#     'formats':('S20','i','S20','S20','S20','S20','i')\n",
    "# })\n",
    "# data[:4]"
   ]
  },
  {
   "cell_type": "code",
   "execution_count": 83,
   "id": "4aadc248",
   "metadata": {},
   "outputs": [],
   "source": [
    "# numpy 한글 컴파일 문제 있음\n",
    "# 다른 이름으로 저장 -> csv-utf-8\n",
    "import pandas as pd\n",
    "df = pd.read_csv(\"./food.csv\")"
   ]
  },
  {
   "cell_type": "code",
   "execution_count": 82,
   "id": "25964f91",
   "metadata": {},
   "outputs": [
    {
     "data": {
      "text/html": [
       "<div>\n",
       "<style scoped>\n",
       "    .dataframe tbody tr th:only-of-type {\n",
       "        vertical-align: middle;\n",
       "    }\n",
       "\n",
       "    .dataframe tbody tr th {\n",
       "        vertical-align: top;\n",
       "    }\n",
       "\n",
       "    .dataframe thead th {\n",
       "        text-align: right;\n",
       "    }\n",
       "</style>\n",
       "<table border=\"1\" class=\"dataframe\">\n",
       "  <thead>\n",
       "    <tr style=\"text-align: right;\">\n",
       "      <th></th>\n",
       "      <th>업체명</th>\n",
       "      <th>순번</th>\n",
       "      <th>브랜드</th>\n",
       "      <th>주요메뉴</th>\n",
       "      <th>구분</th>\n",
       "      <th>진출국가</th>\n",
       "      <th>총점포수</th>\n",
       "    </tr>\n",
       "  </thead>\n",
       "  <tbody>\n",
       "    <tr>\n",
       "      <th>0</th>\n",
       "      <td>CJ푸드빌</td>\n",
       "      <td>1</td>\n",
       "      <td>비비고</td>\n",
       "      <td>한식,면요리</td>\n",
       "      <td>한식</td>\n",
       "      <td>미국(4), 베트남(1), 싱가포르(3), 영국(1), 일본(7), 중국(6)</td>\n",
       "      <td>22</td>\n",
       "    </tr>\n",
       "    <tr>\n",
       "      <th>1</th>\n",
       "      <td>CJ푸드빌</td>\n",
       "      <td>2</td>\n",
       "      <td>뚜레쥬르</td>\n",
       "      <td>제빵</td>\n",
       "      <td>비한식</td>\n",
       "      <td>말레이시아(3), 미국(23), 베트남(25), 인도네시아(9), 중국(25), 캄...</td>\n",
       "      <td>97</td>\n",
       "    </tr>\n",
       "    <tr>\n",
       "      <th>2</th>\n",
       "      <td>CJ푸드빌</td>\n",
       "      <td>3</td>\n",
       "      <td>CJ푸드월드</td>\n",
       "      <td>복합외식</td>\n",
       "      <td>비한식</td>\n",
       "      <td>중국(1)</td>\n",
       "      <td>1</td>\n",
       "    </tr>\n",
       "    <tr>\n",
       "      <th>3</th>\n",
       "      <td>CJ푸드빌</td>\n",
       "      <td>4</td>\n",
       "      <td>빕스</td>\n",
       "      <td>뷔페</td>\n",
       "      <td>비한식</td>\n",
       "      <td>중국(1)</td>\n",
       "      <td>1</td>\n",
       "    </tr>\n",
       "    <tr>\n",
       "      <th>4</th>\n",
       "      <td>CJ푸드빌</td>\n",
       "      <td>5</td>\n",
       "      <td>투썸플레이스</td>\n",
       "      <td>커피</td>\n",
       "      <td>비한식</td>\n",
       "      <td>중국(6)</td>\n",
       "      <td>6</td>\n",
       "    </tr>\n",
       "    <tr>\n",
       "      <th>...</th>\n",
       "      <td>...</td>\n",
       "      <td>...</td>\n",
       "      <td>...</td>\n",
       "      <td>...</td>\n",
       "      <td>...</td>\n",
       "      <td>...</td>\n",
       "      <td>...</td>\n",
       "    </tr>\n",
       "    <tr>\n",
       "      <th>105</th>\n",
       "      <td>㈜후스타일</td>\n",
       "      <td>106</td>\n",
       "      <td>요거베리</td>\n",
       "      <td>요거트 아이스크림</td>\n",
       "      <td>비한식</td>\n",
       "      <td>UAE(3), 코스타리카 (1), 미국(4), 뉴질랜드(1), 호주(4), 베네주엘...</td>\n",
       "      <td>25</td>\n",
       "    </tr>\n",
       "    <tr>\n",
       "      <th>106</th>\n",
       "      <td>크라제인터네셔날</td>\n",
       "      <td>107</td>\n",
       "      <td>크라제버거</td>\n",
       "      <td>수제버거</td>\n",
       "      <td>비한식</td>\n",
       "      <td>미국(2), 싱가포르(2), 홍콩(2)</td>\n",
       "      <td>6</td>\n",
       "    </tr>\n",
       "    <tr>\n",
       "      <th>107</th>\n",
       "      <td>한국미스터피자</td>\n",
       "      <td>108</td>\n",
       "      <td>미스터피자</td>\n",
       "      <td>피자</td>\n",
       "      <td>비한식</td>\n",
       "      <td>미국(2), 베트남(2), 중국(24)</td>\n",
       "      <td>28</td>\n",
       "    </tr>\n",
       "    <tr>\n",
       "      <th>108</th>\n",
       "      <td>한스델리</td>\n",
       "      <td>109</td>\n",
       "      <td>한스델리</td>\n",
       "      <td>패밀리레스토랑</td>\n",
       "      <td>비한식</td>\n",
       "      <td>중국(3)</td>\n",
       "      <td>3</td>\n",
       "    </tr>\n",
       "    <tr>\n",
       "      <th>109</th>\n",
       "      <td>할리스에프앤비</td>\n",
       "      <td>110</td>\n",
       "      <td>할리스커피</td>\n",
       "      <td>커피, 디저트</td>\n",
       "      <td>비한식</td>\n",
       "      <td>중국(9), 페루(2), 태국(1), 필리핀(2)</td>\n",
       "      <td>14</td>\n",
       "    </tr>\n",
       "  </tbody>\n",
       "</table>\n",
       "<p>110 rows × 7 columns</p>\n",
       "</div>"
      ],
      "text/plain": [
       "          업체명   순번     브랜드      주요메뉴    구분  \\\n",
       "0       CJ푸드빌    1     비비고     한식,면요리   한식   \n",
       "1       CJ푸드빌    2    뚜레쥬르         제빵  비한식   \n",
       "2       CJ푸드빌    3  CJ푸드월드       복합외식  비한식   \n",
       "3       CJ푸드빌    4      빕스         뷔페  비한식   \n",
       "4       CJ푸드빌    5  투썸플레이스         커피  비한식   \n",
       "..        ...  ...     ...        ...  ...   \n",
       "105     ㈜후스타일  106    요거베리  요거트 아이스크림  비한식   \n",
       "106  크라제인터네셔날  107   크라제버거       수제버거  비한식   \n",
       "107   한국미스터피자  108   미스터피자         피자  비한식   \n",
       "108      한스델리  109    한스델리    패밀리레스토랑  비한식   \n",
       "109   할리스에프앤비  110   할리스커피    커피, 디저트  비한식   \n",
       "\n",
       "                                                  진출국가  총점포수  \n",
       "0          미국(4), 베트남(1), 싱가포르(3), 영국(1), 일본(7), 중국(6)    22  \n",
       "1    말레이시아(3), 미국(23), 베트남(25), 인도네시아(9), 중국(25), 캄...    97  \n",
       "2                                                중국(1)     1  \n",
       "3                                                중국(1)     1  \n",
       "4                                                중국(6)     6  \n",
       "..                                                 ...   ...  \n",
       "105  UAE(3), 코스타리카 (1), 미국(4), 뉴질랜드(1), 호주(4), 베네주엘...    25  \n",
       "106                              미국(2), 싱가포르(2), 홍콩(2)     6  \n",
       "107                              미국(2), 베트남(2), 중국(24)    28  \n",
       "108                                              중국(3)     3  \n",
       "109                        중국(9), 페루(2), 태국(1), 필리핀(2)    14  \n",
       "\n",
       "[110 rows x 7 columns]"
      ]
     },
     "execution_count": 82,
     "metadata": {},
     "output_type": "execute_result"
    }
   ],
   "source": [
    "df"
   ]
  },
  {
   "cell_type": "code",
   "execution_count": 84,
   "id": "9031cac7",
   "metadata": {},
   "outputs": [
    {
     "data": {
      "text/plain": [
       "numpy.ndarray"
      ]
     },
     "execution_count": 84,
     "metadata": {},
     "output_type": "execute_result"
    }
   ],
   "source": [
    "arr = np.random.random((5,2,3))\n",
    "type(arr)"
   ]
  },
  {
   "cell_type": "code",
   "execution_count": 85,
   "id": "f47b2a45",
   "metadata": {},
   "outputs": [
    {
     "data": {
      "text/plain": [
       "(5, 2, 3)"
      ]
     },
     "execution_count": 85,
     "metadata": {},
     "output_type": "execute_result"
    }
   ],
   "source": [
    "arr.shape"
   ]
  },
  {
   "cell_type": "code",
   "execution_count": 86,
   "id": "e8c95989",
   "metadata": {},
   "outputs": [
    {
     "data": {
      "text/plain": [
       "5"
      ]
     },
     "execution_count": 86,
     "metadata": {},
     "output_type": "execute_result"
    }
   ],
   "source": [
    "len(arr)"
   ]
  },
  {
   "cell_type": "code",
   "execution_count": 87,
   "id": "4fb3718f",
   "metadata": {},
   "outputs": [
    {
     "data": {
      "text/plain": [
       "3"
      ]
     },
     "execution_count": 87,
     "metadata": {},
     "output_type": "execute_result"
    }
   ],
   "source": [
    "arr.ndim # 배열의 차원 수"
   ]
  },
  {
   "cell_type": "code",
   "execution_count": 89,
   "id": "a26accdf",
   "metadata": {},
   "outputs": [
    {
     "data": {
      "text/plain": [
       "30"
      ]
     },
     "execution_count": 89,
     "metadata": {},
     "output_type": "execute_result"
    }
   ],
   "source": [
    "arr.size # 배열 요소의 수 : shape(a, b, c) -> a*b*c"
   ]
  },
  {
   "cell_type": "code",
   "execution_count": 90,
   "id": "d12c00c9",
   "metadata": {},
   "outputs": [
    {
     "data": {
      "text/plain": [
       "dtype('float64')"
      ]
     },
     "execution_count": 90,
     "metadata": {},
     "output_type": "execute_result"
    }
   ],
   "source": [
    "arr.dtype"
   ]
  },
  {
   "cell_type": "code",
   "execution_count": 91,
   "id": "243b43a5",
   "metadata": {},
   "outputs": [
    {
     "data": {
      "text/plain": [
       "'float64'"
      ]
     },
     "execution_count": 91,
     "metadata": {},
     "output_type": "execute_result"
    }
   ],
   "source": [
    "arr.dtype.name"
   ]
  },
  {
   "cell_type": "code",
   "execution_count": 95,
   "id": "fae9572f",
   "metadata": {},
   "outputs": [
    {
     "data": {
      "text/plain": [
       "array([[[0, 0, 0],\n",
       "        [0, 0, 0]],\n",
       "\n",
       "       [[0, 0, 0],\n",
       "        [0, 0, 0]],\n",
       "\n",
       "       [[0, 0, 0],\n",
       "        [0, 0, 0]],\n",
       "\n",
       "       [[0, 0, 0],\n",
       "        [0, 0, 0]],\n",
       "\n",
       "       [[0, 0, 0],\n",
       "        [0, 0, 0]]])"
      ]
     },
     "execution_count": 95,
     "metadata": {},
     "output_type": "execute_result"
    }
   ],
   "source": [
    "# 배열 요소를 int 로 변환\n",
    "# 요소의 실제 값이 변환되는 것이 아닌\n",
    "# View 출력 타입과 연산을 변환하는 것\n",
    "arr.astype(int)# np.int 썼는데 값은 나오지만 warning 발생 int로 쓰라고 추천해줌"
   ]
  },
  {
   "cell_type": "markdown",
   "id": "e1c4798c",
   "metadata": {},
   "source": []
  },
  {
   "cell_type": "code",
   "execution_count": 96,
   "id": "dc029401",
   "metadata": {},
   "outputs": [
    {
     "name": "stdout",
     "output_type": "stream",
     "text": [
      "type:<class 'numpy.ndarray'>\n",
      "shape: (3, 3), dimension: 2, dtype:int32\n",
      "Array's Data:\n",
      " [[1 2 3]\n",
      " [4 5 6]\n",
      " [7 8 9]]\n"
     ]
    }
   ],
   "source": [
    "a = np.arange(1,10).reshape(3,3)\n",
    "pprint(a)"
   ]
  },
  {
   "cell_type": "code",
   "execution_count": 97,
   "id": "2bed04d5",
   "metadata": {},
   "outputs": [
    {
     "name": "stdout",
     "output_type": "stream",
     "text": [
      "type:<class 'numpy.ndarray'>\n",
      "shape: (3, 3), dimension: 2, dtype:int32\n",
      "Array's Data:\n",
      " [[9 8 7]\n",
      " [6 5 4]\n",
      " [3 2 1]]\n"
     ]
    }
   ],
   "source": [
    "b = np.arange(9,0,-1).reshape(3,3)\n",
    "pprint(b)"
   ]
  },
  {
   "cell_type": "markdown",
   "id": "ada1a5b3",
   "metadata": {},
   "source": [
    "###### 뺄셈"
   ]
  },
  {
   "cell_type": "code",
   "execution_count": 98,
   "id": "7b290c64",
   "metadata": {},
   "outputs": [
    {
     "data": {
      "text/plain": [
       "array([[-8, -6, -4],\n",
       "       [-2,  0,  2],\n",
       "       [ 4,  6,  8]])"
      ]
     },
     "execution_count": 98,
     "metadata": {},
     "output_type": "execute_result"
    }
   ],
   "source": [
    "a - b"
   ]
  },
  {
   "cell_type": "code",
   "execution_count": 99,
   "id": "eb096908",
   "metadata": {},
   "outputs": [
    {
     "data": {
      "text/plain": [
       "array([[-8, -6, -4],\n",
       "       [-2,  0,  2],\n",
       "       [ 4,  6,  8]])"
      ]
     },
     "execution_count": 99,
     "metadata": {},
     "output_type": "execute_result"
    }
   ],
   "source": [
    "np.subtract(a,b)"
   ]
  },
  {
   "cell_type": "markdown",
   "id": "b51ea643",
   "metadata": {},
   "source": [
    "###### 덧셈"
   ]
  },
  {
   "cell_type": "code",
   "execution_count": 100,
   "id": "b5a06470",
   "metadata": {},
   "outputs": [
    {
     "data": {
      "text/plain": [
       "array([[10, 10, 10],\n",
       "       [10, 10, 10],\n",
       "       [10, 10, 10]])"
      ]
     },
     "execution_count": 100,
     "metadata": {},
     "output_type": "execute_result"
    }
   ],
   "source": [
    "a + b"
   ]
  },
  {
   "cell_type": "code",
   "execution_count": 101,
   "id": "89cda4a8",
   "metadata": {},
   "outputs": [
    {
     "data": {
      "text/plain": [
       "array([[10, 10, 10],\n",
       "       [10, 10, 10],\n",
       "       [10, 10, 10]])"
      ]
     },
     "execution_count": 101,
     "metadata": {},
     "output_type": "execute_result"
    }
   ],
   "source": [
    "np.add(a,b)"
   ]
  },
  {
   "cell_type": "markdown",
   "id": "2e8657b1",
   "metadata": {},
   "source": [
    "###### 나눗셈"
   ]
  },
  {
   "cell_type": "code",
   "execution_count": 102,
   "id": "02d9797b",
   "metadata": {},
   "outputs": [
    {
     "data": {
      "text/plain": [
       "array([[0.11111111, 0.25      , 0.42857143],\n",
       "       [0.66666667, 1.        , 1.5       ],\n",
       "       [2.33333333, 4.        , 9.        ]])"
      ]
     },
     "execution_count": 102,
     "metadata": {},
     "output_type": "execute_result"
    }
   ],
   "source": [
    "a / b"
   ]
  },
  {
   "cell_type": "code",
   "execution_count": 103,
   "id": "9496ba96",
   "metadata": {},
   "outputs": [
    {
     "data": {
      "text/plain": [
       "array([[0.11111111, 0.25      , 0.42857143],\n",
       "       [0.66666667, 1.        , 1.5       ],\n",
       "       [2.33333333, 4.        , 9.        ]])"
      ]
     },
     "execution_count": 103,
     "metadata": {},
     "output_type": "execute_result"
    }
   ],
   "source": [
    "np.divide(a,b)"
   ]
  },
  {
   "cell_type": "markdown",
   "id": "c8987cb1",
   "metadata": {},
   "source": [
    "##### 곱셈"
   ]
  },
  {
   "cell_type": "code",
   "execution_count": 105,
   "id": "86b57e0c",
   "metadata": {},
   "outputs": [
    {
     "data": {
      "text/plain": [
       "array([[ 9, 16, 21],\n",
       "       [24, 25, 24],\n",
       "       [21, 16,  9]])"
      ]
     },
     "execution_count": 105,
     "metadata": {},
     "output_type": "execute_result"
    }
   ],
   "source": [
    "a*b"
   ]
  },
  {
   "cell_type": "code",
   "execution_count": 106,
   "id": "cc381f6c",
   "metadata": {},
   "outputs": [
    {
     "data": {
      "text/plain": [
       "array([[ 9, 16, 21],\n",
       "       [24, 25, 24],\n",
       "       [21, 16,  9]])"
      ]
     },
     "execution_count": 106,
     "metadata": {},
     "output_type": "execute_result"
    }
   ],
   "source": [
    "np.multiply(a,b)"
   ]
  },
  {
   "cell_type": "code",
   "execution_count": 108,
   "id": "7dfd0786",
   "metadata": {},
   "outputs": [
    {
     "data": {
      "text/plain": [
       "array([[8.10308393e+03, 2.98095799e+03, 1.09663316e+03],\n",
       "       [4.03428793e+02, 1.48413159e+02, 5.45981500e+01],\n",
       "       [2.00855369e+01, 7.38905610e+00, 2.71828183e+00]])"
      ]
     },
     "execution_count": 108,
     "metadata": {},
     "output_type": "execute_result"
    }
   ],
   "source": [
    "np.exp(b)"
   ]
  },
  {
   "cell_type": "code",
   "execution_count": 110,
   "id": "9caeb68f",
   "metadata": {},
   "outputs": [
    {
     "data": {
      "text/plain": [
       "array([[2.71828183e+00, 7.38905610e+00, 2.00855369e+01],\n",
       "       [5.45981500e+01, 1.48413159e+02, 4.03428793e+02],\n",
       "       [1.09663316e+03, 2.98095799e+03, 8.10308393e+03]])"
      ]
     },
     "execution_count": 110,
     "metadata": {},
     "output_type": "execute_result"
    }
   ],
   "source": [
    "np.exp(a)"
   ]
  },
  {
   "cell_type": "code",
   "execution_count": 112,
   "id": "4e72df88",
   "metadata": {},
   "outputs": [
    {
     "data": {
      "text/plain": [
       "array([[1.        , 1.41421356, 1.73205081],\n",
       "       [2.        , 2.23606798, 2.44948974],\n",
       "       [2.64575131, 2.82842712, 3.        ]])"
      ]
     },
     "execution_count": 112,
     "metadata": {},
     "output_type": "execute_result"
    }
   ],
   "source": [
    "np.sqrt(a)"
   ]
  },
  {
   "cell_type": "code",
   "execution_count": 113,
   "id": "e402e8fb",
   "metadata": {},
   "outputs": [
    {
     "data": {
      "text/plain": [
       "array([[ 0.84147098,  0.90929743,  0.14112001],\n",
       "       [-0.7568025 , -0.95892427, -0.2794155 ],\n",
       "       [ 0.6569866 ,  0.98935825,  0.41211849]])"
      ]
     },
     "execution_count": 113,
     "metadata": {},
     "output_type": "execute_result"
    }
   ],
   "source": [
    "np.sin(a)"
   ]
  },
  {
   "cell_type": "code",
   "execution_count": 114,
   "id": "1c7a012e",
   "metadata": {},
   "outputs": [
    {
     "data": {
      "text/plain": [
       "array([[ 0.54030231, -0.41614684, -0.9899925 ],\n",
       "       [-0.65364362,  0.28366219,  0.96017029],\n",
       "       [ 0.75390225, -0.14550003, -0.91113026]])"
      ]
     },
     "execution_count": 114,
     "metadata": {},
     "output_type": "execute_result"
    }
   ],
   "source": [
    "np.cos(a)"
   ]
  },
  {
   "cell_type": "code",
   "execution_count": 115,
   "id": "f2cd3b80",
   "metadata": {},
   "outputs": [
    {
     "data": {
      "text/plain": [
       "array([[ 1.55740772, -2.18503986, -0.14254654],\n",
       "       [ 1.15782128, -3.38051501, -0.29100619],\n",
       "       [ 0.87144798, -6.79971146, -0.45231566]])"
      ]
     },
     "execution_count": 115,
     "metadata": {},
     "output_type": "execute_result"
    }
   ],
   "source": [
    "np.tan(a)"
   ]
  },
  {
   "cell_type": "code",
   "execution_count": 116,
   "id": "830cf697",
   "metadata": {},
   "outputs": [
    {
     "data": {
      "text/plain": [
       "array([[0.        , 0.69314718, 1.09861229],\n",
       "       [1.38629436, 1.60943791, 1.79175947],\n",
       "       [1.94591015, 2.07944154, 2.19722458]])"
      ]
     },
     "execution_count": 116,
     "metadata": {},
     "output_type": "execute_result"
    }
   ],
   "source": [
    "np.log(a)"
   ]
  },
  {
   "cell_type": "code",
   "execution_count": 117,
   "id": "3284b898",
   "metadata": {},
   "outputs": [
    {
     "data": {
      "text/plain": [
       "array([[False, False, False],\n",
       "       [False,  True, False],\n",
       "       [False, False, False]])"
      ]
     },
     "execution_count": 117,
     "metadata": {},
     "output_type": "execute_result"
    }
   ],
   "source": [
    "a == b"
   ]
  },
  {
   "cell_type": "code",
   "execution_count": 118,
   "id": "7b678f3c",
   "metadata": {},
   "outputs": [
    {
     "data": {
      "text/plain": [
       "array([[False, False, False],\n",
       "       [False, False,  True],\n",
       "       [ True,  True,  True]])"
      ]
     },
     "execution_count": 118,
     "metadata": {},
     "output_type": "execute_result"
    }
   ],
   "source": [
    "a > b"
   ]
  },
  {
   "cell_type": "code",
   "execution_count": 204,
   "id": "3a014a0f",
   "metadata": {},
   "outputs": [
    {
     "data": {
      "text/plain": [
       "False"
      ]
     },
     "execution_count": 204,
     "metadata": {},
     "output_type": "execute_result"
    }
   ],
   "source": [
    "np.array_equal(a,b)"
   ]
  },
  {
   "cell_type": "code",
   "execution_count": 119,
   "id": "570676b3",
   "metadata": {},
   "outputs": [],
   "source": [
    "#집계 함수\n",
    "# axis"
   ]
  },
  {
   "cell_type": "code",
   "execution_count": 120,
   "id": "a872f167",
   "metadata": {},
   "outputs": [
    {
     "name": "stdout",
     "output_type": "stream",
     "text": [
      "type:<class 'numpy.ndarray'>\n",
      "shape: (3, 3), dimension: 2, dtype:int32\n",
      "Array's Data:\n",
      " [[1 2 3]\n",
      " [4 5 6]\n",
      " [7 8 9]]\n"
     ]
    }
   ],
   "source": [
    "a = np.arange(1,10).reshape(3,3)\n",
    "pprint(a)"
   ]
  },
  {
   "cell_type": "code",
   "execution_count": 121,
   "id": "08cc278d",
   "metadata": {},
   "outputs": [
    {
     "data": {
      "text/plain": [
       "(45, 45)"
      ]
     },
     "execution_count": 121,
     "metadata": {},
     "output_type": "execute_result"
    }
   ],
   "source": [
    "a.sum(), np.sum(a)"
   ]
  },
  {
   "cell_type": "code",
   "execution_count": 126,
   "id": "56bd39d2",
   "metadata": {},
   "outputs": [
    {
     "data": {
      "text/plain": [
       "(array([12, 15, 18]), array([12, 15, 18]))"
      ]
     },
     "execution_count": 126,
     "metadata": {},
     "output_type": "execute_result"
    }
   ],
   "source": [
    "a.sum(axis=0), np.sum(a, axis=0)\n",
    "# 아래로, 열 기준"
   ]
  },
  {
   "cell_type": "code",
   "execution_count": 127,
   "id": "5b82dcf0",
   "metadata": {},
   "outputs": [
    {
     "data": {
      "text/plain": [
       "(array([ 6, 15, 24]), array([ 6, 15, 24]))"
      ]
     },
     "execution_count": 127,
     "metadata": {},
     "output_type": "execute_result"
    }
   ],
   "source": [
    "a.sum(axis=1), np.sum(a, axis=1)\n",
    "# 옆으로, 행 기준"
   ]
  },
  {
   "cell_type": "code",
   "execution_count": 130,
   "id": "39fd68c1",
   "metadata": {},
   "outputs": [
    {
     "data": {
      "text/plain": [
       "(1, 1)"
      ]
     },
     "execution_count": 130,
     "metadata": {},
     "output_type": "execute_result"
    }
   ],
   "source": [
    "a.min(), np.min(a)"
   ]
  },
  {
   "cell_type": "code",
   "execution_count": 131,
   "id": "c35432c6",
   "metadata": {},
   "outputs": [
    {
     "data": {
      "text/plain": [
       "(array([1, 2, 3]), array([1, 2, 3]))"
      ]
     },
     "execution_count": 131,
     "metadata": {},
     "output_type": "execute_result"
    }
   ],
   "source": [
    "a.min(axis=0), np.min(a, axis=0)"
   ]
  },
  {
   "cell_type": "code",
   "execution_count": 132,
   "id": "342c8151",
   "metadata": {},
   "outputs": [
    {
     "data": {
      "text/plain": [
       "(array([1, 4, 7]), array([1, 4, 7]))"
      ]
     },
     "execution_count": 132,
     "metadata": {},
     "output_type": "execute_result"
    }
   ],
   "source": [
    "a.min(axis=1), np.min(a, axis=1)"
   ]
  },
  {
   "cell_type": "code",
   "execution_count": 133,
   "id": "43203c9e",
   "metadata": {},
   "outputs": [
    {
     "data": {
      "text/plain": [
       "(9, 9)"
      ]
     },
     "execution_count": 133,
     "metadata": {},
     "output_type": "execute_result"
    }
   ],
   "source": [
    "a.max(), np.max(a)"
   ]
  },
  {
   "cell_type": "code",
   "execution_count": 134,
   "id": "380f7d97",
   "metadata": {},
   "outputs": [
    {
     "data": {
      "text/plain": [
       "(array([7, 8, 9]), array([7, 8, 9]))"
      ]
     },
     "execution_count": 134,
     "metadata": {},
     "output_type": "execute_result"
    }
   ],
   "source": [
    "a.max(axis=0), np.max(a, axis=0)"
   ]
  },
  {
   "cell_type": "code",
   "execution_count": 135,
   "id": "99ea738c",
   "metadata": {},
   "outputs": [
    {
     "data": {
      "text/plain": [
       "(array([3, 6, 9]), array([3, 6, 9]))"
      ]
     },
     "execution_count": 135,
     "metadata": {},
     "output_type": "execute_result"
    }
   ],
   "source": [
    "a.max(axis=1), np.max(a, axis=1)"
   ]
  },
  {
   "cell_type": "code",
   "execution_count": 137,
   "id": "77d107be",
   "metadata": {},
   "outputs": [
    {
     "data": {
      "text/plain": [
       "(array([ 1,  3,  6, 10, 15, 21, 28, 36, 45], dtype=int32),\n",
       " array([ 1,  3,  6, 10, 15, 21, 28, 36, 45], dtype=int32))"
      ]
     },
     "execution_count": 137,
     "metadata": {},
     "output_type": "execute_result"
    }
   ],
   "source": [
    "a.cumsum(), np.cumsum(a)"
   ]
  },
  {
   "cell_type": "code",
   "execution_count": 138,
   "id": "13404cdd",
   "metadata": {},
   "outputs": [
    {
     "data": {
      "text/plain": [
       "(array([[ 1,  2,  3],\n",
       "        [ 5,  7,  9],\n",
       "        [12, 15, 18]], dtype=int32),\n",
       " array([[ 1,  2,  3],\n",
       "        [ 5,  7,  9],\n",
       "        [12, 15, 18]], dtype=int32))"
      ]
     },
     "execution_count": 138,
     "metadata": {},
     "output_type": "execute_result"
    }
   ],
   "source": [
    "a.cumsum(axis=0), np.cumsum(a, axis=0)"
   ]
  },
  {
   "cell_type": "code",
   "execution_count": 139,
   "id": "fee5e8f2",
   "metadata": {},
   "outputs": [
    {
     "data": {
      "text/plain": [
       "(array([[ 1,  3,  6],\n",
       "        [ 4,  9, 15],\n",
       "        [ 7, 15, 24]], dtype=int32),\n",
       " array([[ 1,  3,  6],\n",
       "        [ 4,  9, 15],\n",
       "        [ 7, 15, 24]], dtype=int32))"
      ]
     },
     "execution_count": 139,
     "metadata": {},
     "output_type": "execute_result"
    }
   ],
   "source": [
    "a.cumsum(axis=1), np.cumsum(a, axis=1)"
   ]
  },
  {
   "cell_type": "code",
   "execution_count": 140,
   "id": "aba8dd4d",
   "metadata": {},
   "outputs": [
    {
     "data": {
      "text/plain": [
       "(5.0, 5.0)"
      ]
     },
     "execution_count": 140,
     "metadata": {},
     "output_type": "execute_result"
    }
   ],
   "source": [
    "a.mean(), np.mean(a)"
   ]
  },
  {
   "cell_type": "code",
   "execution_count": 141,
   "id": "0205b5fd",
   "metadata": {},
   "outputs": [
    {
     "data": {
      "text/plain": [
       "(array([4., 5., 6.]), array([4., 5., 6.]))"
      ]
     },
     "execution_count": 141,
     "metadata": {},
     "output_type": "execute_result"
    }
   ],
   "source": [
    "a.mean(axis=0), np.mean(a,axis=0)"
   ]
  },
  {
   "cell_type": "code",
   "execution_count": 143,
   "id": "b6f01b96",
   "metadata": {},
   "outputs": [
    {
     "data": {
      "text/plain": [
       "(array([2., 5., 8.]), array([2., 5., 8.]))"
      ]
     },
     "execution_count": 143,
     "metadata": {},
     "output_type": "execute_result"
    }
   ],
   "source": [
    "a.mean(axis=1), np.mean(a, axis=1)"
   ]
  },
  {
   "cell_type": "code",
   "execution_count": 144,
   "id": "7235fe19",
   "metadata": {},
   "outputs": [],
   "source": [
    "#중앙값"
   ]
  },
  {
   "cell_type": "code",
   "execution_count": 145,
   "id": "b43ca0ca",
   "metadata": {},
   "outputs": [
    {
     "data": {
      "text/plain": [
       "5.0"
      ]
     },
     "execution_count": 145,
     "metadata": {},
     "output_type": "execute_result"
    }
   ],
   "source": [
    "np.median(a)"
   ]
  },
  {
   "cell_type": "code",
   "execution_count": 146,
   "id": "2497d12e",
   "metadata": {},
   "outputs": [
    {
     "data": {
      "text/plain": [
       "array([4., 5., 6.])"
      ]
     },
     "execution_count": 146,
     "metadata": {},
     "output_type": "execute_result"
    }
   ],
   "source": [
    "np.mean(a,axis=0)"
   ]
  },
  {
   "cell_type": "code",
   "execution_count": 147,
   "id": "7358769b",
   "metadata": {},
   "outputs": [
    {
     "data": {
      "text/plain": [
       "array([2., 5., 8.])"
      ]
     },
     "execution_count": 147,
     "metadata": {},
     "output_type": "execute_result"
    }
   ],
   "source": [
    "np.mean(a,axis=1)"
   ]
  },
  {
   "cell_type": "code",
   "execution_count": 148,
   "id": "61706b03",
   "metadata": {},
   "outputs": [],
   "source": [
    "#상관계수"
   ]
  },
  {
   "cell_type": "code",
   "execution_count": 150,
   "id": "c33a288d",
   "metadata": {},
   "outputs": [
    {
     "data": {
      "text/plain": [
       "array([[1., 1., 1.],\n",
       "       [1., 1., 1.],\n",
       "       [1., 1., 1.]])"
      ]
     },
     "execution_count": 150,
     "metadata": {},
     "output_type": "execute_result"
    }
   ],
   "source": [
    "np.corrcoef(a)"
   ]
  },
  {
   "cell_type": "code",
   "execution_count": 151,
   "id": "4d20ec3d",
   "metadata": {},
   "outputs": [],
   "source": [
    "#표준편차"
   ]
  },
  {
   "cell_type": "code",
   "execution_count": 152,
   "id": "065f016f",
   "metadata": {},
   "outputs": [
    {
     "data": {
      "text/plain": [
       "(2.581988897471611, 2.581988897471611)"
      ]
     },
     "execution_count": 152,
     "metadata": {},
     "output_type": "execute_result"
    }
   ],
   "source": [
    "a.std(), np.std(a)"
   ]
  },
  {
   "cell_type": "code",
   "execution_count": 153,
   "id": "8edeb69b",
   "metadata": {},
   "outputs": [
    {
     "data": {
      "text/plain": [
       "(array([2.44948974, 2.44948974, 2.44948974]),\n",
       " array([2.44948974, 2.44948974, 2.44948974]))"
      ]
     },
     "execution_count": 153,
     "metadata": {},
     "output_type": "execute_result"
    }
   ],
   "source": [
    "a.std(axis=0), np.std(a,axis=0)"
   ]
  },
  {
   "cell_type": "code",
   "execution_count": 154,
   "id": "55e45887",
   "metadata": {},
   "outputs": [
    {
     "data": {
      "text/plain": [
       "(array([0.81649658, 0.81649658, 0.81649658]),\n",
       " array([0.81649658, 0.81649658, 0.81649658]))"
      ]
     },
     "execution_count": 154,
     "metadata": {},
     "output_type": "execute_result"
    }
   ],
   "source": [
    "a.std(axis=1), np.std(a,axis=1)"
   ]
  },
  {
   "cell_type": "code",
   "execution_count": 155,
   "id": "1054e9b6",
   "metadata": {},
   "outputs": [],
   "source": [
    "# broadcasting\n",
    "# 차원과 shape 동일해야 계산 가능"
   ]
  },
  {
   "cell_type": "code",
   "execution_count": 156,
   "id": "1e9690d8",
   "metadata": {},
   "outputs": [
    {
     "name": "stdout",
     "output_type": "stream",
     "text": [
      "type:<class 'numpy.ndarray'>\n",
      "shape: (4, 6), dimension: 2, dtype:int32\n",
      "Array's Data:\n",
      " [[ 1  2  3  4  5  6]\n",
      " [ 7  8  9 10 11 12]\n",
      " [13 14 15 16 17 18]\n",
      " [19 20 21 22 23 24]]\n",
      "type:<class 'numpy.ndarray'>\n",
      "shape: (4, 6), dimension: 2, dtype:int32\n",
      "Array's Data:\n",
      " [[25 26 27 28 29 30]\n",
      " [31 32 33 34 35 36]\n",
      " [37 38 39 40 41 42]\n",
      " [43 44 45 46 47 48]]\n"
     ]
    }
   ],
   "source": [
    "a = np.arange(1,25).reshape(4,6)\n",
    "b = np.arange(25,49).reshape(4,6)\n",
    "pprint(a)\n",
    "pprint(b)"
   ]
  },
  {
   "cell_type": "code",
   "execution_count": 157,
   "id": "667c072e",
   "metadata": {},
   "outputs": [
    {
     "data": {
      "text/plain": [
       "array([[26, 28, 30, 32, 34, 36],\n",
       "       [38, 40, 42, 44, 46, 48],\n",
       "       [50, 52, 54, 56, 58, 60],\n",
       "       [62, 64, 66, 68, 70, 72]])"
      ]
     },
     "execution_count": 157,
     "metadata": {},
     "output_type": "execute_result"
    }
   ],
   "source": [
    "a + b"
   ]
  },
  {
   "cell_type": "code",
   "execution_count": 159,
   "id": "049e7c37",
   "metadata": {},
   "outputs": [
    {
     "data": {
      "text/plain": [
       "array([[101, 102, 103, 104, 105, 106],\n",
       "       [107, 108, 109, 110, 111, 112],\n",
       "       [113, 114, 115, 116, 117, 118],\n",
       "       [119, 120, 121, 122, 123, 124]])"
      ]
     },
     "execution_count": 159,
     "metadata": {},
     "output_type": "execute_result"
    }
   ],
   "source": [
    "a + 100 \n",
    "# 100 -> 스칼라, 배열과 스칼라 사이의 이항 연산 시 스칼라를 배열로 변형"
   ]
  },
  {
   "cell_type": "code",
   "execution_count": 160,
   "id": "e99a2f72",
   "metadata": {},
   "outputs": [
    {
     "name": "stdout",
     "output_type": "stream",
     "text": [
      "type:<class 'numpy.ndarray'>\n",
      "shape: (4, 6), dimension: 2, dtype:int32\n",
      "Array's Data:\n",
      " [[100 100 100 100 100 100]\n",
      " [100 100 100 100 100 100]\n",
      " [100 100 100 100 100 100]\n",
      " [100 100 100 100 100 100]]\n",
      "type:<class 'numpy.ndarray'>\n",
      "shape: (4, 6), dimension: 2, dtype:int32\n",
      "Array's Data:\n",
      " [[ 1  2  3  4  5  6]\n",
      " [ 7  8  9 10 11 12]\n",
      " [13 14 15 16 17 18]\n",
      " [19 20 21 22 23 24]]\n"
     ]
    }
   ],
   "source": [
    "new_arr = np.full_like(a,100)\n",
    "pprint(new_arr)\n",
    "pprint(a)"
   ]
  },
  {
   "cell_type": "code",
   "execution_count": 161,
   "id": "75317b38",
   "metadata": {},
   "outputs": [
    {
     "data": {
      "text/plain": [
       "array([[101, 102, 103, 104, 105, 106],\n",
       "       [107, 108, 109, 110, 111, 112],\n",
       "       [113, 114, 115, 116, 117, 118],\n",
       "       [119, 120, 121, 122, 123, 124]])"
      ]
     },
     "execution_count": 161,
     "metadata": {},
     "output_type": "execute_result"
    }
   ],
   "source": [
    "a+new_arr"
   ]
  },
  {
   "cell_type": "code",
   "execution_count": 162,
   "id": "039e652f",
   "metadata": {},
   "outputs": [
    {
     "name": "stdout",
     "output_type": "stream",
     "text": [
      "type:<class 'numpy.ndarray'>\n",
      "shape: (1, 5), dimension: 2, dtype:int32\n",
      "Array's Data:\n",
      " [[0 1 2 3 4]]\n",
      "type:<class 'numpy.ndarray'>\n",
      "shape: (5, 1), dimension: 2, dtype:int32\n",
      "Array's Data:\n",
      " [[0]\n",
      " [1]\n",
      " [2]\n",
      " [3]\n",
      " [4]]\n"
     ]
    }
   ],
   "source": [
    "a = np.arange(5).reshape((1,5))\n",
    "b = np.arange(5).reshape((5,1))\n",
    "pprint(a)\n",
    "pprint(b)"
   ]
  },
  {
   "cell_type": "code",
   "execution_count": 163,
   "id": "a079c8cf",
   "metadata": {},
   "outputs": [
    {
     "data": {
      "text/plain": [
       "array([[0, 1, 2, 3, 4],\n",
       "       [1, 2, 3, 4, 5],\n",
       "       [2, 3, 4, 5, 6],\n",
       "       [3, 4, 5, 6, 7],\n",
       "       [4, 5, 6, 7, 8]])"
      ]
     },
     "execution_count": 163,
     "metadata": {},
     "output_type": "execute_result"
    }
   ],
   "source": [
    "a + b"
   ]
  },
  {
   "cell_type": "markdown",
   "id": "07588cc4",
   "metadata": {},
   "source": [
    "###### 벡터 연산\n",
    "배열 처리에 벡터 연산을 적용할 경우 처리 속도 향상"
   ]
  },
  {
   "cell_type": "code",
   "execution_count": 217,
   "id": "3de17046",
   "metadata": {},
   "outputs": [],
   "source": [
    "import numpy as np\n",
    "a = np.arange(100000) # 수가 커서 overflow로 음수 나옴 -> 낮추면 양수 나옴\n",
    "result = 0"
   ]
  },
  {
   "cell_type": "code",
   "execution_count": 222,
   "id": "ef6ffa9e",
   "metadata": {},
   "outputs": [
    {
     "name": "stdout",
     "output_type": "stream",
     "text": [
      "Wall time: 0 ns\n"
     ]
    },
    {
     "name": "stderr",
     "output_type": "stream",
     "text": [
      "C:\\Users\\sunhee\\AppData\\Local\\Temp/ipykernel_19472/3892884931.py:3: RuntimeWarning: overflow encountered in long_scalars\n",
      "  result+= v\n"
     ]
    },
    {
     "data": {
      "text/plain": [
       "1409965408"
      ]
     },
     "execution_count": 222,
     "metadata": {},
     "output_type": "execute_result"
    }
   ],
   "source": [
    "%time     \n",
    "for v in a:\n",
    "    result+= v\n",
    "result"
   ]
  },
  {
   "cell_type": "code",
   "execution_count": 221,
   "id": "fa9aa50d",
   "metadata": {},
   "outputs": [
    {
     "name": "stdout",
     "output_type": "stream",
     "text": [
      "Wall time: 997 µs\n"
     ]
    },
    {
     "data": {
      "text/plain": [
       "704982704"
      ]
     },
     "execution_count": 221,
     "metadata": {},
     "output_type": "execute_result"
    }
   ],
   "source": [
    "%%time\n",
    "result = np.sum(a)\n",
    "result"
   ]
  },
  {
   "cell_type": "markdown",
   "id": "25523844",
   "metadata": {},
   "source": [
    "###### 배열 복사"
   ]
  },
  {
   "cell_type": "code",
   "execution_count": 171,
   "id": "c6d5faef",
   "metadata": {},
   "outputs": [
    {
     "name": "stdout",
     "output_type": "stream",
     "text": [
      "type:<class 'numpy.ndarray'>\n",
      "shape: (3, 3), dimension: 2, dtype:int32\n",
      "Array's Data:\n",
      " [[2 7 1]\n",
      " [6 6 0]\n",
      " [7 2 3]]\n"
     ]
    }
   ],
   "source": [
    "a = np.random.randint(0,9,(3,3))\n",
    "pprint(a)"
   ]
  },
  {
   "cell_type": "code",
   "execution_count": 173,
   "id": "788ff9e2",
   "metadata": {},
   "outputs": [],
   "source": [
    "copied_a1 = np.copy(a) # 서로 다른 메모리를 지녔기에 영향 없음"
   ]
  },
  {
   "cell_type": "code",
   "execution_count": 176,
   "id": "84af5447",
   "metadata": {},
   "outputs": [
    {
     "name": "stdout",
     "output_type": "stream",
     "text": [
      "type:<class 'numpy.ndarray'>\n",
      "shape: (3, 3), dimension: 2, dtype:int32\n",
      "Array's Data:\n",
      " [[0 7 1]\n",
      " [0 6 0]\n",
      " [0 2 3]]\n"
     ]
    }
   ],
   "source": [
    "copied_a1[:,0] = 0 # 배열의 전체 row의 첫번째 요소를 0으로 업데이트\n",
    "pprint(copied_a1)"
   ]
  },
  {
   "cell_type": "code",
   "execution_count": 177,
   "id": "71785ba5",
   "metadata": {},
   "outputs": [
    {
     "name": "stdout",
     "output_type": "stream",
     "text": [
      "type:<class 'numpy.ndarray'>\n",
      "shape: (3, 3), dimension: 2, dtype:int32\n",
      "Array's Data:\n",
      " [[2 7 1]\n",
      " [6 6 0]\n",
      " [7 2 3]]\n"
     ]
    }
   ],
   "source": [
    "pprint(a)"
   ]
  },
  {
   "cell_type": "code",
   "execution_count": 179,
   "id": "7bcf885a",
   "metadata": {},
   "outputs": [
    {
     "name": "stdout",
     "output_type": "stream",
     "text": [
      "type:<class 'numpy.ndarray'>\n",
      "shape: (3, 3), dimension: 2, dtype:int32\n",
      "Array's Data:\n",
      " [[2 7 1]\n",
      " [6 6 0]\n",
      " [7 2 3]]\n"
     ]
    }
   ],
   "source": [
    "copied_a2 = np.copy(a)\n",
    "pprint(copied_a2)"
   ]
  },
  {
   "cell_type": "markdown",
   "id": "92e6761b",
   "metadata": {},
   "source": [
    "###### 배열 정렬"
   ]
  },
  {
   "cell_type": "code",
   "execution_count": 181,
   "id": "bd0c2488",
   "metadata": {},
   "outputs": [
    {
     "name": "stdout",
     "output_type": "stream",
     "text": [
      "type:<class 'numpy.ndarray'>\n",
      "shape: (3, 3), dimension: 2, dtype:float64\n",
      "Array's Data:\n",
      " [[0.7484116  0.78884039 0.73039662]\n",
      " [0.84561834 0.55619038 0.05686271]\n",
      " [0.88672457 0.31441695 0.56039187]]\n"
     ]
    }
   ],
   "source": [
    "unsorted = np.random.random((3,3))\n",
    "pprint(unsorted)"
   ]
  },
  {
   "cell_type": "code",
   "execution_count": 182,
   "id": "24f17420",
   "metadata": {},
   "outputs": [],
   "source": [
    "unsorted1 = unsorted.copy()\n",
    "unsorted2 = unsorted.copy()\n",
    "unsorted3 = unsorted.copy()"
   ]
  },
  {
   "cell_type": "code",
   "execution_count": 183,
   "id": "f2075463",
   "metadata": {},
   "outputs": [
    {
     "name": "stdout",
     "output_type": "stream",
     "text": [
      "type:<class 'numpy.ndarray'>\n",
      "shape: (3, 3), dimension: 2, dtype:float64\n",
      "Array's Data:\n",
      " [[0.73039662 0.7484116  0.78884039]\n",
      " [0.05686271 0.55619038 0.84561834]\n",
      " [0.31441695 0.56039187 0.88672457]]\n"
     ]
    }
   ],
   "source": [
    "unsorted1.sort() # default : axis = -1\n",
    "pprint(unsorted1)"
   ]
  },
  {
   "cell_type": "code",
   "execution_count": 184,
   "id": "52742bac",
   "metadata": {},
   "outputs": [
    {
     "name": "stdout",
     "output_type": "stream",
     "text": [
      "type:<class 'numpy.ndarray'>\n",
      "shape: (3, 3), dimension: 2, dtype:float64\n",
      "Array's Data:\n",
      " [[0.7484116  0.31441695 0.05686271]\n",
      " [0.84561834 0.55619038 0.56039187]\n",
      " [0.88672457 0.78884039 0.73039662]]\n"
     ]
    }
   ],
   "source": [
    "unsorted2.sort(axis = 0)\n",
    "pprint(unsorted2)"
   ]
  },
  {
   "cell_type": "markdown",
   "id": "b9c093bc",
   "metadata": {},
   "source": [
    "###### 인덱싱, 슬라이싱"
   ]
  },
  {
   "cell_type": "code",
   "execution_count": 187,
   "id": "489888e7",
   "metadata": {},
   "outputs": [
    {
     "name": "stdout",
     "output_type": "stream",
     "text": [
      "type:<class 'numpy.ndarray'>\n",
      "shape: (24,), dimension: 1, dtype:int32\n",
      "Array's Data:\n",
      " [ 0  1  2  3  4  5  6  7  8  9 10 11 12 13 14 15 16 17 18 19 20 21 22 23]\n",
      "type:<class 'numpy.ndarray'>\n",
      "shape: (4, 6), dimension: 2, dtype:int32\n",
      "Array's Data:\n",
      " [[ 0  1  2  3  4  5]\n",
      " [ 6  7  8  9 10 11]\n",
      " [12 13 14 15 16 17]\n",
      " [18 19 20 21 22 23]]\n",
      "[[[ 0  1  2]\n",
      "  [ 3  4  5]\n",
      "  [ 6  7  8]\n",
      "  [ 9 10 11]]\n",
      "\n",
      " [[12 13 14]\n",
      "  [15 16 17]\n",
      "  [18 19 20]\n",
      "  [21 22 23]]]\n"
     ]
    }
   ],
   "source": [
    "a0 = np.arange(24)\n",
    "pprint(a0)\n",
    "a1 = np.arange(24).reshape((4,6)) # 2차원\n",
    "pprint(a1)\n",
    "a2 = np.arange(24).reshape((2,4,3)) # 3차원\n",
    "print(a2)"
   ]
  },
  {
   "cell_type": "code",
   "execution_count": 188,
   "id": "4e1886b9",
   "metadata": {},
   "outputs": [
    {
     "data": {
      "text/plain": [
       "5"
      ]
     },
     "execution_count": 188,
     "metadata": {},
     "output_type": "execute_result"
    }
   ],
   "source": [
    "a0[5]"
   ]
  },
  {
   "cell_type": "code",
   "execution_count": 189,
   "id": "8ec408e8",
   "metadata": {},
   "outputs": [
    {
     "name": "stdout",
     "output_type": "stream",
     "text": [
      "type:<class 'numpy.ndarray'>\n",
      "shape: (24,), dimension: 1, dtype:int32\n",
      "Array's Data:\n",
      " [   0    1    2    3    4 1000    6    7    8    9   10   11   12   13\n",
      "   14   15   16   17   18   19   20   21   22   23]\n"
     ]
    }
   ],
   "source": [
    "a0[5] = 1000\n",
    "pprint(a0)"
   ]
  },
  {
   "cell_type": "code",
   "execution_count": 190,
   "id": "be3090db",
   "metadata": {},
   "outputs": [
    {
     "name": "stdout",
     "output_type": "stream",
     "text": [
      "type:<class 'numpy.ndarray'>\n",
      "shape: (4, 6), dimension: 2, dtype:int32\n",
      "Array's Data:\n",
      " [[ 0  1  2  3  4  5]\n",
      " [ 6  7  8  9 10 11]\n",
      " [12 13 14 15 16 17]\n",
      " [18 19 20 21 22 23]]\n"
     ]
    }
   ],
   "source": [
    "pprint(a1)"
   ]
  },
  {
   "cell_type": "code",
   "execution_count": 191,
   "id": "65bbe496",
   "metadata": {},
   "outputs": [
    {
     "data": {
      "text/plain": [
       "4"
      ]
     },
     "execution_count": 191,
     "metadata": {},
     "output_type": "execute_result"
    }
   ],
   "source": [
    "a1[0,4]"
   ]
  },
  {
   "cell_type": "code",
   "execution_count": 193,
   "id": "1f2b7511",
   "metadata": {},
   "outputs": [
    {
     "data": {
      "text/plain": [
       "array([[ 0,  1,  2,  3,  4,  5],\n",
       "       [ 6,  7,  8,  9, 10, 11]])"
      ]
     },
     "execution_count": 193,
     "metadata": {},
     "output_type": "execute_result"
    }
   ],
   "source": [
    "# 행이나 열을 작성하지 않으면 '모든'으로 인식함\n",
    "a1[:2]"
   ]
  },
  {
   "cell_type": "code",
   "execution_count": 194,
   "id": "b6affa01",
   "metadata": {},
   "outputs": [
    {
     "data": {
      "text/plain": [
       "array([[ 7,  8,  9, 10],\n",
       "       [13, 14, 15, 16]])"
      ]
     },
     "execution_count": 194,
     "metadata": {},
     "output_type": "execute_result"
    }
   ],
   "source": [
    "a1[1:-1, 1:-1]"
   ]
  },
  {
   "cell_type": "code",
   "execution_count": 195,
   "id": "f0c81109",
   "metadata": {},
   "outputs": [
    {
     "data": {
      "text/plain": [
       "array([[ 7,  8,  9, 10],\n",
       "       [13, 14, 15, 16]])"
      ]
     },
     "execution_count": 195,
     "metadata": {},
     "output_type": "execute_result"
    }
   ],
   "source": [
    "a1[1:3, 1:5]"
   ]
  },
  {
   "cell_type": "code",
   "execution_count": 196,
   "id": "10341b95",
   "metadata": {},
   "outputs": [
    {
     "data": {
      "text/plain": [
       "array([[ 1,  2],\n",
       "       [ 7,  8],\n",
       "       [13, 14],\n",
       "       [19, 20]])"
      ]
     },
     "execution_count": 196,
     "metadata": {},
     "output_type": "execute_result"
    }
   ],
   "source": [
    "a1[:, 1:3]"
   ]
  },
  {
   "cell_type": "code",
   "execution_count": null,
   "id": "9e4bbc34",
   "metadata": {},
   "outputs": [],
   "source": []
  },
  {
   "cell_type": "code",
   "execution_count": null,
   "id": "7090780f",
   "metadata": {},
   "outputs": [],
   "source": []
  }
 ],
 "metadata": {
  "kernelspec": {
   "display_name": "Python 3 (ipykernel)",
   "language": "python",
   "name": "python3"
  },
  "language_info": {
   "codemirror_mode": {
    "name": "ipython",
    "version": 3
   },
   "file_extension": ".py",
   "mimetype": "text/x-python",
   "name": "python",
   "nbconvert_exporter": "python",
   "pygments_lexer": "ipython3",
   "version": "3.9.6"
  }
 },
 "nbformat": 4,
 "nbformat_minor": 5
}
