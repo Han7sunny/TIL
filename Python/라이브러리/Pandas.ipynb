{
 "cells": [
  {
   "cell_type": "markdown",
   "id": "0a372a2c",
   "metadata": {},
   "source": [
    "## Pandas"
   ]
  },
  {
   "cell_type": "markdown",
   "id": "ed027882",
   "metadata": {},
   "source": [
    "+ 스프레드시트 및 관계형 데이터베이스와 같은 유연한 데이터 조작 기술\n",
    "+ Matplotlib 라이브러리와 함꼐 데이터 분석"
   ]
  },
  {
   "cell_type": "markdown",
   "id": "11b5288e",
   "metadata": {},
   "source": [
    "### Data Structures"
   ]
  },
  {
   "cell_type": "markdown",
   "id": "4f7116a9",
   "metadata": {},
   "source": [
    "### Series"
   ]
  },
  {
   "cell_type": "markdown",
   "id": "dba98726",
   "metadata": {},
   "source": [
    "+ 1차원 배열과 함께 사용\n",
    "+ Series의 행 레이블 : 인덱스\n",
    "+ list, tuple, dict는 Series 메소드로 변환 가능"
   ]
  },
  {
   "cell_type": "code",
   "execution_count": 3,
   "id": "0c1cb424",
   "metadata": {},
   "outputs": [
    {
     "data": {
      "text/plain": [
       "pandas.core.series.Series"
      ]
     },
     "execution_count": 3,
     "metadata": {},
     "output_type": "execute_result"
    }
   ],
   "source": [
    "import pandas as pd\n",
    "\n",
    "# tuple -> Series\n",
    "h = ('AA', '2020-02-02', 100, 10.2)\n",
    "s = pd.Series(h) \n",
    "type(s)"
   ]
  },
  {
   "cell_type": "code",
   "execution_count": 11,
   "id": "b5bd1e22",
   "metadata": {},
   "outputs": [
    {
     "name": "stdout",
     "output_type": "stream",
     "text": [
      "0            AA\n",
      "1    2020-02-02\n",
      "2           100\n",
      "3          10.2\n",
      "dtype: object\n"
     ]
    }
   ],
   "source": [
    "print(s) # tuple 변환에서 인덱스 : 숫자로 설정됨"
   ]
  },
  {
   "cell_type": "code",
   "execution_count": 7,
   "id": "bc6838a4",
   "metadata": {},
   "outputs": [
    {
     "name": "stdout",
     "output_type": "stream",
     "text": [
      "name              FB\n",
      "date      2021-02-21\n",
      "shares            90\n",
      "price            3.2\n",
      "dtype: object\n"
     ]
    }
   ],
   "source": [
    "f = ['FB', '2021-02-21', 90, 3.2]\n",
    "f = pd.Series(f, index = ['name', 'date', 'shares', 'price']) # 사용자 지정 인덱스\n",
    "\n",
    "print(f)"
   ]
  },
  {
   "cell_type": "code",
   "execution_count": 8,
   "id": "2e0440f5",
   "metadata": {},
   "outputs": [
    {
     "data": {
      "text/plain": [
       "90"
      ]
     },
     "execution_count": 8,
     "metadata": {},
     "output_type": "execute_result"
    }
   ],
   "source": [
    "f['shares'] # index 이름으로 접근"
   ]
  },
  {
   "cell_type": "code",
   "execution_count": 10,
   "id": "f5676d88",
   "metadata": {},
   "outputs": [
    {
     "data": {
      "text/plain": [
       "shares     90\n",
       "price     3.2\n",
       "dtype: object"
      ]
     },
     "execution_count": 10,
     "metadata": {},
     "output_type": "execute_result"
    }
   ],
   "source": [
    "f[['shares', 'price']]"
   ]
  },
  {
   "cell_type": "code",
   "execution_count": 9,
   "id": "6e31abce",
   "metadata": {},
   "outputs": [
    {
     "data": {
      "text/plain": [
       "'FB'"
      ]
     },
     "execution_count": 9,
     "metadata": {},
     "output_type": "execute_result"
    }
   ],
   "source": [
    "f[0]"
   ]
  },
  {
   "cell_type": "code",
   "execution_count": 5,
   "id": "291ec0db",
   "metadata": {},
   "outputs": [
    {
     "data": {
      "text/plain": [
       "pandas.core.series.Series"
      ]
     },
     "execution_count": 5,
     "metadata": {},
     "output_type": "execute_result"
    }
   ],
   "source": [
    "# dict -> Series\n",
    "d = {'name' : 'IBM', 'data' : '2020-02-22', 'shares' : 100, 'price' : 10.2}\n",
    "ds = pd.Series(d)\n",
    "\n",
    "type(ds)"
   ]
  },
  {
   "cell_type": "code",
   "execution_count": 6,
   "id": "6fb862f2",
   "metadata": {},
   "outputs": [
    {
     "name": "stdout",
     "output_type": "stream",
     "text": [
      "name             IBM\n",
      "data      2020-02-22\n",
      "shares           100\n",
      "price           10.2\n",
      "dtype: object\n"
     ]
    }
   ],
   "source": [
    "print(ds)"
   ]
  },
  {
   "cell_type": "markdown",
   "id": "fa62094e",
   "metadata": {},
   "source": [
    "### DataFrame"
   ]
  },
  {
   "cell_type": "markdown",
   "id": "beea48a6",
   "metadata": {},
   "source": [
    "+ 2차원 배열과 함께 사용\n",
    "+ 행, 열 인덱스   \n",
    "+ 행, 열 인덱스로 접근하면 1차원이 되므로 Series\n",
    "+ 모든 스프레드 시트와 텍스트 파일은 DataFrame으로 읽힘"
   ]
  },
  {
   "cell_type": "code",
   "execution_count": 17,
   "id": "ec29d73e",
   "metadata": {},
   "outputs": [
    {
     "data": {
      "text/plain": [
       "pandas.core.frame.DataFrame"
      ]
     },
     "execution_count": 17,
     "metadata": {},
     "output_type": "execute_result"
    }
   ],
   "source": [
    "# list dict : DataFrame을 생성하는 가장 일반적인 방법\n",
    "data = {\n",
    "    'name' : ['AA', 'IBM', 'GOOG'],\n",
    "    'date' : ['2010-12-01', '2012-02-10', '2020-04-09'],\n",
    "    'shares' : [100, 30, 90],\n",
    "    'price' : [12.3, 10.3, 32.2]\n",
    "}\n",
    "df = pd.DataFrame(data)\n",
    "type(df)"
   ]
  },
  {
   "cell_type": "code",
   "execution_count": 18,
   "id": "f3ff0211",
   "metadata": {},
   "outputs": [
    {
     "data": {
      "text/html": [
       "<div>\n",
       "<style scoped>\n",
       "    .dataframe tbody tr th:only-of-type {\n",
       "        vertical-align: middle;\n",
       "    }\n",
       "\n",
       "    .dataframe tbody tr th {\n",
       "        vertical-align: top;\n",
       "    }\n",
       "\n",
       "    .dataframe thead th {\n",
       "        text-align: right;\n",
       "    }\n",
       "</style>\n",
       "<table border=\"1\" class=\"dataframe\">\n",
       "  <thead>\n",
       "    <tr style=\"text-align: right;\">\n",
       "      <th></th>\n",
       "      <th>name</th>\n",
       "      <th>date</th>\n",
       "      <th>shares</th>\n",
       "      <th>price</th>\n",
       "    </tr>\n",
       "  </thead>\n",
       "  <tbody>\n",
       "    <tr>\n",
       "      <th>0</th>\n",
       "      <td>AA</td>\n",
       "      <td>2010-12-01</td>\n",
       "      <td>100</td>\n",
       "      <td>12.3</td>\n",
       "    </tr>\n",
       "    <tr>\n",
       "      <th>1</th>\n",
       "      <td>IBM</td>\n",
       "      <td>2012-02-10</td>\n",
       "      <td>30</td>\n",
       "      <td>10.3</td>\n",
       "    </tr>\n",
       "    <tr>\n",
       "      <th>2</th>\n",
       "      <td>GOOG</td>\n",
       "      <td>2020-04-09</td>\n",
       "      <td>90</td>\n",
       "      <td>32.2</td>\n",
       "    </tr>\n",
       "  </tbody>\n",
       "</table>\n",
       "</div>"
      ],
      "text/plain": [
       "   name        date  shares  price\n",
       "0    AA  2010-12-01     100   12.3\n",
       "1   IBM  2012-02-10      30   10.3\n",
       "2  GOOG  2020-04-09      90   32.2"
      ]
     },
     "execution_count": 18,
     "metadata": {},
     "output_type": "execute_result"
    }
   ],
   "source": [
    "df"
   ]
  },
  {
   "cell_type": "code",
   "execution_count": 14,
   "id": "2c677e63",
   "metadata": {},
   "outputs": [
    {
     "data": {
      "text/html": [
       "<div>\n",
       "<style scoped>\n",
       "    .dataframe tbody tr th:only-of-type {\n",
       "        vertical-align: middle;\n",
       "    }\n",
       "\n",
       "    .dataframe tbody tr th {\n",
       "        vertical-align: top;\n",
       "    }\n",
       "\n",
       "    .dataframe thead th {\n",
       "        text-align: right;\n",
       "    }\n",
       "</style>\n",
       "<table border=\"1\" class=\"dataframe\">\n",
       "  <thead>\n",
       "    <tr style=\"text-align: right;\">\n",
       "      <th></th>\n",
       "      <th>name</th>\n",
       "      <th>date</th>\n",
       "      <th>shares</th>\n",
       "      <th>price</th>\n",
       "      <th>owner</th>\n",
       "    </tr>\n",
       "  </thead>\n",
       "  <tbody>\n",
       "    <tr>\n",
       "      <th>0</th>\n",
       "      <td>AA</td>\n",
       "      <td>2010-12-01</td>\n",
       "      <td>100</td>\n",
       "      <td>12.3</td>\n",
       "      <td>Unknown</td>\n",
       "    </tr>\n",
       "    <tr>\n",
       "      <th>1</th>\n",
       "      <td>IBM</td>\n",
       "      <td>2012-02-10</td>\n",
       "      <td>30</td>\n",
       "      <td>10.3</td>\n",
       "      <td>Unknown</td>\n",
       "    </tr>\n",
       "    <tr>\n",
       "      <th>2</th>\n",
       "      <td>GOOG</td>\n",
       "      <td>2020-04-09</td>\n",
       "      <td>90</td>\n",
       "      <td>32.2</td>\n",
       "      <td>Unknown</td>\n",
       "    </tr>\n",
       "  </tbody>\n",
       "</table>\n",
       "</div>"
      ],
      "text/plain": [
       "   name        date  shares  price    owner\n",
       "0    AA  2010-12-01     100   12.3  Unknown\n",
       "1   IBM  2012-02-10      30   10.3  Unknown\n",
       "2  GOOG  2020-04-09      90   32.2  Unknown"
      ]
     },
     "execution_count": 14,
     "metadata": {},
     "output_type": "execute_result"
    }
   ],
   "source": [
    "df['owner'] = 'Unknown' # 열 추가\n",
    "df"
   ]
  },
  {
   "cell_type": "code",
   "execution_count": 19,
   "id": "17efb592",
   "metadata": {},
   "outputs": [
    {
     "data": {
      "text/html": [
       "<div>\n",
       "<style scoped>\n",
       "    .dataframe tbody tr th:only-of-type {\n",
       "        vertical-align: middle;\n",
       "    }\n",
       "\n",
       "    .dataframe tbody tr th {\n",
       "        vertical-align: top;\n",
       "    }\n",
       "\n",
       "    .dataframe thead th {\n",
       "        text-align: right;\n",
       "    }\n",
       "</style>\n",
       "<table border=\"1\" class=\"dataframe\">\n",
       "  <thead>\n",
       "    <tr style=\"text-align: right;\">\n",
       "      <th></th>\n",
       "      <th>name</th>\n",
       "      <th>date</th>\n",
       "      <th>shares</th>\n",
       "      <th>price</th>\n",
       "    </tr>\n",
       "  </thead>\n",
       "  <tbody>\n",
       "    <tr>\n",
       "      <th>one</th>\n",
       "      <td>AA</td>\n",
       "      <td>2010-12-01</td>\n",
       "      <td>100</td>\n",
       "      <td>12.3</td>\n",
       "    </tr>\n",
       "    <tr>\n",
       "      <th>two</th>\n",
       "      <td>IBM</td>\n",
       "      <td>2012-02-10</td>\n",
       "      <td>30</td>\n",
       "      <td>10.3</td>\n",
       "    </tr>\n",
       "    <tr>\n",
       "      <th>three</th>\n",
       "      <td>GOOG</td>\n",
       "      <td>2020-04-09</td>\n",
       "      <td>90</td>\n",
       "      <td>32.2</td>\n",
       "    </tr>\n",
       "  </tbody>\n",
       "</table>\n",
       "</div>"
      ],
      "text/plain": [
       "       name        date  shares  price\n",
       "one      AA  2010-12-01     100   12.3\n",
       "two     IBM  2012-02-10      30   10.3\n",
       "three  GOOG  2020-04-09      90   32.2"
      ]
     },
     "execution_count": 19,
     "metadata": {},
     "output_type": "execute_result"
    }
   ],
   "source": [
    "df.index = ['one', 'two', 'three'] # index 변경\n",
    "df"
   ]
  },
  {
   "cell_type": "code",
   "execution_count": 20,
   "id": "1bb22834",
   "metadata": {},
   "outputs": [
    {
     "data": {
      "text/html": [
       "<div>\n",
       "<style scoped>\n",
       "    .dataframe tbody tr th:only-of-type {\n",
       "        vertical-align: middle;\n",
       "    }\n",
       "\n",
       "    .dataframe tbody tr th {\n",
       "        vertical-align: top;\n",
       "    }\n",
       "\n",
       "    .dataframe thead th {\n",
       "        text-align: right;\n",
       "    }\n",
       "</style>\n",
       "<table border=\"1\" class=\"dataframe\">\n",
       "  <thead>\n",
       "    <tr style=\"text-align: right;\">\n",
       "      <th></th>\n",
       "      <th>date</th>\n",
       "      <th>shares</th>\n",
       "      <th>price</th>\n",
       "    </tr>\n",
       "    <tr>\n",
       "      <th>name</th>\n",
       "      <th></th>\n",
       "      <th></th>\n",
       "      <th></th>\n",
       "    </tr>\n",
       "  </thead>\n",
       "  <tbody>\n",
       "    <tr>\n",
       "      <th>AA</th>\n",
       "      <td>2010-12-01</td>\n",
       "      <td>100</td>\n",
       "      <td>12.3</td>\n",
       "    </tr>\n",
       "    <tr>\n",
       "      <th>IBM</th>\n",
       "      <td>2012-02-10</td>\n",
       "      <td>30</td>\n",
       "      <td>10.3</td>\n",
       "    </tr>\n",
       "    <tr>\n",
       "      <th>GOOG</th>\n",
       "      <td>2020-04-09</td>\n",
       "      <td>90</td>\n",
       "      <td>32.2</td>\n",
       "    </tr>\n",
       "  </tbody>\n",
       "</table>\n",
       "</div>"
      ],
      "text/plain": [
       "            date  shares  price\n",
       "name                           \n",
       "AA    2010-12-01     100   12.3\n",
       "IBM   2012-02-10      30   10.3\n",
       "GOOG  2020-04-09      90   32.2"
      ]
     },
     "execution_count": 20,
     "metadata": {},
     "output_type": "execute_result"
    }
   ],
   "source": [
    "df = df.set_index(['name']) # DataFrame의 column을 set_index()를 사용하여 인덱스로 설정 -> 검생 성능 향상\n",
    "df"
   ]
  },
  {
   "cell_type": "code",
   "execution_count": 21,
   "id": "3597f6d4",
   "metadata": {},
   "outputs": [
    {
     "data": {
      "text/plain": [
       "name\n",
       "AA      100\n",
       "IBM      30\n",
       "GOOG     90\n",
       "Name: shares, dtype: int64"
      ]
     },
     "execution_count": 21,
     "metadata": {},
     "output_type": "execute_result"
    }
   ],
   "source": [
    "df['shares'] # column index로 접근"
   ]
  },
  {
   "cell_type": "code",
   "execution_count": 24,
   "id": "76fdbb19",
   "metadata": {},
   "outputs": [
    {
     "data": {
      "text/plain": [
       "date      2010-12-01\n",
       "shares           100\n",
       "price           12.3\n",
       "Name: AA, dtype: object"
      ]
     },
     "execution_count": 24,
     "metadata": {},
     "output_type": "execute_result"
    }
   ],
   "source": [
    "df.loc['AA'] # row index로 접근"
   ]
  },
  {
   "cell_type": "code",
   "execution_count": 41,
   "id": "4aab1de2",
   "metadata": {},
   "outputs": [
    {
     "data": {
      "text/html": [
       "<div>\n",
       "<style scoped>\n",
       "    .dataframe tbody tr th:only-of-type {\n",
       "        vertical-align: middle;\n",
       "    }\n",
       "\n",
       "    .dataframe tbody tr th {\n",
       "        vertical-align: top;\n",
       "    }\n",
       "\n",
       "    .dataframe thead th {\n",
       "        text-align: right;\n",
       "    }\n",
       "</style>\n",
       "<table border=\"1\" class=\"dataframe\">\n",
       "  <thead>\n",
       "    <tr style=\"text-align: right;\">\n",
       "      <th></th>\n",
       "      <th>c0</th>\n",
       "      <th>c1</th>\n",
       "      <th>c2</th>\n",
       "    </tr>\n",
       "  </thead>\n",
       "  <tbody>\n",
       "    <tr>\n",
       "      <th>r0</th>\n",
       "      <td>0</td>\n",
       "      <td>1</td>\n",
       "      <td>2</td>\n",
       "    </tr>\n",
       "    <tr>\n",
       "      <th>r1</th>\n",
       "      <td>3</td>\n",
       "      <td>4</td>\n",
       "      <td>5</td>\n",
       "    </tr>\n",
       "    <tr>\n",
       "      <th>r2</th>\n",
       "      <td>6</td>\n",
       "      <td>7</td>\n",
       "      <td>8</td>\n",
       "    </tr>\n",
       "  </tbody>\n",
       "</table>\n",
       "</div>"
      ],
      "text/plain": [
       "    c0  c1  c2\n",
       "r0   0   1   2\n",
       "r1   3   4   5\n",
       "r2   6   7   8"
      ]
     },
     "execution_count": 41,
     "metadata": {},
     "output_type": "execute_result"
    }
   ],
   "source": [
    "# loc 예제\n",
    "ex_df = pd.DataFrame([[0,1,2],[3,4,5],[6,7,8]], index = ['r0', 'r1', 'r2'], columns = ['c0', 'c1','c2'])\n",
    "ex_df"
   ]
  },
  {
   "cell_type": "code",
   "execution_count": 42,
   "id": "281e693b",
   "metadata": {},
   "outputs": [
    {
     "data": {
      "text/plain": [
       "c0    3\n",
       "c1    4\n",
       "c2    5\n",
       "Name: r1, dtype: int64"
      ]
     },
     "execution_count": 42,
     "metadata": {},
     "output_type": "execute_result"
    }
   ],
   "source": [
    "ex_df.loc['r1']"
   ]
  },
  {
   "cell_type": "code",
   "execution_count": 43,
   "id": "61c302f4",
   "metadata": {},
   "outputs": [
    {
     "data": {
      "text/plain": [
       "7"
      ]
     },
     "execution_count": 43,
     "metadata": {},
     "output_type": "execute_result"
    }
   ],
   "source": [
    "ex_df.loc['r2','c1']"
   ]
  },
  {
   "cell_type": "code",
   "execution_count": 45,
   "id": "7f34eab9",
   "metadata": {},
   "outputs": [],
   "source": [
    "# ex_df.loc['c1'] \n",
    "# KeyError, loc는 label 기반으로 데이터 접근"
   ]
  },
  {
   "cell_type": "code",
   "execution_count": 46,
   "id": "fbfacd55",
   "metadata": {},
   "outputs": [
    {
     "data": {
      "text/plain": [
       "7"
      ]
     },
     "execution_count": 46,
     "metadata": {},
     "output_type": "execute_result"
    }
   ],
   "source": [
    "ex_df.iloc[2,1]"
   ]
  },
  {
   "cell_type": "code",
   "execution_count": 49,
   "id": "a3b51922",
   "metadata": {},
   "outputs": [
    {
     "data": {
      "text/html": [
       "<div>\n",
       "<style scoped>\n",
       "    .dataframe tbody tr th:only-of-type {\n",
       "        vertical-align: middle;\n",
       "    }\n",
       "\n",
       "    .dataframe tbody tr th {\n",
       "        vertical-align: top;\n",
       "    }\n",
       "\n",
       "    .dataframe thead th {\n",
       "        text-align: right;\n",
       "    }\n",
       "</style>\n",
       "<table border=\"1\" class=\"dataframe\">\n",
       "  <thead>\n",
       "    <tr style=\"text-align: right;\">\n",
       "      <th></th>\n",
       "      <th>date</th>\n",
       "      <th>price</th>\n",
       "    </tr>\n",
       "    <tr>\n",
       "      <th>name</th>\n",
       "      <th></th>\n",
       "      <th></th>\n",
       "    </tr>\n",
       "  </thead>\n",
       "  <tbody>\n",
       "    <tr>\n",
       "      <th>AA</th>\n",
       "      <td>2010-12-01</td>\n",
       "      <td>12.3</td>\n",
       "    </tr>\n",
       "    <tr>\n",
       "      <th>IBM</th>\n",
       "      <td>2012-02-10</td>\n",
       "      <td>10.3</td>\n",
       "    </tr>\n",
       "    <tr>\n",
       "      <th>GOOG</th>\n",
       "      <td>2020-04-09</td>\n",
       "      <td>32.2</td>\n",
       "    </tr>\n",
       "  </tbody>\n",
       "</table>\n",
       "</div>"
      ],
      "text/plain": [
       "            date  price\n",
       "name                   \n",
       "AA    2010-12-01   12.3\n",
       "IBM   2012-02-10   10.3\n",
       "GOOG  2020-04-09   32.2"
      ]
     },
     "execution_count": 49,
     "metadata": {},
     "output_type": "execute_result"
    }
   ],
   "source": [
    "df.drop('shares', axis = 1) # column 삭제\n",
    "# del df['shares']"
   ]
  },
  {
   "cell_type": "markdown",
   "id": "3182436f",
   "metadata": {},
   "source": [
    "#### Reading files"
   ]
  },
  {
   "cell_type": "code",
   "execution_count": 4,
   "id": "f52bc8b9",
   "metadata": {},
   "outputs": [
    {
     "data": {
      "text/html": [
       "<div>\n",
       "<style scoped>\n",
       "    .dataframe tbody tr th:only-of-type {\n",
       "        vertical-align: middle;\n",
       "    }\n",
       "\n",
       "    .dataframe tbody tr th {\n",
       "        vertical-align: top;\n",
       "    }\n",
       "\n",
       "    .dataframe thead th {\n",
       "        text-align: right;\n",
       "    }\n",
       "</style>\n",
       "<table border=\"1\" class=\"dataframe\">\n",
       "  <thead>\n",
       "    <tr style=\"text-align: right;\">\n",
       "      <th></th>\n",
       "      <th>title</th>\n",
       "      <th>year</th>\n",
       "      <th>name</th>\n",
       "      <th>type</th>\n",
       "      <th>character</th>\n",
       "      <th>n</th>\n",
       "    </tr>\n",
       "  </thead>\n",
       "  <tbody>\n",
       "    <tr>\n",
       "      <th>0</th>\n",
       "      <td>Closet Monster</td>\n",
       "      <td>2015</td>\n",
       "      <td>Buffy #1</td>\n",
       "      <td>actor</td>\n",
       "      <td>Buffy 4</td>\n",
       "      <td>31.0</td>\n",
       "    </tr>\n",
       "    <tr>\n",
       "      <th>1</th>\n",
       "      <td>Suuri illusioni</td>\n",
       "      <td>1985</td>\n",
       "      <td>Homo $</td>\n",
       "      <td>actor</td>\n",
       "      <td>Guests</td>\n",
       "      <td>22.0</td>\n",
       "    </tr>\n",
       "    <tr>\n",
       "      <th>2</th>\n",
       "      <td>Battle of the Sexes</td>\n",
       "      <td>2017</td>\n",
       "      <td>$hutter</td>\n",
       "      <td>actor</td>\n",
       "      <td>Bobby Riggs Fan</td>\n",
       "      <td>10.0</td>\n",
       "    </tr>\n",
       "    <tr>\n",
       "      <th>3</th>\n",
       "      <td>Secret in Their Eyes</td>\n",
       "      <td>2015</td>\n",
       "      <td>$hutter</td>\n",
       "      <td>actor</td>\n",
       "      <td>2002 Dodger Fan</td>\n",
       "      <td>NaN</td>\n",
       "    </tr>\n",
       "    <tr>\n",
       "      <th>4</th>\n",
       "      <td>Steve Jobs</td>\n",
       "      <td>2015</td>\n",
       "      <td>$hutter</td>\n",
       "      <td>actor</td>\n",
       "      <td>1988 Opera House Patron</td>\n",
       "      <td>NaN</td>\n",
       "    </tr>\n",
       "  </tbody>\n",
       "</table>\n",
       "</div>"
      ],
      "text/plain": [
       "                  title  year      name   type                character     n\n",
       "0        Closet Monster  2015  Buffy #1  actor                  Buffy 4  31.0\n",
       "1       Suuri illusioni  1985    Homo $  actor                   Guests  22.0\n",
       "2   Battle of the Sexes  2017   $hutter  actor          Bobby Riggs Fan  10.0\n",
       "3  Secret in Their Eyes  2015   $hutter  actor          2002 Dodger Fan   NaN\n",
       "4            Steve Jobs  2015   $hutter  actor  1988 Opera House Patron   NaN"
      ]
     },
     "execution_count": 4,
     "metadata": {},
     "output_type": "execute_result"
    }
   ],
   "source": [
    "import pandas as pd\n",
    "casts = pd.read_csv(\"./ex_data/cast.csv\", index_col = None) \n",
    "# casts = pd.read_csv(\"./ex_data/cast.csv\", index_col = None, encoding='utf-8') \n",
    "# index_col = None : 인덱스 없음 (첫 번째 열 : data)\n",
    "\n",
    "casts.head() # DataFrame의 처음 5개(default) 요소 출력\n",
    "#casts.tail() # DataFrame의 마지막 5개(default) 요소 출력"
   ]
  },
  {
   "cell_type": "markdown",
   "id": "34298cee",
   "metadata": {},
   "source": [
    "#### DataFrame 조건식으로 데이터 필터링"
   ]
  },
  {
   "cell_type": "code",
   "execution_count": 66,
   "id": "0c2c35f2",
   "metadata": {},
   "outputs": [
    {
     "data": {
      "text/html": [
       "<div>\n",
       "<style scoped>\n",
       "    .dataframe tbody tr th:only-of-type {\n",
       "        vertical-align: middle;\n",
       "    }\n",
       "\n",
       "    .dataframe tbody tr th {\n",
       "        vertical-align: top;\n",
       "    }\n",
       "\n",
       "    .dataframe thead th {\n",
       "        text-align: right;\n",
       "    }\n",
       "</style>\n",
       "<table border=\"1\" class=\"dataframe\">\n",
       "  <thead>\n",
       "    <tr style=\"text-align: right;\">\n",
       "      <th></th>\n",
       "      <th>title</th>\n",
       "      <th>year</th>\n",
       "      <th>name</th>\n",
       "      <th>type</th>\n",
       "      <th>character</th>\n",
       "      <th>n</th>\n",
       "    </tr>\n",
       "  </thead>\n",
       "  <tbody>\n",
       "    <tr>\n",
       "      <th>0</th>\n",
       "      <td>Closet Monster</td>\n",
       "      <td>2015</td>\n",
       "      <td>Buffy #1</td>\n",
       "      <td>actor</td>\n",
       "      <td>Buffy 4</td>\n",
       "      <td>31.0</td>\n",
       "    </tr>\n",
       "    <tr>\n",
       "      <th>2</th>\n",
       "      <td>Battle of the Sexes</td>\n",
       "      <td>2017</td>\n",
       "      <td>$hutter</td>\n",
       "      <td>actor</td>\n",
       "      <td>Bobby Riggs Fan</td>\n",
       "      <td>10.0</td>\n",
       "    </tr>\n",
       "    <tr>\n",
       "      <th>3</th>\n",
       "      <td>Secret in Their Eyes</td>\n",
       "      <td>2015</td>\n",
       "      <td>$hutter</td>\n",
       "      <td>actor</td>\n",
       "      <td>2002 Dodger Fan</td>\n",
       "      <td>NaN</td>\n",
       "    </tr>\n",
       "    <tr>\n",
       "      <th>4</th>\n",
       "      <td>Steve Jobs</td>\n",
       "      <td>2015</td>\n",
       "      <td>$hutter</td>\n",
       "      <td>actor</td>\n",
       "      <td>1988 Opera House Patron</td>\n",
       "      <td>NaN</td>\n",
       "    </tr>\n",
       "    <tr>\n",
       "      <th>5</th>\n",
       "      <td>Straight Outta Compton</td>\n",
       "      <td>2015</td>\n",
       "      <td>$hutter</td>\n",
       "      <td>actor</td>\n",
       "      <td>Club Patron</td>\n",
       "      <td>NaN</td>\n",
       "    </tr>\n",
       "  </tbody>\n",
       "</table>\n",
       "</div>"
      ],
      "text/plain": [
       "                    title  year      name   type                character  \\\n",
       "0          Closet Monster  2015  Buffy #1  actor                  Buffy 4   \n",
       "2     Battle of the Sexes  2017   $hutter  actor          Bobby Riggs Fan   \n",
       "3    Secret in Their Eyes  2015   $hutter  actor          2002 Dodger Fan   \n",
       "4              Steve Jobs  2015   $hutter  actor  1988 Opera House Patron   \n",
       "5  Straight Outta Compton  2015   $hutter  actor              Club Patron   \n",
       "\n",
       "      n  \n",
       "0  31.0  \n",
       "2  10.0  \n",
       "3   NaN  \n",
       "4   NaN  \n",
       "5   NaN  "
      ]
     },
     "execution_count": 66,
     "metadata": {},
     "output_type": "execute_result"
    }
   ],
   "source": [
    "after85 = casts[casts['year'] > 1985] \n",
    "after85.head()"
   ]
  },
  {
   "cell_type": "code",
   "execution_count": 69,
   "id": "1af68600",
   "metadata": {},
   "outputs": [
    {
     "data": {
      "text/html": [
       "<div>\n",
       "<style scoped>\n",
       "    .dataframe tbody tr th:only-of-type {\n",
       "        vertical-align: middle;\n",
       "    }\n",
       "\n",
       "    .dataframe tbody tr th {\n",
       "        vertical-align: top;\n",
       "    }\n",
       "\n",
       "    .dataframe thead th {\n",
       "        text-align: right;\n",
       "    }\n",
       "</style>\n",
       "<table border=\"1\" class=\"dataframe\">\n",
       "  <thead>\n",
       "    <tr style=\"text-align: right;\">\n",
       "      <th></th>\n",
       "      <th>title</th>\n",
       "      <th>year</th>\n",
       "      <th>name</th>\n",
       "      <th>type</th>\n",
       "      <th>character</th>\n",
       "      <th>n</th>\n",
       "    </tr>\n",
       "  </thead>\n",
       "  <tbody>\n",
       "    <tr>\n",
       "      <th>12</th>\n",
       "      <td>Mixing Nia</td>\n",
       "      <td>1998</td>\n",
       "      <td>Michael 'babeepower' Viera</td>\n",
       "      <td>actor</td>\n",
       "      <td>Rapper</td>\n",
       "      <td>NaN</td>\n",
       "    </tr>\n",
       "    <tr>\n",
       "      <th>19</th>\n",
       "      <td>Mariano Mison... NBI</td>\n",
       "      <td>1997</td>\n",
       "      <td>Joseph 'Byron' Sese</td>\n",
       "      <td>actor</td>\n",
       "      <td>Putik's Son</td>\n",
       "      <td>31.0</td>\n",
       "    </tr>\n",
       "    <tr>\n",
       "      <th>31</th>\n",
       "      <td>Pelotazo nacional</td>\n",
       "      <td>1993</td>\n",
       "      <td>F?lix 'El Gato'</td>\n",
       "      <td>actor</td>\n",
       "      <td>Rebolledo</td>\n",
       "      <td>12.0</td>\n",
       "    </tr>\n",
       "    <tr>\n",
       "      <th>38</th>\n",
       "      <td>Killing Device</td>\n",
       "      <td>1993</td>\n",
       "      <td>Van 'Igor' Morrison</td>\n",
       "      <td>actor</td>\n",
       "      <td>Jeep Driver</td>\n",
       "      <td>51.0</td>\n",
       "    </tr>\n",
       "    <tr>\n",
       "      <th>44</th>\n",
       "      <td>Violencia urbana</td>\n",
       "      <td>1996</td>\n",
       "      <td>N?stor 'Kick Boxer'</td>\n",
       "      <td>actor</td>\n",
       "      <td>Monta?a</td>\n",
       "      <td>21.0</td>\n",
       "    </tr>\n",
       "  </tbody>\n",
       "</table>\n",
       "</div>"
      ],
      "text/plain": [
       "                   title  year                        name   type  \\\n",
       "12            Mixing Nia  1998  Michael 'babeepower' Viera  actor   \n",
       "19  Mariano Mison... NBI  1997         Joseph 'Byron' Sese  actor   \n",
       "31     Pelotazo nacional  1993             F?lix 'El Gato'  actor   \n",
       "38        Killing Device  1993         Van 'Igor' Morrison  actor   \n",
       "44      Violencia urbana  1996         N?stor 'Kick Boxer'  actor   \n",
       "\n",
       "      character     n  \n",
       "12       Rapper   NaN  \n",
       "19  Putik's Son  31.0  \n",
       "31    Rebolledo  12.0  \n",
       "38  Jeep Driver  51.0  \n",
       "44      Monta?a  21.0  "
      ]
     },
     "execution_count": 69,
     "metadata": {},
     "output_type": "execute_result"
    }
   ],
   "source": [
    "Movies90 = casts[(casts['year'] >= 1990) & (casts['year'] < 2000)]\n",
    "Movies90.head()"
   ]
  },
  {
   "cell_type": "markdown",
   "id": "836b2c8d",
   "metadata": {},
   "source": [
    "#### Data Sorting"
   ]
  },
  {
   "cell_type": "code",
   "execution_count": 5,
   "id": "b17c2e5a",
   "metadata": {},
   "outputs": [
    {
     "data": {
      "text/html": [
       "<div>\n",
       "<style scoped>\n",
       "    .dataframe tbody tr th:only-of-type {\n",
       "        vertical-align: middle;\n",
       "    }\n",
       "\n",
       "    .dataframe tbody tr th {\n",
       "        vertical-align: top;\n",
       "    }\n",
       "\n",
       "    .dataframe thead th {\n",
       "        text-align: right;\n",
       "    }\n",
       "</style>\n",
       "<table border=\"1\" class=\"dataframe\">\n",
       "  <thead>\n",
       "    <tr style=\"text-align: right;\">\n",
       "      <th></th>\n",
       "      <th>title</th>\n",
       "      <th>year</th>\n",
       "      <th>name</th>\n",
       "      <th>type</th>\n",
       "      <th>character</th>\n",
       "      <th>n</th>\n",
       "    </tr>\n",
       "  </thead>\n",
       "  <tbody>\n",
       "    <tr>\n",
       "      <th>12868</th>\n",
       "      <td>Macbeth</td>\n",
       "      <td>2015</td>\n",
       "      <td>Darren Adamson</td>\n",
       "      <td>actor</td>\n",
       "      <td>Soldier</td>\n",
       "      <td>NaN</td>\n",
       "    </tr>\n",
       "    <tr>\n",
       "      <th>22302</th>\n",
       "      <td>Macbeth</td>\n",
       "      <td>1916</td>\n",
       "      <td>Spottiswoode Aitken</td>\n",
       "      <td>actor</td>\n",
       "      <td>Duncan</td>\n",
       "      <td>4.0</td>\n",
       "    </tr>\n",
       "    <tr>\n",
       "      <th>25855</th>\n",
       "      <td>Macbeth</td>\n",
       "      <td>1948</td>\n",
       "      <td>Robert Alan</td>\n",
       "      <td>actor</td>\n",
       "      <td>Third Murderer</td>\n",
       "      <td>NaN</td>\n",
       "    </tr>\n",
       "    <tr>\n",
       "      <th>26990</th>\n",
       "      <td>Macbeth</td>\n",
       "      <td>2016</td>\n",
       "      <td>John Albasiny</td>\n",
       "      <td>actor</td>\n",
       "      <td>Doctor</td>\n",
       "      <td>NaN</td>\n",
       "    </tr>\n",
       "    <tr>\n",
       "      <th>38090</th>\n",
       "      <td>Macbeth</td>\n",
       "      <td>1948</td>\n",
       "      <td>William Alland</td>\n",
       "      <td>actor</td>\n",
       "      <td>Second Murderer</td>\n",
       "      <td>18.0</td>\n",
       "    </tr>\n",
       "  </tbody>\n",
       "</table>\n",
       "</div>"
      ],
      "text/plain": [
       "         title  year                 name   type        character     n\n",
       "12868  Macbeth  2015       Darren Adamson  actor          Soldier   NaN\n",
       "22302  Macbeth  1916  Spottiswoode Aitken  actor           Duncan   4.0\n",
       "25855  Macbeth  1948          Robert Alan  actor   Third Murderer   NaN\n",
       "26990  Macbeth  2016        John Albasiny  actor           Doctor   NaN\n",
       "38090  Macbeth  1948       William Alland  actor  Second Murderer  18.0"
      ]
     },
     "execution_count": 5,
     "metadata": {},
     "output_type": "execute_result"
    }
   ],
   "source": [
    "macbeth = casts[casts['title'] == 'Macbeth'] # 변수에 넣어주어야 함\n",
    "# macbeth = casts[casts['title'] == 'Macbeth'].sort_index() # index 별로 정렬\n",
    "macbeth.head()"
   ]
  },
  {
   "cell_type": "code",
   "execution_count": 6,
   "id": "e288a84e",
   "metadata": {},
   "outputs": [
    {
     "data": {
      "text/html": [
       "<div>\n",
       "<style scoped>\n",
       "    .dataframe tbody tr th:only-of-type {\n",
       "        vertical-align: middle;\n",
       "    }\n",
       "\n",
       "    .dataframe tbody tr th {\n",
       "        vertical-align: top;\n",
       "    }\n",
       "\n",
       "    .dataframe thead th {\n",
       "        text-align: right;\n",
       "    }\n",
       "</style>\n",
       "<table border=\"1\" class=\"dataframe\">\n",
       "  <thead>\n",
       "    <tr style=\"text-align: right;\">\n",
       "      <th></th>\n",
       "      <th>title</th>\n",
       "      <th>year</th>\n",
       "      <th>name</th>\n",
       "      <th>type</th>\n",
       "      <th>character</th>\n",
       "      <th>n</th>\n",
       "    </tr>\n",
       "  </thead>\n",
       "  <tbody>\n",
       "    <tr>\n",
       "      <th>22302</th>\n",
       "      <td>Macbeth</td>\n",
       "      <td>1916</td>\n",
       "      <td>Spottiswoode Aitken</td>\n",
       "      <td>actor</td>\n",
       "      <td>Duncan</td>\n",
       "      <td>4.0</td>\n",
       "    </tr>\n",
       "    <tr>\n",
       "      <th>63776</th>\n",
       "      <td>Macbeth</td>\n",
       "      <td>1916</td>\n",
       "      <td>Mary Alden</td>\n",
       "      <td>actress</td>\n",
       "      <td>Lady Macduff</td>\n",
       "      <td>6.0</td>\n",
       "    </tr>\n",
       "    <tr>\n",
       "      <th>25855</th>\n",
       "      <td>Macbeth</td>\n",
       "      <td>1948</td>\n",
       "      <td>Robert Alan</td>\n",
       "      <td>actor</td>\n",
       "      <td>Third Murderer</td>\n",
       "      <td>NaN</td>\n",
       "    </tr>\n",
       "    <tr>\n",
       "      <th>38090</th>\n",
       "      <td>Macbeth</td>\n",
       "      <td>1948</td>\n",
       "      <td>William Alland</td>\n",
       "      <td>actor</td>\n",
       "      <td>Second Murderer</td>\n",
       "      <td>18.0</td>\n",
       "    </tr>\n",
       "    <tr>\n",
       "      <th>40639</th>\n",
       "      <td>Macbeth</td>\n",
       "      <td>1997</td>\n",
       "      <td>Stevie Allen</td>\n",
       "      <td>actor</td>\n",
       "      <td>Murderer</td>\n",
       "      <td>21.0</td>\n",
       "    </tr>\n",
       "  </tbody>\n",
       "</table>\n",
       "</div>"
      ],
      "text/plain": [
       "         title  year                 name     type        character     n\n",
       "22302  Macbeth  1916  Spottiswoode Aitken    actor           Duncan   4.0\n",
       "63776  Macbeth  1916           Mary Alden  actress     Lady Macduff   6.0\n",
       "25855  Macbeth  1948          Robert Alan    actor   Third Murderer   NaN\n",
       "38090  Macbeth  1948       William Alland    actor  Second Murderer  18.0\n",
       "40639  Macbeth  1997         Stevie Allen    actor         Murderer  21.0"
      ]
     },
     "execution_count": 6,
     "metadata": {},
     "output_type": "execute_result"
    }
   ],
   "source": [
    "macbeth = casts[casts['title'] == 'Macbeth'].sort_values('year') # year 기준으로 정렬\n",
    "macbeth.head()"
   ]
  },
  {
   "cell_type": "markdown",
   "id": "24b39205",
   "metadata": {},
   "source": [
    "#### Null values"
   ]
  },
  {
   "cell_type": "markdown",
   "id": "1e8697b3",
   "metadata": {},
   "source": [
    "파이썬 NaN : NA + NULL"
   ]
  },
  {
   "cell_type": "code",
   "execution_count": 74,
   "id": "d6190043",
   "metadata": {},
   "outputs": [
    {
     "data": {
      "text/html": [
       "<div>\n",
       "<style scoped>\n",
       "    .dataframe tbody tr th:only-of-type {\n",
       "        vertical-align: middle;\n",
       "    }\n",
       "\n",
       "    .dataframe tbody tr th {\n",
       "        vertical-align: top;\n",
       "    }\n",
       "\n",
       "    .dataframe thead th {\n",
       "        text-align: right;\n",
       "    }\n",
       "</style>\n",
       "<table border=\"1\" class=\"dataframe\">\n",
       "  <thead>\n",
       "    <tr style=\"text-align: right;\">\n",
       "      <th></th>\n",
       "      <th>title</th>\n",
       "      <th>year</th>\n",
       "      <th>name</th>\n",
       "      <th>type</th>\n",
       "      <th>character</th>\n",
       "      <th>n</th>\n",
       "    </tr>\n",
       "  </thead>\n",
       "  <tbody>\n",
       "    <tr>\n",
       "      <th>22302</th>\n",
       "      <td>False</td>\n",
       "      <td>False</td>\n",
       "      <td>False</td>\n",
       "      <td>False</td>\n",
       "      <td>False</td>\n",
       "      <td>False</td>\n",
       "    </tr>\n",
       "    <tr>\n",
       "      <th>63776</th>\n",
       "      <td>False</td>\n",
       "      <td>False</td>\n",
       "      <td>False</td>\n",
       "      <td>False</td>\n",
       "      <td>False</td>\n",
       "      <td>False</td>\n",
       "    </tr>\n",
       "    <tr>\n",
       "      <th>25855</th>\n",
       "      <td>False</td>\n",
       "      <td>False</td>\n",
       "      <td>False</td>\n",
       "      <td>False</td>\n",
       "      <td>False</td>\n",
       "      <td>True</td>\n",
       "    </tr>\n",
       "    <tr>\n",
       "      <th>38090</th>\n",
       "      <td>False</td>\n",
       "      <td>False</td>\n",
       "      <td>False</td>\n",
       "      <td>False</td>\n",
       "      <td>False</td>\n",
       "      <td>False</td>\n",
       "    </tr>\n",
       "    <tr>\n",
       "      <th>40639</th>\n",
       "      <td>False</td>\n",
       "      <td>False</td>\n",
       "      <td>False</td>\n",
       "      <td>False</td>\n",
       "      <td>False</td>\n",
       "      <td>False</td>\n",
       "    </tr>\n",
       "  </tbody>\n",
       "</table>\n",
       "</div>"
      ],
      "text/plain": [
       "       title   year   name   type  character      n\n",
       "22302  False  False  False  False      False  False\n",
       "63776  False  False  False  False      False  False\n",
       "25855  False  False  False  False      False   True\n",
       "38090  False  False  False  False      False  False\n",
       "40639  False  False  False  False      False  False"
      ]
     },
     "execution_count": 74,
     "metadata": {},
     "output_type": "execute_result"
    }
   ],
   "source": [
    "macbeth.isnull().head() # null 값을 가질 경우 true\n",
    "# macbeth.notnull().head() # null 값을 가지지 않을 경우 true"
   ]
  },
  {
   "cell_type": "code",
   "execution_count": 7,
   "id": "1ccb65e9",
   "metadata": {},
   "outputs": [
    {
     "data": {
      "text/html": [
       "<div>\n",
       "<style scoped>\n",
       "    .dataframe tbody tr th:only-of-type {\n",
       "        vertical-align: middle;\n",
       "    }\n",
       "\n",
       "    .dataframe tbody tr th {\n",
       "        vertical-align: top;\n",
       "    }\n",
       "\n",
       "    .dataframe thead th {\n",
       "        text-align: right;\n",
       "    }\n",
       "</style>\n",
       "<table border=\"1\" class=\"dataframe\">\n",
       "  <thead>\n",
       "    <tr style=\"text-align: right;\">\n",
       "      <th></th>\n",
       "      <th>title</th>\n",
       "      <th>year</th>\n",
       "      <th>name</th>\n",
       "      <th>type</th>\n",
       "      <th>character</th>\n",
       "      <th>n</th>\n",
       "    </tr>\n",
       "  </thead>\n",
       "  <tbody>\n",
       "    <tr>\n",
       "      <th>22302</th>\n",
       "      <td>Macbeth</td>\n",
       "      <td>1916</td>\n",
       "      <td>Spottiswoode Aitken</td>\n",
       "      <td>actor</td>\n",
       "      <td>Duncan</td>\n",
       "      <td>4.0</td>\n",
       "    </tr>\n",
       "    <tr>\n",
       "      <th>63776</th>\n",
       "      <td>Macbeth</td>\n",
       "      <td>1916</td>\n",
       "      <td>Mary Alden</td>\n",
       "      <td>actress</td>\n",
       "      <td>Lady Macduff</td>\n",
       "      <td>6.0</td>\n",
       "    </tr>\n",
       "    <tr>\n",
       "      <th>25855</th>\n",
       "      <td>Macbeth</td>\n",
       "      <td>1948</td>\n",
       "      <td>Robert Alan</td>\n",
       "      <td>actor</td>\n",
       "      <td>Third Murderer</td>\n",
       "      <td>NA</td>\n",
       "    </tr>\n",
       "    <tr>\n",
       "      <th>38090</th>\n",
       "      <td>Macbeth</td>\n",
       "      <td>1948</td>\n",
       "      <td>William Alland</td>\n",
       "      <td>actor</td>\n",
       "      <td>Second Murderer</td>\n",
       "      <td>18.0</td>\n",
       "    </tr>\n",
       "    <tr>\n",
       "      <th>40639</th>\n",
       "      <td>Macbeth</td>\n",
       "      <td>1997</td>\n",
       "      <td>Stevie Allen</td>\n",
       "      <td>actor</td>\n",
       "      <td>Murderer</td>\n",
       "      <td>21.0</td>\n",
       "    </tr>\n",
       "  </tbody>\n",
       "</table>\n",
       "</div>"
      ],
      "text/plain": [
       "         title  year                 name     type        character     n\n",
       "22302  Macbeth  1916  Spottiswoode Aitken    actor           Duncan   4.0\n",
       "63776  Macbeth  1916           Mary Alden  actress     Lady Macduff   6.0\n",
       "25855  Macbeth  1948          Robert Alan    actor   Third Murderer    NA\n",
       "38090  Macbeth  1948       William Alland    actor  Second Murderer  18.0\n",
       "40639  Macbeth  1997         Stevie Allen    actor         Murderer  21.0"
      ]
     },
     "execution_count": 7,
     "metadata": {},
     "output_type": "execute_result"
    }
   ],
   "source": [
    "macbeth_fill = macbeth.fillna('NA') # NaN를 NA로 대체\n",
    "macbeth_fill.head()"
   ]
  },
  {
   "cell_type": "code",
   "execution_count": 8,
   "id": "9f3921cc",
   "metadata": {},
   "outputs": [
    {
     "data": {
      "text/html": [
       "<div>\n",
       "<style scoped>\n",
       "    .dataframe tbody tr th:only-of-type {\n",
       "        vertical-align: middle;\n",
       "    }\n",
       "\n",
       "    .dataframe tbody tr th {\n",
       "        vertical-align: top;\n",
       "    }\n",
       "\n",
       "    .dataframe thead th {\n",
       "        text-align: right;\n",
       "    }\n",
       "</style>\n",
       "<table border=\"1\" class=\"dataframe\">\n",
       "  <thead>\n",
       "    <tr style=\"text-align: right;\">\n",
       "      <th></th>\n",
       "      <th>title</th>\n",
       "      <th>year</th>\n",
       "      <th>name</th>\n",
       "      <th>type</th>\n",
       "      <th>character</th>\n",
       "      <th>n</th>\n",
       "    </tr>\n",
       "  </thead>\n",
       "  <tbody>\n",
       "    <tr>\n",
       "      <th>22302</th>\n",
       "      <td>Macbeth</td>\n",
       "      <td>1916</td>\n",
       "      <td>Spottiswoode Aitken</td>\n",
       "      <td>actor</td>\n",
       "      <td>Duncan</td>\n",
       "      <td>4.0</td>\n",
       "    </tr>\n",
       "    <tr>\n",
       "      <th>63776</th>\n",
       "      <td>Macbeth</td>\n",
       "      <td>1916</td>\n",
       "      <td>Mary Alden</td>\n",
       "      <td>actress</td>\n",
       "      <td>Lady Macduff</td>\n",
       "      <td>6.0</td>\n",
       "    </tr>\n",
       "    <tr>\n",
       "      <th>25855</th>\n",
       "      <td>Macbeth</td>\n",
       "      <td>1948</td>\n",
       "      <td>Robert Alan</td>\n",
       "      <td>actor</td>\n",
       "      <td>Third Murderer</td>\n",
       "      <td>6.0</td>\n",
       "    </tr>\n",
       "    <tr>\n",
       "      <th>38090</th>\n",
       "      <td>Macbeth</td>\n",
       "      <td>1948</td>\n",
       "      <td>William Alland</td>\n",
       "      <td>actor</td>\n",
       "      <td>Second Murderer</td>\n",
       "      <td>18.0</td>\n",
       "    </tr>\n",
       "    <tr>\n",
       "      <th>40639</th>\n",
       "      <td>Macbeth</td>\n",
       "      <td>1997</td>\n",
       "      <td>Stevie Allen</td>\n",
       "      <td>actor</td>\n",
       "      <td>Murderer</td>\n",
       "      <td>21.0</td>\n",
       "    </tr>\n",
       "  </tbody>\n",
       "</table>\n",
       "</div>"
      ],
      "text/plain": [
       "         title  year                 name     type        character     n\n",
       "22302  Macbeth  1916  Spottiswoode Aitken    actor           Duncan   4.0\n",
       "63776  Macbeth  1916           Mary Alden  actress     Lady Macduff   6.0\n",
       "25855  Macbeth  1948          Robert Alan    actor   Third Murderer   6.0\n",
       "38090  Macbeth  1948       William Alland    actor  Second Murderer  18.0\n",
       "40639  Macbeth  1997         Stevie Allen    actor         Murderer  21.0"
      ]
     },
     "execution_count": 8,
     "metadata": {},
     "output_type": "execute_result"
    }
   ],
   "source": [
    "macbeth_fill = macbeth.ffill() # NaN를 앞 필드의 값으로 대체\n",
    "# macbeth_fill = macbeth.bfill() # NaN를 뒤 필드의 값으로 대체\n",
    "macbeth_fill.head()"
   ]
  },
  {
   "cell_type": "code",
   "execution_count": 78,
   "id": "b0a76312",
   "metadata": {},
   "outputs": [
    {
     "data": {
      "text/plain": [
       "0          Closet Monster\n",
       "1         Suuri illusioni\n",
       "2     Battle of the Sexes\n",
       "3    Secret in Their Eyes\n",
       "4              Steve Jobs\n",
       "Name: title, dtype: object"
      ]
     },
     "execution_count": 78,
     "metadata": {},
     "output_type": "execute_result"
    }
   ],
   "source": [
    "titles = casts['title']\n",
    "titles.head()"
   ]
  },
  {
   "cell_type": "code",
   "execution_count": 79,
   "id": "8ebce221",
   "metadata": {},
   "outputs": [
    {
     "name": "stdout",
     "output_type": "stream",
     "text": [
      "<class 'pandas.core.frame.DataFrame'>\n",
      "RangeIndex: 75001 entries, 0 to 75000\n",
      "Data columns (total 6 columns):\n",
      " #   Column     Non-Null Count  Dtype  \n",
      "---  ------     --------------  -----  \n",
      " 0   title      75001 non-null  object \n",
      " 1   year       75001 non-null  int64  \n",
      " 2   name       75001 non-null  object \n",
      " 3   type       75001 non-null  object \n",
      " 4   character  75001 non-null  object \n",
      " 5   n          46035 non-null  float64\n",
      "dtypes: float64(1), int64(1), object(4)\n",
      "memory usage: 3.4+ MB\n"
     ]
    }
   ],
   "source": [
    "casts.info()"
   ]
  },
  {
   "cell_type": "code",
   "execution_count": 85,
   "id": "0498f6d0",
   "metadata": {},
   "outputs": [],
   "source": [
    "import numpy as np\n",
    "df = pd.DataFrame(dict(age=[np.NaN, np.NaN,6],\n",
    "                      born=[pd.NaT, pd.Timestamp('1930-05-25'), pd.Timestamp('1940-02-04')],\n",
    "                      name=[np.NaN, 'Batman', ''],\n",
    "                      toy=[None, 'Batmobile', 'Joker']))"
   ]
  },
  {
   "cell_type": "code",
   "execution_count": 86,
   "id": "475c036f",
   "metadata": {},
   "outputs": [
    {
     "name": "stdout",
     "output_type": "stream",
     "text": [
      "<class 'pandas.core.frame.DataFrame'>\n",
      "RangeIndex: 3 entries, 0 to 2\n",
      "Data columns (total 4 columns):\n",
      " #   Column  Non-Null Count  Dtype         \n",
      "---  ------  --------------  -----         \n",
      " 0   age     1 non-null      float64       \n",
      " 1   born    2 non-null      datetime64[ns]\n",
      " 2   name    2 non-null      object        \n",
      " 3   toy     2 non-null      object        \n",
      "dtypes: datetime64[ns](1), float64(1), object(2)\n",
      "memory usage: 224.0+ bytes\n"
     ]
    }
   ],
   "source": [
    "df.info()"
   ]
  },
  {
   "cell_type": "code",
   "execution_count": 87,
   "id": "dcba4f15",
   "metadata": {},
   "outputs": [
    {
     "data": {
      "text/html": [
       "<div>\n",
       "<style scoped>\n",
       "    .dataframe tbody tr th:only-of-type {\n",
       "        vertical-align: middle;\n",
       "    }\n",
       "\n",
       "    .dataframe tbody tr th {\n",
       "        vertical-align: top;\n",
       "    }\n",
       "\n",
       "    .dataframe thead th {\n",
       "        text-align: right;\n",
       "    }\n",
       "</style>\n",
       "<table border=\"1\" class=\"dataframe\">\n",
       "  <thead>\n",
       "    <tr style=\"text-align: right;\">\n",
       "      <th></th>\n",
       "      <th>age</th>\n",
       "      <th>born</th>\n",
       "      <th>name</th>\n",
       "      <th>toy</th>\n",
       "    </tr>\n",
       "  </thead>\n",
       "  <tbody>\n",
       "    <tr>\n",
       "      <th>0</th>\n",
       "      <td>NaN</td>\n",
       "      <td>NaT</td>\n",
       "      <td>NaN</td>\n",
       "      <td>None</td>\n",
       "    </tr>\n",
       "    <tr>\n",
       "      <th>1</th>\n",
       "      <td>NaN</td>\n",
       "      <td>1930-05-25</td>\n",
       "      <td>Batman</td>\n",
       "      <td>Batmobile</td>\n",
       "    </tr>\n",
       "    <tr>\n",
       "      <th>2</th>\n",
       "      <td>6.0</td>\n",
       "      <td>1940-02-04</td>\n",
       "      <td></td>\n",
       "      <td>Joker</td>\n",
       "    </tr>\n",
       "  </tbody>\n",
       "</table>\n",
       "</div>"
      ],
      "text/plain": [
       "   age       born    name        toy\n",
       "0  NaN        NaT     NaN       None\n",
       "1  NaN 1930-05-25  Batman  Batmobile\n",
       "2  6.0 1940-02-04              Joker"
      ]
     },
     "execution_count": 87,
     "metadata": {},
     "output_type": "execute_result"
    }
   ],
   "source": [
    "df"
   ]
  },
  {
   "cell_type": "code",
   "execution_count": 88,
   "id": "01585864",
   "metadata": {},
   "outputs": [
    {
     "data": {
      "text/html": [
       "<div>\n",
       "<style scoped>\n",
       "    .dataframe tbody tr th:only-of-type {\n",
       "        vertical-align: middle;\n",
       "    }\n",
       "\n",
       "    .dataframe tbody tr th {\n",
       "        vertical-align: top;\n",
       "    }\n",
       "\n",
       "    .dataframe thead th {\n",
       "        text-align: right;\n",
       "    }\n",
       "</style>\n",
       "<table border=\"1\" class=\"dataframe\">\n",
       "  <thead>\n",
       "    <tr style=\"text-align: right;\">\n",
       "      <th></th>\n",
       "      <th>age</th>\n",
       "      <th>born</th>\n",
       "      <th>name</th>\n",
       "      <th>toy</th>\n",
       "    </tr>\n",
       "  </thead>\n",
       "  <tbody>\n",
       "    <tr>\n",
       "      <th>1</th>\n",
       "      <td>NaN</td>\n",
       "      <td>1930-05-25</td>\n",
       "      <td>Batman</td>\n",
       "      <td>Batmobile</td>\n",
       "    </tr>\n",
       "    <tr>\n",
       "      <th>2</th>\n",
       "      <td>6.0</td>\n",
       "      <td>1940-02-04</td>\n",
       "      <td></td>\n",
       "      <td>Joker</td>\n",
       "    </tr>\n",
       "  </tbody>\n",
       "</table>\n",
       "</div>"
      ],
      "text/plain": [
       "   age       born    name        toy\n",
       "1  NaN 1930-05-25  Batman  Batmobile\n",
       "2  6.0 1940-02-04              Joker"
      ]
     },
     "execution_count": 88,
     "metadata": {},
     "output_type": "execute_result"
    }
   ],
   "source": [
    "df.dropna(subset=['born']) # born column 중 NULL이 존재하는 데이터 삭제"
   ]
  },
  {
   "cell_type": "code",
   "execution_count": 20,
   "id": "d3a4004b",
   "metadata": {},
   "outputs": [
    {
     "data": {
      "text/plain": [
       "2016    3841\n",
       "2015    3439\n",
       "2014    3309\n",
       "2013    3110\n",
       "2012    3011\n",
       "Name: year, dtype: int64"
      ]
     },
     "execution_count": 20,
     "metadata": {},
     "output_type": "execute_result"
    }
   ],
   "source": [
    "casts['year'].value_counts().head() # 총 발생 횟수"
   ]
  },
  {
   "cell_type": "markdown",
   "id": "a46f4ece",
   "metadata": {},
   "source": [
    "#### String operations\n",
    ".str. 옵션 사용"
   ]
  },
  {
   "cell_type": "code",
   "execution_count": 92,
   "id": "9e219d97",
   "metadata": {},
   "outputs": [
    {
     "data": {
      "text/html": [
       "<div>\n",
       "<style scoped>\n",
       "    .dataframe tbody tr th:only-of-type {\n",
       "        vertical-align: middle;\n",
       "    }\n",
       "\n",
       "    .dataframe tbody tr th {\n",
       "        vertical-align: top;\n",
       "    }\n",
       "\n",
       "    .dataframe thead th {\n",
       "        text-align: right;\n",
       "    }\n",
       "</style>\n",
       "<table border=\"1\" class=\"dataframe\">\n",
       "  <thead>\n",
       "    <tr style=\"text-align: right;\">\n",
       "      <th></th>\n",
       "      <th>title</th>\n",
       "      <th>year</th>\n",
       "      <th>name</th>\n",
       "      <th>type</th>\n",
       "      <th>character</th>\n",
       "      <th>n</th>\n",
       "    </tr>\n",
       "  </thead>\n",
       "  <tbody>\n",
       "    <tr>\n",
       "      <th>21678</th>\n",
       "      <td>Maa on syntinen laulu</td>\n",
       "      <td>1973</td>\n",
       "      <td>Niiles-Jouni Aikio</td>\n",
       "      <td>actor</td>\n",
       "      <td>Oula</td>\n",
       "      <td>6.0</td>\n",
       "    </tr>\n",
       "    <tr>\n",
       "      <th>21680</th>\n",
       "      <td>Maa on syntinen laulu</td>\n",
       "      <td>1973</td>\n",
       "      <td>Uula Aikio</td>\n",
       "      <td>actor</td>\n",
       "      <td>Oulan is?</td>\n",
       "      <td>25.0</td>\n",
       "    </tr>\n",
       "    <tr>\n",
       "      <th>22986</th>\n",
       "      <td>Maa kap Phra</td>\n",
       "      <td>2006</td>\n",
       "      <td>Pisan Akaraseni</td>\n",
       "      <td>actor</td>\n",
       "      <td>Chief Yot</td>\n",
       "      <td>NaN</td>\n",
       "    </tr>\n",
       "    <tr>\n",
       "      <th>45518</th>\n",
       "      <td>Maa Nanna Chiranjeevi</td>\n",
       "      <td>2010</td>\n",
       "      <td>Alutit</td>\n",
       "      <td>actor</td>\n",
       "      <td>Vishwanath</td>\n",
       "      <td>NaN</td>\n",
       "    </tr>\n",
       "    <tr>\n",
       "      <th>59186</th>\n",
       "      <td>Maa on syntinen laulu</td>\n",
       "      <td>1973</td>\n",
       "      <td>Maija-Liisa Ahlgren</td>\n",
       "      <td>actress</td>\n",
       "      <td>Aino Liinukorpi</td>\n",
       "      <td>10.0</td>\n",
       "    </tr>\n",
       "  </tbody>\n",
       "</table>\n",
       "</div>"
      ],
      "text/plain": [
       "                       title  year                 name     type  \\\n",
       "21678  Maa on syntinen laulu  1973   Niiles-Jouni Aikio    actor   \n",
       "21680  Maa on syntinen laulu  1973           Uula Aikio    actor   \n",
       "22986           Maa kap Phra  2006      Pisan Akaraseni    actor   \n",
       "45518  Maa Nanna Chiranjeevi  2010               Alutit    actor   \n",
       "59186  Maa on syntinen laulu  1973  Maija-Liisa Ahlgren  actress   \n",
       "\n",
       "             character     n  \n",
       "21678             Oula   6.0  \n",
       "21680        Oulan is?  25.0  \n",
       "22986        Chief Yot   NaN  \n",
       "45518       Vishwanath   NaN  \n",
       "59186  Aino Liinukorpi  10.0  "
      ]
     },
     "execution_count": 92,
     "metadata": {},
     "output_type": "execute_result"
    }
   ],
   "source": [
    "casts[casts['title'].str.startswith(\"Maa \")].head()\n",
    "# Maa로 시작하는 데이터 검색"
   ]
  },
  {
   "cell_type": "code",
   "execution_count": 93,
   "id": "e40ef557",
   "metadata": {},
   "outputs": [],
   "source": [
    "# padding ,, width = byte len"
   ]
  },
  {
   "cell_type": "code",
   "execution_count": 12,
   "id": "5ad3df6b",
   "metadata": {},
   "outputs": [],
   "source": [
    "df = pd.DataFrame({'email':['     happy@gmail.com      ',\n",
    "                            '       1004@NAVER.COM         ',\n",
    "                            '      manse@yahoo.co.kr       ']})"
   ]
  },
  {
   "cell_type": "code",
   "execution_count": 13,
   "id": "a553c439",
   "metadata": {},
   "outputs": [],
   "source": [
    "df['email_strip']  = df['email'].str.strip()  # 앞 뒤 공백을 제거\n",
    "df['email_lstrip'] = df['email'].str.lstrip() # 앞 공백을 제거\n",
    "df['email_rstrip'] = df['email'].str.rstrip() # 뒤 공백을 제거"
   ]
  },
  {
   "cell_type": "code",
   "execution_count": 14,
   "id": "471d7402",
   "metadata": {},
   "outputs": [
    {
     "data": {
      "text/html": [
       "<div>\n",
       "<style scoped>\n",
       "    .dataframe tbody tr th:only-of-type {\n",
       "        vertical-align: middle;\n",
       "    }\n",
       "\n",
       "    .dataframe tbody tr th {\n",
       "        vertical-align: top;\n",
       "    }\n",
       "\n",
       "    .dataframe thead th {\n",
       "        text-align: right;\n",
       "    }\n",
       "</style>\n",
       "<table border=\"1\" class=\"dataframe\">\n",
       "  <thead>\n",
       "    <tr style=\"text-align: right;\">\n",
       "      <th></th>\n",
       "      <th>email</th>\n",
       "      <th>email_strip</th>\n",
       "      <th>email_lstrip</th>\n",
       "      <th>email_rstrip</th>\n",
       "    </tr>\n",
       "  </thead>\n",
       "  <tbody>\n",
       "    <tr>\n",
       "      <th>0</th>\n",
       "      <td>happy@gmail.com</td>\n",
       "      <td>happy@gmail.com</td>\n",
       "      <td>happy@gmail.com</td>\n",
       "      <td>happy@gmail.com</td>\n",
       "    </tr>\n",
       "    <tr>\n",
       "      <th>1</th>\n",
       "      <td>1004@NAVER.COM</td>\n",
       "      <td>1004@NAVER.COM</td>\n",
       "      <td>1004@NAVER.COM</td>\n",
       "      <td>1004@NAVER.COM</td>\n",
       "    </tr>\n",
       "    <tr>\n",
       "      <th>2</th>\n",
       "      <td>manse@yahoo.co.kr</td>\n",
       "      <td>manse@yahoo.co.kr</td>\n",
       "      <td>manse@yahoo.co.kr</td>\n",
       "      <td>manse@yahoo.co.kr</td>\n",
       "    </tr>\n",
       "  </tbody>\n",
       "</table>\n",
       "</div>"
      ],
      "text/plain": [
       "                            email        email_strip  \\\n",
       "0           happy@gmail.com          happy@gmail.com   \n",
       "1         1004@NAVER.COM              1004@NAVER.COM   \n",
       "2        manse@yahoo.co.kr         manse@yahoo.co.kr   \n",
       "\n",
       "               email_lstrip             email_rstrip  \n",
       "0     happy@gmail.com                happy@gmail.com  \n",
       "1   1004@NAVER.COM                    1004@NAVER.COM  \n",
       "2  manse@yahoo.co.kr               manse@yahoo.co.kr  "
      ]
     },
     "execution_count": 14,
     "metadata": {},
     "output_type": "execute_result"
    }
   ],
   "source": [
    "df"
   ]
  },
  {
   "cell_type": "code",
   "execution_count": 15,
   "id": "90563be3",
   "metadata": {},
   "outputs": [],
   "source": [
    "del df['email_strip']\n",
    "del df['email_lstrip']\n",
    "del df['email_rstrip']\n",
    "df['email_pad']    = df['email'].str.pad(width=20, side='left', fillchar='_') # 지정길이 패딩\n",
    "df['email_center'] = df['email'].str.center(width=20, fillchar='_') # 중앙놓고 지정길이 패딩\n",
    "df['email_ljust']  = df['email'].str.ljust(width=20, fillchar='_')  # 왼쪽놓고 지정길이 패딩\n",
    "df['email_rjust']  = df['email'].str.rjust(width=20, fillchar='_')  # 오른쪽놓고 지정길이 패딩\n",
    "df['email_zfill']  = df['email'].str.zfill(width=20)                # 지정길이 0패딩"
   ]
  },
  {
   "cell_type": "code",
   "execution_count": 108,
   "id": "df655791",
   "metadata": {},
   "outputs": [
    {
     "data": {
      "text/html": [
       "<div>\n",
       "<style scoped>\n",
       "    .dataframe tbody tr th:only-of-type {\n",
       "        vertical-align: middle;\n",
       "    }\n",
       "\n",
       "    .dataframe tbody tr th {\n",
       "        vertical-align: top;\n",
       "    }\n",
       "\n",
       "    .dataframe thead th {\n",
       "        text-align: right;\n",
       "    }\n",
       "</style>\n",
       "<table border=\"1\" class=\"dataframe\">\n",
       "  <thead>\n",
       "    <tr style=\"text-align: right;\">\n",
       "      <th></th>\n",
       "      <th>email</th>\n",
       "      <th>email_pad</th>\n",
       "      <th>email_center</th>\n",
       "      <th>...</th>\n",
       "      <th>email_rfind</th>\n",
       "      <th>email_index</th>\n",
       "      <th>email_rindex</th>\n",
       "    </tr>\n",
       "  </thead>\n",
       "  <tbody>\n",
       "    <tr>\n",
       "      <th>0</th>\n",
       "      <td>happy@gmail.com</td>\n",
       "      <td>_____happy@gmail.com</td>\n",
       "      <td>__happy@gmail.com___</td>\n",
       "      <td>...</td>\n",
       "      <td>11</td>\n",
       "      <td>11</td>\n",
       "      <td>11</td>\n",
       "    </tr>\n",
       "    <tr>\n",
       "      <th>1</th>\n",
       "      <td>1004@NAVER.COM</td>\n",
       "      <td>______1004@NAVER.COM</td>\n",
       "      <td>___1004@NAVER.COM___</td>\n",
       "      <td>...</td>\n",
       "      <td>10</td>\n",
       "      <td>10</td>\n",
       "      <td>10</td>\n",
       "    </tr>\n",
       "    <tr>\n",
       "      <th>2</th>\n",
       "      <td>manse@yahoo.co.kr</td>\n",
       "      <td>___manse@yahoo.co.kr</td>\n",
       "      <td>_manse@yahoo.co.kr__</td>\n",
       "      <td>...</td>\n",
       "      <td>14</td>\n",
       "      <td>11</td>\n",
       "      <td>14</td>\n",
       "    </tr>\n",
       "  </tbody>\n",
       "</table>\n",
       "<p>3 rows × 11 columns</p>\n",
       "</div>"
      ],
      "text/plain": [
       "               email             email_pad          email_center  ...  \\\n",
       "0    happy@gmail.com  _____happy@gmail.com  __happy@gmail.com___  ...   \n",
       "1     1004@NAVER.COM  ______1004@NAVER.COM  ___1004@NAVER.COM___  ...   \n",
       "2  manse@yahoo.co.kr  ___manse@yahoo.co.kr  _manse@yahoo.co.kr__  ...   \n",
       "\n",
       "  email_rfind email_index email_rindex  \n",
       "0          11          11           11  \n",
       "1          10          10           10  \n",
       "2          14          11           14  \n",
       "\n",
       "[3 rows x 11 columns]"
      ]
     },
     "execution_count": 108,
     "metadata": {},
     "output_type": "execute_result"
    }
   ],
   "source": [
    "df"
   ]
  },
  {
   "cell_type": "code",
   "execution_count": 16,
   "id": "64914bc9",
   "metadata": {},
   "outputs": [],
   "source": [
    "del df['email_pad']\n",
    "del df['email_center']\n",
    "del df['email_ljust']\n",
    "del df['email_rjust']\n",
    "del df['email_zfill']\n",
    "df['email_find']    = df['email'].str.find(sub='.')           # 왼쪽부터 sub값 검색후 위치반환\n",
    "df['email_findall'] = df['email'].str.findall(pat='[a-zA-Z]') # 찾은 모든 값 반환\n",
    "df['email_rfind']   = df['email'].str.rfind(sub='.')          # 오른쪽부터 sub값 검색후 위치반환\n",
    "df['email_index']   = df['email'].str.index(sub='.')          # 왼쪽부터 sub값 검색후 위치반환\n",
    "df['email_rindex']  = df['email'].str.rindex(sub='.')         # 오른쪽부터 sub값 검색후 위치반환"
   ]
  },
  {
   "cell_type": "code",
   "execution_count": 110,
   "id": "a4970b02",
   "metadata": {},
   "outputs": [
    {
     "data": {
      "text/html": [
       "<div>\n",
       "<style scoped>\n",
       "    .dataframe tbody tr th:only-of-type {\n",
       "        vertical-align: middle;\n",
       "    }\n",
       "\n",
       "    .dataframe tbody tr th {\n",
       "        vertical-align: top;\n",
       "    }\n",
       "\n",
       "    .dataframe thead th {\n",
       "        text-align: right;\n",
       "    }\n",
       "</style>\n",
       "<table border=\"1\" class=\"dataframe\">\n",
       "  <thead>\n",
       "    <tr style=\"text-align: right;\">\n",
       "      <th></th>\n",
       "      <th>email</th>\n",
       "      <th>email_find</th>\n",
       "      <th>email_findall</th>\n",
       "      <th>email_rfind</th>\n",
       "      <th>email_index</th>\n",
       "      <th>email_rindex</th>\n",
       "    </tr>\n",
       "  </thead>\n",
       "  <tbody>\n",
       "    <tr>\n",
       "      <th>0</th>\n",
       "      <td>happy@gmail.com</td>\n",
       "      <td>11</td>\n",
       "      <td>[h, a, p, p, y, g, m, a, i, l, c, o, m]</td>\n",
       "      <td>11</td>\n",
       "      <td>11</td>\n",
       "      <td>11</td>\n",
       "    </tr>\n",
       "    <tr>\n",
       "      <th>1</th>\n",
       "      <td>1004@NAVER.COM</td>\n",
       "      <td>10</td>\n",
       "      <td>[N, A, V, E, R, C, O, M]</td>\n",
       "      <td>10</td>\n",
       "      <td>10</td>\n",
       "      <td>10</td>\n",
       "    </tr>\n",
       "    <tr>\n",
       "      <th>2</th>\n",
       "      <td>manse@yahoo.co.kr</td>\n",
       "      <td>11</td>\n",
       "      <td>[m, a, n, s, e, y, a, h, o, o, c, o, k, r]</td>\n",
       "      <td>14</td>\n",
       "      <td>11</td>\n",
       "      <td>14</td>\n",
       "    </tr>\n",
       "  </tbody>\n",
       "</table>\n",
       "</div>"
      ],
      "text/plain": [
       "               email  email_find                               email_findall  \\\n",
       "0    happy@gmail.com          11     [h, a, p, p, y, g, m, a, i, l, c, o, m]   \n",
       "1     1004@NAVER.COM          10                    [N, A, V, E, R, C, O, M]   \n",
       "2  manse@yahoo.co.kr          11  [m, a, n, s, e, y, a, h, o, o, c, o, k, r]   \n",
       "\n",
       "   email_rfind  email_index  email_rindex  \n",
       "0           11           11            11  \n",
       "1           10           10            10  \n",
       "2           14           11            14  "
      ]
     },
     "execution_count": 110,
     "metadata": {},
     "output_type": "execute_result"
    }
   ],
   "source": [
    "df"
   ]
  },
  {
   "cell_type": "markdown",
   "id": "b87ab17f",
   "metadata": {},
   "source": [
    "#### groupby"
   ]
  },
  {
   "cell_type": "code",
   "execution_count": 119,
   "id": "bab2633a",
   "metadata": {},
   "outputs": [
    {
     "data": {
      "text/plain": [
       "year\n",
       "2003    2\n",
       "2004    2\n",
       "2005    2\n",
       "2006    1\n",
       "2007    2\n",
       "dtype: int64"
      ]
     },
     "execution_count": 119,
     "metadata": {},
     "output_type": "execute_result"
    }
   ],
   "source": [
    "c = casts\n",
    "cf = c[c['name'] == 'Aaron Abrams']\n",
    "cf.groupby(['year']).size().head()\n",
    "# 연도를 기준으로 'Aaron Abrams'의 영화 그룹화"
   ]
  },
  {
   "cell_type": "code",
   "execution_count": 120,
   "id": "6d7a63bc",
   "metadata": {},
   "outputs": [
    {
     "data": {
      "text/plain": [
       "year  title                               \n",
       "2003  The In-Laws                             1\n",
       "      The Visual Bible: The Gospel of John    1\n",
       "2004  Resident Evil: Apocalypse               1\n",
       "      Siblings                                1\n",
       "2005  Cinderella Man                          1\n",
       "dtype: int64"
      ]
     },
     "execution_count": 120,
     "metadata": {},
     "output_type": "execute_result"
    }
   ],
   "source": [
    "cf.groupby(['year','title']).size().head() # groupby 연산 : year 수행된 뒤 title 수행"
   ]
  },
  {
   "cell_type": "code",
   "execution_count": 121,
   "id": "1cf2457c",
   "metadata": {},
   "outputs": [
    {
     "data": {
      "text/plain": [
       "year\n",
       "1912     6.0\n",
       "1913    14.0\n",
       "1914    39.0\n",
       "1915    14.0\n",
       "1916    35.0\n",
       "Name: n, dtype: float64"
      ]
     },
     "execution_count": 121,
     "metadata": {},
     "output_type": "execute_result"
    }
   ],
   "source": [
    "c.groupby(['year']).n.max().head() # 연도별 최대 등급"
   ]
  },
  {
   "cell_type": "code",
   "execution_count": 122,
   "id": "75b92568",
   "metadata": {},
   "outputs": [
    {
     "data": {
      "text/plain": [
       "year\n",
       "1912    6.0\n",
       "1913    1.0\n",
       "1914    1.0\n",
       "1915    1.0\n",
       "1916    1.0\n",
       "Name: n, dtype: float64"
      ]
     },
     "execution_count": 122,
     "metadata": {},
     "output_type": "execute_result"
    }
   ],
   "source": [
    "c.groupby(['year']).n.min().head() # 연도별 최소 등급"
   ]
  },
  {
   "cell_type": "code",
   "execution_count": 123,
   "id": "961b5843",
   "metadata": {},
   "outputs": [
    {
     "data": {
      "text/plain": [
       "year\n",
       "1912    6.000000\n",
       "1913    4.142857\n",
       "1914    7.085106\n",
       "1915    4.236111\n",
       "1916    5.037736\n",
       "Name: n, dtype: float64"
      ]
     },
     "execution_count": 123,
     "metadata": {},
     "output_type": "execute_result"
    }
   ],
   "source": [
    "c.groupby(['year']).n.mean().head() # 연도별 평균 등급"
   ]
  },
  {
   "cell_type": "code",
   "execution_count": 124,
   "id": "63d91b83",
   "metadata": {},
   "outputs": [],
   "source": [
    "decade = c['year'] // 10 * 10 # 10년 단위\n",
    "c_dec = c.groupby(decade).n.size().head() # 사용자 지정 groupby"
   ]
  },
  {
   "cell_type": "code",
   "execution_count": 125,
   "id": "f3809b76",
   "metadata": {},
   "outputs": [
    {
     "data": {
      "text/plain": [
       "year\n",
       "1910     669\n",
       "1920    1121\n",
       "1930    3448\n",
       "1940    3997\n",
       "1950    3892\n",
       "Name: n, dtype: int64"
      ]
     },
     "execution_count": 125,
     "metadata": {},
     "output_type": "execute_result"
    }
   ],
   "source": [
    "c_dec"
   ]
  }
 ],
 "metadata": {
  "kernelspec": {
   "display_name": "Python 3 (ipykernel)",
   "language": "python",
   "name": "python3"
  },
  "language_info": {
   "codemirror_mode": {
    "name": "ipython",
    "version": 3
   },
   "file_extension": ".py",
   "mimetype": "text/x-python",
   "name": "python",
   "nbconvert_exporter": "python",
   "pygments_lexer": "ipython3",
   "version": "3.9.6"
  }
 },
 "nbformat": 4,
 "nbformat_minor": 5
}
