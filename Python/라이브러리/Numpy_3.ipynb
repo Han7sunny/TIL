{
 "cells": [
  {
   "cell_type": "markdown",
   "id": "a28c32d0",
   "metadata": {},
   "source": [
    "###### 블린 인덱싱 (Boolean Indexing)"
   ]
  },
  {
   "cell_type": "code",
   "execution_count": 1,
   "id": "4a167a9e",
   "metadata": {},
   "outputs": [],
   "source": [
    "import numpy as np\n",
    "def pprint(arr):\n",
    "    print(\"type:{}\".format(type(arr)))\n",
    "    print(\"shape: {}, dimension: {}, dtype:{}\".format(arr.shape, arr.ndim, arr.dtype))\n",
    "    print(\"Array's Data:\\n\", arr)"
   ]
  },
  {
   "cell_type": "code",
   "execution_count": 3,
   "id": "b5cfdce5",
   "metadata": {},
   "outputs": [
    {
     "name": "stdout",
     "output_type": "stream",
     "text": [
      "type:<class 'numpy.ndarray'>\n",
      "shape: (4, 6), dimension: 2, dtype:int32\n",
      "Array's Data:\n",
      " [[ 1  2  3  4  5  6]\n",
      " [ 7  8  9 10 11 12]\n",
      " [13 14 15 16 17 18]\n",
      " [19 20 21 22 23 24]]\n"
     ]
    }
   ],
   "source": [
    "a1 = np.arange(1,25).reshape((4,6))\n",
    "pprint(a1)"
   ]
  },
  {
   "cell_type": "code",
   "execution_count": 4,
   "id": "00571cca",
   "metadata": {},
   "outputs": [
    {
     "name": "stdout",
     "output_type": "stream",
     "text": [
      "type:<class 'numpy.ndarray'>\n",
      "shape: (4, 6), dimension: 2, dtype:bool\n",
      "Array's Data:\n",
      " [[False  True False  True False  True]\n",
      " [False  True False  True False  True]\n",
      " [False  True False  True False  True]\n",
      " [False  True False  True False  True]]\n"
     ]
    }
   ],
   "source": [
    "even_arr = a1 % 2 ==0\n",
    "pprint(even_arr)"
   ]
  },
  {
   "cell_type": "code",
   "execution_count": 5,
   "id": "f4e8e384",
   "metadata": {},
   "outputs": [
    {
     "data": {
      "text/plain": [
       "array([ 2,  4,  6,  8, 10, 12, 14, 16, 18, 20, 22, 24])"
      ]
     },
     "execution_count": 5,
     "metadata": {},
     "output_type": "execute_result"
    }
   ],
   "source": [
    "a1[even_arr]"
   ]
  },
  {
   "cell_type": "code",
   "execution_count": 6,
   "id": "fab381df",
   "metadata": {},
   "outputs": [
    {
     "data": {
      "text/plain": [
       "300"
      ]
     },
     "execution_count": 6,
     "metadata": {},
     "output_type": "execute_result"
    }
   ],
   "source": [
    "np.sum(a1)"
   ]
  },
  {
   "cell_type": "markdown",
   "id": "1b6d10bc",
   "metadata": {},
   "source": [
    "##### Boolean Indexing 응용"
   ]
  },
  {
   "cell_type": "code",
   "execution_count": 10,
   "id": "7d9006fd",
   "metadata": {},
   "outputs": [],
   "source": [
    "# head -n 3 ./seattle2014.csv"
   ]
  },
  {
   "cell_type": "code",
   "execution_count": 13,
   "id": "e01443ed",
   "metadata": {},
   "outputs": [
    {
     "name": "stdout",
     "output_type": "stream",
     "text": [
      "Data Size :  365\n"
     ]
    }
   ],
   "source": [
    "import pandas as pd\n",
    "rains_in_seattle = pd.read_csv(\"./Seattle2014.csv\")\n",
    "rains_arr = rains_in_seattle['PRCP'].values\n",
    "print(\"Data Size : \", len(rains_arr))"
   ]
  },
  {
   "cell_type": "code",
   "execution_count": 15,
   "id": "a362b2a2",
   "metadata": {},
   "outputs": [
    {
     "data": {
      "text/plain": [
       "array([ True,  True,  True,  True,  True,  True,  True,  True,  True,\n",
       "        True,  True,  True,  True,  True,  True,  True,  True,  True,\n",
       "        True,  True,  True,  True,  True,  True,  True,  True,  True,\n",
       "        True,  True,  True,  True, False, False, False, False, False,\n",
       "       False, False, False, False])"
      ]
     },
     "execution_count": 15,
     "metadata": {},
     "output_type": "execute_result"
    }
   ],
   "source": [
    "# 날짜 배열\n",
    "days_arr = np.arange(0,365)\n",
    "\n",
    "# 1월의 날 수 boolean index 생성\n",
    "condition_jan = days_arr < 31\n",
    "\n",
    "# 40일 조회\n",
    "condition_jan[:40]"
   ]
  },
  {
   "cell_type": "code",
   "execution_count": 16,
   "id": "1a7b0468",
   "metadata": {},
   "outputs": [
    {
     "data": {
      "text/plain": [
       "31"
      ]
     },
     "execution_count": 16,
     "metadata": {},
     "output_type": "execute_result"
    }
   ],
   "source": [
    "# 1월의 강수량 추출 (31일)\n",
    "rains_jan = rains_arr[condition_jan]\n",
    "\n",
    "# 1월 강수량 데이터 수\n",
    "len(rains_jan)"
   ]
  },
  {
   "cell_type": "code",
   "execution_count": 17,
   "id": "004d4307",
   "metadata": {},
   "outputs": [
    {
     "data": {
      "text/plain": [
       "940"
      ]
     },
     "execution_count": 17,
     "metadata": {},
     "output_type": "execute_result"
    }
   ],
   "source": [
    "# 1월 강수량 총합\n",
    "np.sum(rains_jan)"
   ]
  },
  {
   "cell_type": "code",
   "execution_count": 18,
   "id": "d99c89be",
   "metadata": {},
   "outputs": [
    {
     "data": {
      "text/plain": [
       "30.322580645161292"
      ]
     },
     "execution_count": 18,
     "metadata": {},
     "output_type": "execute_result"
    }
   ],
   "source": [
    "# 1월 평균 강수량\n",
    "np.mean(rains_jan)"
   ]
  },
  {
   "cell_type": "markdown",
   "id": "2efac5b5",
   "metadata": {},
   "source": [
    "###### 실습 예제"
   ]
  },
  {
   "cell_type": "code",
   "execution_count": 50,
   "id": "7d71d80f",
   "metadata": {},
   "outputs": [
    {
     "name": "stdout",
     "output_type": "stream",
     "text": [
      "검색할 월(month) 입력 : 13\n",
      "1 ~ 12월 사이의 월(month)을 입력해주세요 : 14\n",
      "1 ~ 12월 사이의 월(month)을 입력해주세요 : 15\n",
      "1 ~ 12월 사이의 월(month)을 입력해주세요 : 20\n",
      "1 ~ 12월 사이의 월(month)을 입력해주세요 : 0\n",
      "1 ~ 12월 사이의 월(month)을 입력해주세요 : 1\n",
      "1월 강수량 데이터 수 :  30\n",
      "1월 강수량 총합 :  917\n",
      "1월 평균 강수량:  30.566666666666666\n"
     ]
    }
   ],
   "source": [
    "import pandas as pd\n",
    "import numpy as np\n",
    "rains_in_seattle = pd.read_csv(\"./Seattle2014.csv\")\n",
    "rains_arr = rains_in_seattle['PRCP'].values\n",
    "rains_arr = rains_arr[:360] # 매달 30일로 가정\n",
    "\n",
    "month = int(input(\"검색할 월(month) 입력 : \"))\n",
    "while month not in range(1,13):\n",
    "    month = int(input(\"1 ~ 12월 사이의 월(month)을 입력해주세요 : \"))\n",
    "start_idx = (month - 1) * 30\n",
    "end_idx = month * 30\n",
    "\n",
    "# 해당 월 강수량 추출 (30일)\n",
    "rains_month = rains_arr[ start_idx : end_idx ]\n",
    "\n",
    "# 해당 월 강수량 데이터 수\n",
    "print(\"{}월 강수량 데이터 수 : \".format(month), len(rains_month))\n",
    "\n",
    "# 해당 월 강수량 총합\n",
    "print(\"{}월 강수량 총합 : \".format(month), np.sum(rains_month))\n",
    "\n",
    "# 해당 월 평균 강수량\n",
    "print(\"{}월 평균 강수량: \".format(month), np.mean(rains_month))\n"
   ]
  },
  {
   "cell_type": "markdown",
   "id": "7015c57f",
   "metadata": {},
   "source": [
    "###### 팬시 인덱싱 (Fancy Indexing)"
   ]
  },
  {
   "cell_type": "code",
   "execution_count": 51,
   "id": "c55c550f",
   "metadata": {},
   "outputs": [
    {
     "name": "stdout",
     "output_type": "stream",
     "text": [
      "type:<class 'numpy.ndarray'>\n",
      "shape: (4, 6), dimension: 2, dtype:int32\n",
      "Array's Data:\n",
      " [[ 1  2  3  4  5  6]\n",
      " [ 7  8  9 10 11 12]\n",
      " [13 14 15 16 17 18]\n",
      " [19 20 21 22 23 24]]\n"
     ]
    }
   ],
   "source": [
    "arr = np.arange(1,25).reshape((4,6))\n",
    "pprint(arr)"
   ]
  },
  {
   "cell_type": "code",
   "execution_count": 53,
   "id": "15616c37",
   "metadata": {},
   "outputs": [
    {
     "data": {
      "text/plain": [
       "[1, 8, 15, 22]"
      ]
     },
     "execution_count": 53,
     "metadata": {},
     "output_type": "execute_result"
    }
   ],
   "source": [
    "[arr[0, 0], arr[1, 1], arr[2, 2], arr[3, 3]]"
   ]
  },
  {
   "cell_type": "code",
   "execution_count": 55,
   "id": "a20673d3",
   "metadata": {},
   "outputs": [
    {
     "data": {
      "text/plain": [
       "array([ 1,  8, 15, 22])"
      ]
     },
     "execution_count": 55,
     "metadata": {},
     "output_type": "execute_result"
    }
   ],
   "source": [
    "arr[[0, 1, 2, 3], [0, 1, 2, 3]] # 두 배열을 전달"
   ]
  },
  {
   "cell_type": "code",
   "execution_count": 56,
   "id": "dc5eabe6",
   "metadata": {},
   "outputs": [
    {
     "data": {
      "text/plain": [
       "array([[ 2,  3],\n",
       "       [ 8,  9],\n",
       "       [14, 15],\n",
       "       [20, 21]])"
      ]
     },
     "execution_count": 56,
     "metadata": {},
     "output_type": "execute_result"
    }
   ],
   "source": [
    "# 전체 행에 대해서 1, 2번 열 참조\n",
    "arr[:,[1, 2]]"
   ]
  },
  {
   "cell_type": "markdown",
   "id": "09ac7fd1",
   "metadata": {},
   "source": [
    "##### 배열 형태 변경"
   ]
  },
  {
   "cell_type": "markdown",
   "id": "413308ac",
   "metadata": {},
   "source": [
    "ravel() : shape을 1차원 배열로 변경 # 데이터 변경 시 원본에 영향을 끼침 (call by reference)           \n",
    "reshape() : 데이터 변경 없이 지정된 shape으로 변경 (변경 시 데이터 개수 확인)"
   ]
  },
  {
   "cell_type": "code",
   "execution_count": 59,
   "id": "cd97dbe3",
   "metadata": {},
   "outputs": [
    {
     "name": "stdout",
     "output_type": "stream",
     "text": [
      "type:<class 'numpy.ndarray'>\n",
      "shape: (2, 3), dimension: 2, dtype:int32\n",
      "Array's Data:\n",
      " [[5 2 2]\n",
      " [8 2 3]]\n"
     ]
    }
   ],
   "source": [
    "a = np.random.randint(1,10,(2,3))\n",
    "pprint(a)"
   ]
  },
  {
   "cell_type": "code",
   "execution_count": 60,
   "id": "f2fe0a0f",
   "metadata": {},
   "outputs": [
    {
     "data": {
      "text/plain": [
       "array([5, 2, 2, 8, 2, 3])"
      ]
     },
     "execution_count": 60,
     "metadata": {},
     "output_type": "execute_result"
    }
   ],
   "source": [
    "a.ravel()"
   ]
  },
  {
   "cell_type": "code",
   "execution_count": 61,
   "id": "de2b58f9",
   "metadata": {},
   "outputs": [
    {
     "name": "stdout",
     "output_type": "stream",
     "text": [
      "type:<class 'numpy.ndarray'>\n",
      "shape: (2, 3), dimension: 2, dtype:int32\n",
      "Array's Data:\n",
      " [[5 2 2]\n",
      " [8 2 3]]\n"
     ]
    }
   ],
   "source": [
    "pprint(a)"
   ]
  },
  {
   "cell_type": "code",
   "execution_count": 62,
   "id": "ded3c59a",
   "metadata": {},
   "outputs": [
    {
     "name": "stdout",
     "output_type": "stream",
     "text": [
      "type:<class 'numpy.ndarray'>\n",
      "shape: (6,), dimension: 1, dtype:int32\n",
      "Array's Data:\n",
      " [5 2 2 8 2 3]\n"
     ]
    }
   ],
   "source": [
    "b = a.ravel()\n",
    "pprint(b)"
   ]
  },
  {
   "cell_type": "code",
   "execution_count": 63,
   "id": "f65d9efb",
   "metadata": {},
   "outputs": [
    {
     "name": "stdout",
     "output_type": "stream",
     "text": [
      "type:<class 'numpy.ndarray'>\n",
      "shape: (6,), dimension: 1, dtype:int32\n",
      "Array's Data:\n",
      " [99  2  2  8  2  3]\n"
     ]
    }
   ],
   "source": [
    "b[0] = 99\n",
    "pprint(b)"
   ]
  },
  {
   "cell_type": "code",
   "execution_count": 65,
   "id": "1b16cd8f",
   "metadata": {},
   "outputs": [
    {
     "name": "stdout",
     "output_type": "stream",
     "text": [
      "type:<class 'numpy.ndarray'>\n",
      "shape: (2, 3), dimension: 2, dtype:int32\n",
      "Array's Data:\n",
      " [[99  2  2]\n",
      " [ 8  2  3]]\n"
     ]
    }
   ],
   "source": [
    "pprint(a) # b 배열의 데이터 변경이 a 행렬에 반영됨"
   ]
  },
  {
   "cell_type": "code",
   "execution_count": 66,
   "id": "31ba2be6",
   "metadata": {},
   "outputs": [
    {
     "name": "stdout",
     "output_type": "stream",
     "text": [
      "type:<class 'numpy.ndarray'>\n",
      "shape: (2, 3), dimension: 2, dtype:int32\n",
      "Array's Data:\n",
      " [[4 8 5]\n",
      " [5 5 1]]\n"
     ]
    }
   ],
   "source": [
    "a = np.random.randint(1, 10, (2,3))\n",
    "pprint(a)"
   ]
  },
  {
   "cell_type": "code",
   "execution_count": 69,
   "id": "93b57faa",
   "metadata": {},
   "outputs": [
    {
     "name": "stdout",
     "output_type": "stream",
     "text": [
      "type:<class 'numpy.ndarray'>\n",
      "shape: (3, 2, 1), dimension: 3, dtype:int32\n",
      "Array's Data:\n",
      " [[[4]\n",
      "  [8]]\n",
      "\n",
      " [[5]\n",
      "  [5]]\n",
      "\n",
      " [[5]\n",
      "  [1]]]\n"
     ]
    }
   ],
   "source": [
    "result = a.reshape((3,2,1)) # 데이터 shape 변경 시 데이터 개수 주의\n",
    "pprint(result)"
   ]
  },
  {
   "cell_type": "markdown",
   "id": "a49b5dbc",
   "metadata": {},
   "source": [
    "##### 배열 요소 추가 삭제"
   ]
  },
  {
   "cell_type": "markdown",
   "id": "98e8c162",
   "metadata": {},
   "source": [
    "+ resize() : shape 변경하는 과정에서 배열 요소 수 증가 / 감소 시킬 수 있다.        \n",
    "reshape()와의 차이점 : reshape()는 shape만 변경되고 배열 요소 수 변화 없음"
   ]
  },
  {
   "cell_type": "code",
   "execution_count": 70,
   "id": "56643bbf",
   "metadata": {},
   "outputs": [
    {
     "name": "stdout",
     "output_type": "stream",
     "text": [
      "type:<class 'numpy.ndarray'>\n",
      "shape: (2, 6), dimension: 2, dtype:int32\n",
      "Array's Data:\n",
      " [[9 2 5 6 5 6]\n",
      " [8 2 6 5 9 5]]\n"
     ]
    }
   ],
   "source": [
    "a = np.random.randint(1,10,(2,6))\n",
    "pprint(a)"
   ]
  },
  {
   "cell_type": "code",
   "execution_count": 72,
   "id": "9d3aad0b",
   "metadata": {},
   "outputs": [
    {
     "name": "stdout",
     "output_type": "stream",
     "text": [
      "type:<class 'numpy.ndarray'>\n",
      "shape: (6, 2), dimension: 2, dtype:int32\n",
      "Array's Data:\n",
      " [[9 2]\n",
      " [5 6]\n",
      " [5 6]\n",
      " [8 2]\n",
      " [6 5]\n",
      " [9 5]]\n"
     ]
    }
   ],
   "source": [
    "a.resize((6,2))\n",
    "pprint(a)"
   ]
  },
  {
   "cell_type": "code",
   "execution_count": 76,
   "id": "92328a9a",
   "metadata": {},
   "outputs": [
    {
     "ename": "ValueError",
     "evalue": "cannot reshape array of size 9 into shape (2,10)",
     "output_type": "error",
     "traceback": [
      "\u001b[1;31m---------------------------------------------------------------------------\u001b[0m",
      "\u001b[1;31mValueError\u001b[0m                                Traceback (most recent call last)",
      "\u001b[1;32m~\\AppData\\Local\\Temp/ipykernel_11460/3239325106.py\u001b[0m in \u001b[0;36m<module>\u001b[1;34m\u001b[0m\n\u001b[1;32m----> 1\u001b[1;33m \u001b[0ma\u001b[0m\u001b[1;33m.\u001b[0m\u001b[0mreshape\u001b[0m\u001b[1;33m(\u001b[0m\u001b[1;33m(\u001b[0m\u001b[1;36m2\u001b[0m\u001b[1;33m,\u001b[0m\u001b[1;36m10\u001b[0m\u001b[1;33m)\u001b[0m\u001b[1;33m)\u001b[0m\u001b[1;33m\u001b[0m\u001b[1;33m\u001b[0m\u001b[0m\n\u001b[0m\u001b[0;32m      2\u001b[0m \u001b[0mpprint\u001b[0m\u001b[1;33m(\u001b[0m\u001b[0ma\u001b[0m\u001b[1;33m)\u001b[0m\u001b[1;33m\u001b[0m\u001b[1;33m\u001b[0m\u001b[0m\n",
      "\u001b[1;31mValueError\u001b[0m: cannot reshape array of size 9 into shape (2,10)"
     ]
    }
   ],
   "source": [
    "# a.reshape((2,10)) # reshape는 배열 개수 증가될 수 없음\n",
    "# pprint(a)"
   ]
  },
  {
   "cell_type": "code",
   "execution_count": 74,
   "id": "70885a88",
   "metadata": {},
   "outputs": [
    {
     "name": "stdout",
     "output_type": "stream",
     "text": [
      "type:<class 'numpy.ndarray'>\n",
      "shape: (2, 10), dimension: 2, dtype:int32\n",
      "Array's Data:\n",
      " [[9 2 5 6 5 6 8 2 6 5]\n",
      " [9 5 0 0 0 0 0 0 0 0]]\n"
     ]
    }
   ],
   "source": [
    "a.resize((2,10)) # 요소 수 증가 : 늘어난 요소는 0으로 채워짐\n",
    "pprint(a)"
   ]
  },
  {
   "cell_type": "code",
   "execution_count": 78,
   "id": "97f8e579",
   "metadata": {},
   "outputs": [
    {
     "name": "stdout",
     "output_type": "stream",
     "text": [
      "type:<class 'numpy.ndarray'>\n",
      "shape: (3, 3), dimension: 2, dtype:int32\n",
      "Array's Data:\n",
      " [[9 2 5]\n",
      " [6 5 6]\n",
      " [8 2 6]]\n"
     ]
    }
   ],
   "source": [
    "a.reshape((3,3)) # reshape는 배열 개수 증가될 수 없지만 감소될 경우 삭제됨\n",
    "pprint(a)"
   ]
  },
  {
   "cell_type": "code",
   "execution_count": 80,
   "id": "b84931b4",
   "metadata": {},
   "outputs": [
    {
     "name": "stdout",
     "output_type": "stream",
     "text": [
      "type:<class 'numpy.ndarray'>\n",
      "shape: (2, 6), dimension: 2, dtype:int32\n",
      "Array's Data:\n",
      " [[9 4 2 5 1 7]\n",
      " [9 4 3 3 6 7]]\n"
     ]
    }
   ],
   "source": [
    "a = np.random.randint(1,10,(2, 6))\n",
    "pprint(a)"
   ]
  },
  {
   "cell_type": "code",
   "execution_count": 81,
   "id": "e87d51a8",
   "metadata": {},
   "outputs": [
    {
     "name": "stdout",
     "output_type": "stream",
     "text": [
      "type:<class 'numpy.ndarray'>\n",
      "shape: (3, 3), dimension: 2, dtype:int32\n",
      "Array's Data:\n",
      " [[9 4 2]\n",
      " [5 1 7]\n",
      " [9 4 3]]\n"
     ]
    }
   ],
   "source": [
    "a.resize((3,3)) # 요소 수 감소 : 줄어든 요소는 삭제됨\n",
    "pprint(a)"
   ]
  },
  {
   "cell_type": "markdown",
   "id": "4bc1cd04",
   "metadata": {},
   "source": [
    "##### 배열 추가"
   ]
  },
  {
   "cell_type": "markdown",
   "id": "90463561",
   "metadata": {},
   "source": [
    "append() : 배열 끝에 배열 추가, axis로 배열 추가되는 방향 지정"
   ]
  },
  {
   "cell_type": "code",
   "execution_count": 83,
   "id": "c22725fb",
   "metadata": {},
   "outputs": [
    {
     "name": "stdout",
     "output_type": "stream",
     "text": [
      "type:<class 'numpy.ndarray'>\n",
      "shape: (3, 3), dimension: 2, dtype:int32\n",
      "Array's Data:\n",
      " [[1 2 3]\n",
      " [4 5 6]\n",
      " [7 8 9]]\n",
      "type:<class 'numpy.ndarray'>\n",
      "shape: (3, 3), dimension: 2, dtype:int32\n",
      "Array's Data:\n",
      " [[10 11 12]\n",
      " [13 14 15]\n",
      " [16 17 18]]\n"
     ]
    }
   ],
   "source": [
    "a = np.arange(1,10).reshape(3,3)\n",
    "pprint(a)\n",
    "b = np.arange(10,19).reshape(3,3)\n",
    "pprint(b)"
   ]
  },
  {
   "cell_type": "markdown",
   "id": "d123b32d",
   "metadata": {},
   "source": [
    "+ axis 지정하지 않을 경우"
   ]
  },
  {
   "cell_type": "code",
   "execution_count": 84,
   "id": "f2214d0e",
   "metadata": {},
   "outputs": [
    {
     "name": "stdout",
     "output_type": "stream",
     "text": [
      "type:<class 'numpy.ndarray'>\n",
      "shape: (18,), dimension: 1, dtype:int32\n",
      "Array's Data:\n",
      " [ 1  2  3  4  5  6  7  8  9 10 11 12 13 14 15 16 17 18]\n"
     ]
    }
   ],
   "source": [
    "result = np.append(a, b) # a배열 뒤에 b배열 추가하며 1차원 배열로 생성\n",
    "pprint(result)"
   ]
  },
  {
   "cell_type": "code",
   "execution_count": 85,
   "id": "acaab611",
   "metadata": {},
   "outputs": [
    {
     "name": "stdout",
     "output_type": "stream",
     "text": [
      "type:<class 'numpy.ndarray'>\n",
      "shape: (3, 3), dimension: 2, dtype:int32\n",
      "Array's Data:\n",
      " [[1 2 3]\n",
      " [4 5 6]\n",
      " [7 8 9]]\n"
     ]
    }
   ],
   "source": [
    "# 원본 배열 변경되는 것이 아닌 새로운 배열을 생성\n",
    "pprint(a) "
   ]
  },
  {
   "cell_type": "markdown",
   "id": "5267fc0d",
   "metadata": {},
   "source": [
    "axis = 0 지정"
   ]
  },
  {
   "cell_type": "code",
   "execution_count": 86,
   "id": "ee585091",
   "metadata": {},
   "outputs": [
    {
     "name": "stdout",
     "output_type": "stream",
     "text": [
      "type:<class 'numpy.ndarray'>\n",
      "shape: (6, 3), dimension: 2, dtype:int32\n",
      "Array's Data:\n",
      " [[ 1  2  3]\n",
      " [ 4  5  6]\n",
      " [ 7  8  9]\n",
      " [10 11 12]\n",
      " [13 14 15]\n",
      " [16 17 18]]\n"
     ]
    }
   ],
   "source": [
    "result = np.append(a, b, axis = 0) # axis 0 방향(아래)으로 b 배열 추가 \n",
    "pprint(result)"
   ]
  },
  {
   "cell_type": "code",
   "execution_count": 87,
   "id": "96796048",
   "metadata": {},
   "outputs": [
    {
     "name": "stdout",
     "output_type": "stream",
     "text": [
      "type:<class 'numpy.ndarray'>\n",
      "shape: (2, 5), dimension: 2, dtype:int32\n",
      "Array's Data:\n",
      " [[10 11 12 13 14]\n",
      " [15 16 17 18 19]]\n"
     ]
    }
   ],
   "source": [
    "different_shape_arr = np.arange(10, 20).reshape(2, 5)\n",
    "pprint(different_shape_arr)"
   ]
  },
  {
   "cell_type": "code",
   "execution_count": 88,
   "id": "c06cf88b",
   "metadata": {},
   "outputs": [
    {
     "ename": "ValueError",
     "evalue": "all the input array dimensions for the concatenation axis must match exactly, but along dimension 1, the array at index 0 has size 3 and the array at index 1 has size 5",
     "output_type": "error",
     "traceback": [
      "\u001b[1;31m---------------------------------------------------------------------------\u001b[0m",
      "\u001b[1;31mValueError\u001b[0m                                Traceback (most recent call last)",
      "\u001b[1;32m~\\AppData\\Local\\Temp/ipykernel_11460/2956977150.py\u001b[0m in \u001b[0;36m<module>\u001b[1;34m\u001b[0m\n\u001b[1;32m----> 1\u001b[1;33m \u001b[0mnp\u001b[0m\u001b[1;33m.\u001b[0m\u001b[0mappend\u001b[0m\u001b[1;33m(\u001b[0m\u001b[0ma\u001b[0m\u001b[1;33m,\u001b[0m \u001b[0mdifferent_shape_arr\u001b[0m\u001b[1;33m,\u001b[0m \u001b[0maxis\u001b[0m \u001b[1;33m=\u001b[0m \u001b[1;36m0\u001b[0m\u001b[1;33m)\u001b[0m\u001b[1;33m\u001b[0m\u001b[1;33m\u001b[0m\u001b[0m\n\u001b[0m",
      "\u001b[1;32m<__array_function__ internals>\u001b[0m in \u001b[0;36mappend\u001b[1;34m(*args, **kwargs)\u001b[0m\n",
      "\u001b[1;32m~\\.conda\\envs\\shPrac\\lib\\site-packages\\numpy\\lib\\function_base.py\u001b[0m in \u001b[0;36mappend\u001b[1;34m(arr, values, axis)\u001b[0m\n\u001b[0;32m   4815\u001b[0m         \u001b[0mvalues\u001b[0m \u001b[1;33m=\u001b[0m \u001b[0mravel\u001b[0m\u001b[1;33m(\u001b[0m\u001b[0mvalues\u001b[0m\u001b[1;33m)\u001b[0m\u001b[1;33m\u001b[0m\u001b[1;33m\u001b[0m\u001b[0m\n\u001b[0;32m   4816\u001b[0m         \u001b[0maxis\u001b[0m \u001b[1;33m=\u001b[0m \u001b[0marr\u001b[0m\u001b[1;33m.\u001b[0m\u001b[0mndim\u001b[0m\u001b[1;33m-\u001b[0m\u001b[1;36m1\u001b[0m\u001b[1;33m\u001b[0m\u001b[1;33m\u001b[0m\u001b[0m\n\u001b[1;32m-> 4817\u001b[1;33m     \u001b[1;32mreturn\u001b[0m \u001b[0mconcatenate\u001b[0m\u001b[1;33m(\u001b[0m\u001b[1;33m(\u001b[0m\u001b[0marr\u001b[0m\u001b[1;33m,\u001b[0m \u001b[0mvalues\u001b[0m\u001b[1;33m)\u001b[0m\u001b[1;33m,\u001b[0m \u001b[0maxis\u001b[0m\u001b[1;33m=\u001b[0m\u001b[0maxis\u001b[0m\u001b[1;33m)\u001b[0m\u001b[1;33m\u001b[0m\u001b[1;33m\u001b[0m\u001b[0m\n\u001b[0m\u001b[0;32m   4818\u001b[0m \u001b[1;33m\u001b[0m\u001b[0m\n\u001b[0;32m   4819\u001b[0m \u001b[1;33m\u001b[0m\u001b[0m\n",
      "\u001b[1;32m<__array_function__ internals>\u001b[0m in \u001b[0;36mconcatenate\u001b[1;34m(*args, **kwargs)\u001b[0m\n",
      "\u001b[1;31mValueError\u001b[0m: all the input array dimensions for the concatenation axis must match exactly, but along dimension 1, the array at index 0 has size 3 and the array at index 1 has size 5"
     ]
    }
   ],
   "source": [
    "np.append(a, different_shape_arr, axis = 0)"
   ]
  },
  {
   "cell_type": "markdown",
   "id": "df7c4859",
   "metadata": {},
   "source": [
    "기준축 shape[0]을 제외한 나머지 shape이 다를 경우 에러 발생"
   ]
  },
  {
   "cell_type": "code",
   "execution_count": 91,
   "id": "71b81e1d",
   "metadata": {},
   "outputs": [
    {
     "name": "stdout",
     "output_type": "stream",
     "text": [
      "type:<class 'numpy.ndarray'>\n",
      "shape: (2, 3), dimension: 2, dtype:int32\n",
      "Array's Data:\n",
      " [[4 5 6]\n",
      " [7 8 9]]\n"
     ]
    }
   ],
   "source": [
    "pprint(a[1:])"
   ]
  },
  {
   "cell_type": "code",
   "execution_count": 92,
   "id": "ee129b29",
   "metadata": {},
   "outputs": [
    {
     "name": "stdout",
     "output_type": "stream",
     "text": [
      "type:<class 'numpy.ndarray'>\n",
      "shape: (1, 5), dimension: 2, dtype:int32\n",
      "Array's Data:\n",
      " [[15 16 17 18 19]]\n"
     ]
    }
   ],
   "source": [
    "pprint(different_shape_arr[1:])"
   ]
  },
  {
   "cell_type": "markdown",
   "id": "1256b46c",
   "metadata": {},
   "source": [
    "+ axis = 1 지정"
   ]
  },
  {
   "cell_type": "code",
   "execution_count": 93,
   "id": "64515399",
   "metadata": {},
   "outputs": [
    {
     "name": "stdout",
     "output_type": "stream",
     "text": [
      "type:<class 'numpy.ndarray'>\n",
      "shape: (3, 6), dimension: 2, dtype:int32\n",
      "Array's Data:\n",
      " [[ 1  2  3 10 11 12]\n",
      " [ 4  5  6 13 14 15]\n",
      " [ 7  8  9 16 17 18]]\n"
     ]
    }
   ],
   "source": [
    "result = np.append(a, b, axis = 1) # axis 1 방향(옆)으로 b 배열 추가\n",
    "pprint(result)"
   ]
  },
  {
   "cell_type": "code",
   "execution_count": 95,
   "id": "5ba83d15",
   "metadata": {},
   "outputs": [
    {
     "name": "stdout",
     "output_type": "stream",
     "text": [
      "type:<class 'numpy.ndarray'>\n",
      "shape: (5, 2), dimension: 2, dtype:int32\n",
      "Array's Data:\n",
      " [[10 11]\n",
      " [12 13]\n",
      " [14 15]\n",
      " [16 17]\n",
      " [18 19]]\n"
     ]
    }
   ],
   "source": [
    "different_shape_arr = np.arange(10, 20).reshape(5, 2)\n",
    "pprint(different_shape_arr)"
   ]
  },
  {
   "cell_type": "code",
   "execution_count": 96,
   "id": "78501786",
   "metadata": {},
   "outputs": [
    {
     "ename": "ValueError",
     "evalue": "all the input array dimensions for the concatenation axis must match exactly, but along dimension 0, the array at index 0 has size 3 and the array at index 1 has size 5",
     "output_type": "error",
     "traceback": [
      "\u001b[1;31m---------------------------------------------------------------------------\u001b[0m",
      "\u001b[1;31mValueError\u001b[0m                                Traceback (most recent call last)",
      "\u001b[1;32m~\\AppData\\Local\\Temp/ipykernel_11460/4090876970.py\u001b[0m in \u001b[0;36m<module>\u001b[1;34m\u001b[0m\n\u001b[1;32m----> 1\u001b[1;33m \u001b[0mnp\u001b[0m\u001b[1;33m.\u001b[0m\u001b[0mappend\u001b[0m\u001b[1;33m(\u001b[0m\u001b[0ma\u001b[0m\u001b[1;33m,\u001b[0m \u001b[0mdifferent_shape_arr\u001b[0m\u001b[1;33m,\u001b[0m \u001b[0maxis\u001b[0m \u001b[1;33m=\u001b[0m \u001b[1;36m1\u001b[0m\u001b[1;33m)\u001b[0m\u001b[1;33m\u001b[0m\u001b[1;33m\u001b[0m\u001b[0m\n\u001b[0m",
      "\u001b[1;32m<__array_function__ internals>\u001b[0m in \u001b[0;36mappend\u001b[1;34m(*args, **kwargs)\u001b[0m\n",
      "\u001b[1;32m~\\.conda\\envs\\shPrac\\lib\\site-packages\\numpy\\lib\\function_base.py\u001b[0m in \u001b[0;36mappend\u001b[1;34m(arr, values, axis)\u001b[0m\n\u001b[0;32m   4815\u001b[0m         \u001b[0mvalues\u001b[0m \u001b[1;33m=\u001b[0m \u001b[0mravel\u001b[0m\u001b[1;33m(\u001b[0m\u001b[0mvalues\u001b[0m\u001b[1;33m)\u001b[0m\u001b[1;33m\u001b[0m\u001b[1;33m\u001b[0m\u001b[0m\n\u001b[0;32m   4816\u001b[0m         \u001b[0maxis\u001b[0m \u001b[1;33m=\u001b[0m \u001b[0marr\u001b[0m\u001b[1;33m.\u001b[0m\u001b[0mndim\u001b[0m\u001b[1;33m-\u001b[0m\u001b[1;36m1\u001b[0m\u001b[1;33m\u001b[0m\u001b[1;33m\u001b[0m\u001b[0m\n\u001b[1;32m-> 4817\u001b[1;33m     \u001b[1;32mreturn\u001b[0m \u001b[0mconcatenate\u001b[0m\u001b[1;33m(\u001b[0m\u001b[1;33m(\u001b[0m\u001b[0marr\u001b[0m\u001b[1;33m,\u001b[0m \u001b[0mvalues\u001b[0m\u001b[1;33m)\u001b[0m\u001b[1;33m,\u001b[0m \u001b[0maxis\u001b[0m\u001b[1;33m=\u001b[0m\u001b[0maxis\u001b[0m\u001b[1;33m)\u001b[0m\u001b[1;33m\u001b[0m\u001b[1;33m\u001b[0m\u001b[0m\n\u001b[0m\u001b[0;32m   4818\u001b[0m \u001b[1;33m\u001b[0m\u001b[0m\n\u001b[0;32m   4819\u001b[0m \u001b[1;33m\u001b[0m\u001b[0m\n",
      "\u001b[1;32m<__array_function__ internals>\u001b[0m in \u001b[0;36mconcatenate\u001b[1;34m(*args, **kwargs)\u001b[0m\n",
      "\u001b[1;31mValueError\u001b[0m: all the input array dimensions for the concatenation axis must match exactly, but along dimension 0, the array at index 0 has size 3 and the array at index 1 has size 5"
     ]
    }
   ],
   "source": [
    "np.append(a, different_shape_arr, axis = 1)"
   ]
  },
  {
   "cell_type": "markdown",
   "id": "826d0f36",
   "metadata": {},
   "source": [
    "기준축 shape[1]이 다를 경우 append 오류 발생"
   ]
  },
  {
   "cell_type": "markdown",
   "id": "74b9a1e1",
   "metadata": {},
   "source": [
    "insert() : axis 지정하지 않을 경우 1차원 배열로 변환"
   ]
  },
  {
   "cell_type": "code",
   "execution_count": 97,
   "id": "e99f1dc2",
   "metadata": {},
   "outputs": [
    {
     "name": "stdout",
     "output_type": "stream",
     "text": [
      "type:<class 'numpy.ndarray'>\n",
      "shape: (3, 3), dimension: 2, dtype:int32\n",
      "Array's Data:\n",
      " [[1 2 3]\n",
      " [4 5 6]\n",
      " [7 8 9]]\n"
     ]
    }
   ],
   "source": [
    "a = np.arange(1, 10).reshape(3, 3)\n",
    "pprint(a)"
   ]
  },
  {
   "cell_type": "code",
   "execution_count": 98,
   "id": "0898d3cb",
   "metadata": {},
   "outputs": [
    {
     "data": {
      "text/plain": [
       "array([ 1, 99,  2,  3,  4,  5,  6,  7,  8,  9])"
      ]
     },
     "execution_count": 98,
     "metadata": {},
     "output_type": "execute_result"
    }
   ],
   "source": [
    "# a 배열이 1차원 배열로 변환되고 1번 index에 99 추가\n",
    "np.insert(a, 1, 99)"
   ]
  },
  {
   "cell_type": "code",
   "execution_count": 99,
   "id": "806443e7",
   "metadata": {},
   "outputs": [
    {
     "data": {
      "text/plain": [
       "array([[  1,   2,   3],\n",
       "       [999, 999, 999],\n",
       "       [  4,   5,   6],\n",
       "       [  7,   8,   9]])"
      ]
     },
     "execution_count": 99,
     "metadata": {},
     "output_type": "execute_result"
    }
   ],
   "source": [
    "# a 배열의 axis 0 방향의 1번 index에 999 추가\n",
    "np.insert(a, 1, 999, axis = 0)"
   ]
  },
  {
   "cell_type": "code",
   "execution_count": 100,
   "id": "72a3e544",
   "metadata": {},
   "outputs": [
    {
     "data": {
      "text/plain": [
       "array([[  1, 999,   2,   3],\n",
       "       [  4, 999,   5,   6],\n",
       "       [  7, 999,   8,   9]])"
      ]
     },
     "execution_count": 100,
     "metadata": {},
     "output_type": "execute_result"
    }
   ],
   "source": [
    "# a 배열의 axis 1 방향의 1번 index에 999 추가\n",
    "np.insert(a, 1, 999, axis = 1)"
   ]
  },
  {
   "cell_type": "markdown",
   "id": "66aa76d1",
   "metadata": {},
   "source": [
    "delete() : axis 지정하지 않을 경우 1차원 배열로 반환      \n",
    "delete() 함수는 원본 배열을 변경하지 않고 새로운 배열 반환"
   ]
  },
  {
   "cell_type": "code",
   "execution_count": 102,
   "id": "c9fc8a2f",
   "metadata": {},
   "outputs": [
    {
     "name": "stdout",
     "output_type": "stream",
     "text": [
      "type:<class 'numpy.ndarray'>\n",
      "shape: (3, 3), dimension: 2, dtype:int32\n",
      "Array's Data:\n",
      " [[1 2 3]\n",
      " [4 5 6]\n",
      " [7 8 9]]\n"
     ]
    }
   ],
   "source": [
    "a = np.arange(1, 10).reshape(3, 3)\n",
    "pprint(a)"
   ]
  },
  {
   "cell_type": "code",
   "execution_count": 103,
   "id": "62559b0d",
   "metadata": {},
   "outputs": [
    {
     "data": {
      "text/plain": [
       "array([1, 3, 4, 5, 6, 7, 8, 9])"
      ]
     },
     "execution_count": 103,
     "metadata": {},
     "output_type": "execute_result"
    }
   ],
   "source": [
    "np.delete(a, 1)"
   ]
  },
  {
   "cell_type": "code",
   "execution_count": 104,
   "id": "6b870a2e",
   "metadata": {},
   "outputs": [
    {
     "data": {
      "text/plain": [
       "array([[1, 2, 3],\n",
       "       [7, 8, 9]])"
      ]
     },
     "execution_count": 104,
     "metadata": {},
     "output_type": "execute_result"
    }
   ],
   "source": [
    "np.delete(a, 1, axis = 0)"
   ]
  },
  {
   "cell_type": "code",
   "execution_count": 105,
   "id": "4f9f9aa9",
   "metadata": {},
   "outputs": [
    {
     "data": {
      "text/plain": [
       "array([[1, 3],\n",
       "       [4, 6],\n",
       "       [7, 9]])"
      ]
     },
     "execution_count": 105,
     "metadata": {},
     "output_type": "execute_result"
    }
   ],
   "source": [
    "np.delete(a, 1, axis = 1)"
   ]
  },
  {
   "cell_type": "code",
   "execution_count": 107,
   "id": "5f33dbd3",
   "metadata": {},
   "outputs": [
    {
     "name": "stdout",
     "output_type": "stream",
     "text": [
      "type:<class 'numpy.ndarray'>\n",
      "shape: (3, 3), dimension: 2, dtype:int32\n",
      "Array's Data:\n",
      " [[1 2 3]\n",
      " [4 5 6]\n",
      " [7 8 9]]\n"
     ]
    }
   ],
   "source": [
    "pprint(a) # 원본 배열 변화 없음"
   ]
  },
  {
   "cell_type": "markdown",
   "id": "3126f544",
   "metadata": {},
   "source": [
    "###### 배열 결합"
   ]
  },
  {
   "cell_type": "markdown",
   "id": "d5999dc1",
   "metadata": {},
   "source": [
    "concatenate()"
   ]
  },
  {
   "cell_type": "code",
   "execution_count": 108,
   "id": "245063d1",
   "metadata": {},
   "outputs": [
    {
     "name": "stdout",
     "output_type": "stream",
     "text": [
      "type:<class 'numpy.ndarray'>\n",
      "shape: (2, 3), dimension: 2, dtype:int32\n",
      "Array's Data:\n",
      " [[1 2 3]\n",
      " [4 5 6]]\n",
      "type:<class 'numpy.ndarray'>\n",
      "shape: (2, 3), dimension: 2, dtype:int32\n",
      "Array's Data:\n",
      " [[ 7  8  9]\n",
      " [10 11 12]]\n"
     ]
    }
   ],
   "source": [
    "a = np.arange(1, 7).reshape((2,3))\n",
    "pprint(a)\n",
    "b = np.arange(7, 13).reshape((2,3))\n",
    "pprint(b)"
   ]
  },
  {
   "cell_type": "code",
   "execution_count": 109,
   "id": "220c81a3",
   "metadata": {},
   "outputs": [
    {
     "data": {
      "text/plain": [
       "array([[ 1,  2,  3],\n",
       "       [ 4,  5,  6],\n",
       "       [ 7,  8,  9],\n",
       "       [10, 11, 12]])"
      ]
     },
     "execution_count": 109,
     "metadata": {},
     "output_type": "execute_result"
    }
   ],
   "source": [
    "result = np.concatenate((a,b)) # axis default = 0\n",
    "result"
   ]
  },
  {
   "cell_type": "code",
   "execution_count": 110,
   "id": "4e17a00d",
   "metadata": {},
   "outputs": [
    {
     "data": {
      "text/plain": [
       "array([[ 1,  2,  3],\n",
       "       [ 4,  5,  6],\n",
       "       [ 7,  8,  9],\n",
       "       [10, 11, 12]])"
      ]
     },
     "execution_count": 110,
     "metadata": {},
     "output_type": "execute_result"
    }
   ],
   "source": [
    "result = np.concatenate((a,b), axis = 0)\n",
    "result"
   ]
  },
  {
   "cell_type": "code",
   "execution_count": 111,
   "id": "da22504c",
   "metadata": {},
   "outputs": [
    {
     "data": {
      "text/plain": [
       "array([[ 1,  2,  3,  7,  8,  9],\n",
       "       [ 4,  5,  6, 10, 11, 12]])"
      ]
     },
     "execution_count": 111,
     "metadata": {},
     "output_type": "execute_result"
    }
   ],
   "source": [
    "result = np.concatenate((a,b), axis = 1)\n",
    "result"
   ]
  },
  {
   "cell_type": "code",
   "execution_count": 112,
   "id": "c9df07ff",
   "metadata": {},
   "outputs": [
    {
     "name": "stdout",
     "output_type": "stream",
     "text": [
      "type:<class 'numpy.ndarray'>\n",
      "shape: (2, 3), dimension: 2, dtype:int32\n",
      "Array's Data:\n",
      " [[1 2 3]\n",
      " [4 5 6]]\n",
      "type:<class 'numpy.ndarray'>\n",
      "shape: (2, 3), dimension: 2, dtype:int32\n",
      "Array's Data:\n",
      " [[ 7  8  9]\n",
      " [10 11 12]]\n"
     ]
    }
   ],
   "source": [
    "pprint(a)\n",
    "pprint(b)"
   ]
  },
  {
   "cell_type": "markdown",
   "id": "e0a2e9ea",
   "metadata": {},
   "source": [
    "+ 수직 방향 배열 결합"
   ]
  },
  {
   "cell_type": "markdown",
   "id": "2827801f",
   "metadata": {},
   "source": [
    "vstack(tuple) : tuple을 매개변수로 넣어주어야 함       \n",
    "tuple로 설정된 여러 배열을 수직 방향으로 연결 (axis = 0 방향)        \n",
    "concatenate(tuple, axis = 0)과 동일"
   ]
  },
  {
   "cell_type": "code",
   "execution_count": 115,
   "id": "0ae4556c",
   "metadata": {},
   "outputs": [
    {
     "name": "stdout",
     "output_type": "stream",
     "text": [
      "type:<class 'numpy.ndarray'>\n",
      "shape: (2, 3), dimension: 2, dtype:int32\n",
      "Array's Data:\n",
      " [[1 2 3]\n",
      " [4 5 6]]\n",
      "type:<class 'numpy.ndarray'>\n",
      "shape: (2, 3), dimension: 2, dtype:int32\n",
      "Array's Data:\n",
      " [[ 7  8  9]\n",
      " [10 11 12]]\n"
     ]
    }
   ],
   "source": [
    "a = np.arange(1,7).reshape((2,3))\n",
    "pprint(a)\n",
    "b = np.arange(7,13).reshape((2,3))\n",
    "pprint(b)"
   ]
  },
  {
   "cell_type": "code",
   "execution_count": 116,
   "id": "81b5ea68",
   "metadata": {},
   "outputs": [
    {
     "data": {
      "text/plain": [
       "array([[ 1,  2,  3],\n",
       "       [ 4,  5,  6],\n",
       "       [ 7,  8,  9],\n",
       "       [10, 11, 12]])"
      ]
     },
     "execution_count": 116,
     "metadata": {},
     "output_type": "execute_result"
    }
   ],
   "source": [
    "np.vstack((a, b)) # tuple 형태로 입력"
   ]
  },
  {
   "cell_type": "code",
   "execution_count": 117,
   "id": "26e8acf2",
   "metadata": {},
   "outputs": [
    {
     "data": {
      "text/plain": [
       "array([[ 1,  2,  3],\n",
       "       [ 4,  5,  6],\n",
       "       [ 7,  8,  9],\n",
       "       [10, 11, 12],\n",
       "       [ 1,  2,  3],\n",
       "       [ 4,  5,  6],\n",
       "       [ 7,  8,  9],\n",
       "       [10, 11, 12]])"
      ]
     },
     "execution_count": 117,
     "metadata": {},
     "output_type": "execute_result"
    }
   ],
   "source": [
    "np.vstack((a, b, a, b)) # 4개 배열을 tuple로 입력"
   ]
  },
  {
   "cell_type": "markdown",
   "id": "7db6e803",
   "metadata": {},
   "source": [
    "+ 수평 방향 배열 결합"
   ]
  },
  {
   "cell_type": "markdown",
   "id": "1cfb6793",
   "metadata": {},
   "source": [
    "hstack(tuple)         \n",
    "tuple로 설정된 여러 배열을 수평 방향으로 연결 (axis = 1 방향)     \n",
    "concatenate(tuple, axis = 1)과 동일"
   ]
  },
  {
   "cell_type": "code",
   "execution_count": 118,
   "id": "8d5e9f5c",
   "metadata": {},
   "outputs": [
    {
     "name": "stdout",
     "output_type": "stream",
     "text": [
      "type:<class 'numpy.ndarray'>\n",
      "shape: (2, 3), dimension: 2, dtype:int32\n",
      "Array's Data:\n",
      " [[1 2 3]\n",
      " [4 5 6]]\n",
      "type:<class 'numpy.ndarray'>\n",
      "shape: (2, 3), dimension: 2, dtype:int32\n",
      "Array's Data:\n",
      " [[ 7  8  9]\n",
      " [10 11 12]]\n"
     ]
    }
   ],
   "source": [
    "a = np.arange(1,7).reshape((2,3))\n",
    "pprint(a)\n",
    "b = np.arange(7,13).reshape((2,3))\n",
    "pprint(b)"
   ]
  },
  {
   "cell_type": "code",
   "execution_count": 119,
   "id": "f5bbd2ac",
   "metadata": {},
   "outputs": [
    {
     "data": {
      "text/plain": [
       "array([[ 1,  2,  3,  7,  8,  9],\n",
       "       [ 4,  5,  6, 10, 11, 12]])"
      ]
     },
     "execution_count": 119,
     "metadata": {},
     "output_type": "execute_result"
    }
   ],
   "source": [
    "np.hstack((a, b)) # tuple 형태로 입력"
   ]
  },
  {
   "cell_type": "code",
   "execution_count": 120,
   "id": "1fe049de",
   "metadata": {},
   "outputs": [
    {
     "data": {
      "text/plain": [
       "array([[ 1,  2,  3,  7,  8,  9,  1,  2,  3,  7,  8,  9],\n",
       "       [ 4,  5,  6, 10, 11, 12,  4,  5,  6, 10, 11, 12]])"
      ]
     },
     "execution_count": 120,
     "metadata": {},
     "output_type": "execute_result"
    }
   ],
   "source": [
    "np.hstack((a, b, a, b)) # 4개 배열을 tuple로 입력"
   ]
  },
  {
   "cell_type": "markdown",
   "id": "8ef77993",
   "metadata": {},
   "source": [
    "###### 배열 분리"
   ]
  },
  {
   "cell_type": "markdown",
   "id": "c7b141e6",
   "metadata": {},
   "source": [
    "+ 배열 수평 분할"
   ]
  },
  {
   "cell_type": "markdown",
   "id": "a8c86e36",
   "metadata": {},
   "source": [
    "hsplit() : 배열을 수평 방향(열 방향)으로 분할 "
   ]
  },
  {
   "cell_type": "code",
   "execution_count": 121,
   "id": "cb9d9ebd",
   "metadata": {},
   "outputs": [
    {
     "name": "stdout",
     "output_type": "stream",
     "text": [
      "type:<class 'numpy.ndarray'>\n",
      "shape: (4, 6), dimension: 2, dtype:int32\n",
      "Array's Data:\n",
      " [[ 1  2  3  4  5  6]\n",
      " [ 7  8  9 10 11 12]\n",
      " [13 14 15 16 17 18]\n",
      " [19 20 21 22 23 24]]\n"
     ]
    }
   ],
   "source": [
    "a = np.arange(1, 25).reshape((4, 6))\n",
    "pprint(a)"
   ]
  },
  {
   "cell_type": "code",
   "execution_count": 122,
   "id": "8c7d1e9d",
   "metadata": {},
   "outputs": [
    {
     "data": {
      "text/plain": [
       "[array([[ 1,  2,  3],\n",
       "        [ 7,  8,  9],\n",
       "        [13, 14, 15],\n",
       "        [19, 20, 21]]),\n",
       " array([[ 4,  5,  6],\n",
       "        [10, 11, 12],\n",
       "        [16, 17, 18],\n",
       "        [22, 23, 24]])]"
      ]
     },
     "execution_count": 122,
     "metadata": {},
     "output_type": "execute_result"
    }
   ],
   "source": [
    "# 수평 방향으로 두 그룹으로 분할\n",
    "result = np.hsplit(a, 2)\n",
    "result"
   ]
  },
  {
   "cell_type": "code",
   "execution_count": 123,
   "id": "b447966c",
   "metadata": {},
   "outputs": [
    {
     "data": {
      "text/plain": [
       "[array([[ 1,  2],\n",
       "        [ 7,  8],\n",
       "        [13, 14],\n",
       "        [19, 20]]),\n",
       " array([[ 3,  4],\n",
       "        [ 9, 10],\n",
       "        [15, 16],\n",
       "        [21, 22]]),\n",
       " array([[ 5,  6],\n",
       "        [11, 12],\n",
       "        [17, 18],\n",
       "        [23, 24]])]"
      ]
     },
     "execution_count": 123,
     "metadata": {},
     "output_type": "execute_result"
    }
   ],
   "source": [
    "# 수평 방향으로 세 그룹으로 분할\n",
    "result = np.hsplit(a, 3)\n",
    "result"
   ]
  },
  {
   "cell_type": "code",
   "execution_count": 124,
   "id": "81fcd915",
   "metadata": {},
   "outputs": [
    {
     "data": {
      "text/plain": [
       "[array([[ 1],\n",
       "        [ 7],\n",
       "        [13],\n",
       "        [19]]),\n",
       " array([[ 2,  3],\n",
       "        [ 8,  9],\n",
       "        [14, 15],\n",
       "        [20, 21]]),\n",
       " array([[ 4,  5],\n",
       "        [10, 11],\n",
       "        [16, 17],\n",
       "        [22, 23]]),\n",
       " array([[ 6],\n",
       "        [12],\n",
       "        [18],\n",
       "        [24]])]"
      ]
     },
     "execution_count": 124,
     "metadata": {},
     "output_type": "execute_result"
    }
   ],
   "source": [
    "# 수평 방향으로 여러 구간으로 분할\n",
    "result = np.hsplit(a, [1, 3, 5])\n",
    "# a[:, :1], a[:, 1:3], a[:, 3:5], a[:, 5:]\n",
    "result"
   ]
  },
  {
   "cell_type": "markdown",
   "id": "c2af44f0",
   "metadata": {},
   "source": [
    "+ 배열 수직 분할"
   ]
  },
  {
   "cell_type": "markdown",
   "id": "6421993d",
   "metadata": {},
   "source": [
    "vsplit() : 배열을 수직 방향(행 방향)으로 분할"
   ]
  },
  {
   "cell_type": "code",
   "execution_count": 125,
   "id": "db8f4a72",
   "metadata": {},
   "outputs": [
    {
     "name": "stdout",
     "output_type": "stream",
     "text": [
      "type:<class 'numpy.ndarray'>\n",
      "shape: (4, 6), dimension: 2, dtype:int32\n",
      "Array's Data:\n",
      " [[ 1  2  3  4  5  6]\n",
      " [ 7  8  9 10 11 12]\n",
      " [13 14 15 16 17 18]\n",
      " [19 20 21 22 23 24]]\n"
     ]
    }
   ],
   "source": [
    "a = np.arange(1, 25).reshape((4, 6))\n",
    "pprint(a)"
   ]
  },
  {
   "cell_type": "code",
   "execution_count": 126,
   "id": "7d1a29ea",
   "metadata": {},
   "outputs": [
    {
     "data": {
      "text/plain": [
       "[array([[ 1,  2,  3,  4,  5,  6],\n",
       "        [ 7,  8,  9, 10, 11, 12]]),\n",
       " array([[13, 14, 15, 16, 17, 18],\n",
       "        [19, 20, 21, 22, 23, 24]])]"
      ]
     },
     "execution_count": 126,
     "metadata": {},
     "output_type": "execute_result"
    }
   ],
   "source": [
    "# 수직 방향으로 두 그룹으로 분할\n",
    "result = np.vsplit(a, 2)\n",
    "# a[:2], a[2:]\n",
    "result"
   ]
  },
  {
   "cell_type": "code",
   "execution_count": 130,
   "id": "ef23376a",
   "metadata": {},
   "outputs": [
    {
     "data": {
      "text/plain": [
       "[array([[1, 2, 3, 4, 5, 6]]),\n",
       " array([[ 7,  8,  9, 10, 11, 12]]),\n",
       " array([[13, 14, 15, 16, 17, 18]]),\n",
       " array([[19, 20, 21, 22, 23, 24]])]"
      ]
     },
     "execution_count": 130,
     "metadata": {},
     "output_type": "execute_result"
    }
   ],
   "source": [
    "# 수직 방향으로 네 그룹으로 분할\n",
    "result=np.vsplit(a, 4)\n",
    "# a[:1], a[1:2], a[2:3], a[3:]\n",
    "result"
   ]
  },
  {
   "cell_type": "code",
   "execution_count": 131,
   "id": "13b67f90",
   "metadata": {},
   "outputs": [
    {
     "data": {
      "text/plain": [
       "[array([[1, 2, 3, 4, 5, 6]]),\n",
       " array([[ 7,  8,  9, 10, 11, 12],\n",
       "        [13, 14, 15, 16, 17, 18]]),\n",
       " array([[19, 20, 21, 22, 23, 24]])]"
      ]
     },
     "execution_count": 131,
     "metadata": {},
     "output_type": "execute_result"
    }
   ],
   "source": [
    "# a[:1], a[1:3], a[3:]\n",
    "np.vsplit(a, [1, 3])"
   ]
  },
  {
   "cell_type": "code",
   "execution_count": null,
   "id": "6815ba52",
   "metadata": {},
   "outputs": [],
   "source": []
  }
 ],
 "metadata": {
  "kernelspec": {
   "display_name": "Python 3 (ipykernel)",
   "language": "python",
   "name": "python3"
  },
  "language_info": {
   "codemirror_mode": {
    "name": "ipython",
    "version": 3
   },
   "file_extension": ".py",
   "mimetype": "text/x-python",
   "name": "python",
   "nbconvert_exporter": "python",
   "pygments_lexer": "ipython3",
   "version": "3.9.6"
  }
 },
 "nbformat": 4,
 "nbformat_minor": 5
}
